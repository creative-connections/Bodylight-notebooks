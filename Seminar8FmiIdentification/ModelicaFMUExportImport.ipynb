{
 "cells": [
  {
   "cell_type": "markdown",
   "metadata": {},
   "source": [
    "# Modelica FMU Export/Import\n",
    "\n",
    "Tento interaktivní dokument předvede vybrané koncepty zpracování dat s matematickými modely.\n",
    "\n",
    "Toto je tzv. Jupyter notebook - interaktivní dokument, který kombinuje text (syntaxe Markdown) a programový kód (v jazyku Python). Python a Jupyter notebook je standardní součástí balíku Anaconda (ve VM), další jazyky lze doinstalovat jako tzv. jádra (jupyter kernel) pro Julia, R, Javascript, Modelica, Matlab, atd.\n",
    "\n",
    "V dalších textech budeme používat jazyk Python v kódu a model z Modeliky exportovaný pomocí standardu FMU a knihoven `fmpy` a `pyfmi`.\n",
    "\n",
    "Lze procházet jednotlivými buňkami kurzorovými klávesami. `Shift+Enter` vyhodnotí buňku (textovou buňku zformátuje, buňku s kódem interpretuje v jazyce Python). Kód i text lze libovolně měnit a vykonat opětovným stisknutím `Shift+Enter`. Textový nebo numerický výsledek se zobrazí pod buňkou, grafický výsledek se zobrazí jako obrázek. `B` vloží novou buňku pod kurzor, `X` smaže aktuální buňku. Další viz `Help -> `."
   ]
  },
  {
   "cell_type": "markdown",
   "metadata": {},
   "source": [
    "## 1. Export FMU\n",
    "\n",
    "Vytvořte model pružiny, kuličky a tlumícího členu z komponent viz model ze semináře 5 s parametry viz diagram.\n",
    "![alt text](SpringMassDumpComponent.PNG \"Spring Mass Dumped Model\")\n",
    "\n",
    "1. Exportujte do FMU v módu Model Exchange, verze 2.0\n",
    "\n",
    "2. otevřete ve VM `python -m fmpy.gui` a importujte FMU z bodu 1, odsimulujte, měňte parametry a simulujte znovu, volte fixed step solver (Euler) a variable step solver (CVODE), ...\n",
    "\n",
    "3. Exportujte do FMU v módu Co-Simulation, verze 2.0\n",
    "\n",
    "4. otevřete ve VM `python -m fmpy.gui` a importujte FMU z bodu 3\n"
   ]
  },
  {
   "cell_type": "markdown",
   "metadata": {},
   "source": [
    "## 2. Základní koncepty v jazyku Python\n",
    "Python (verze 3.8 a vyšší) je interpretovaný jazyk. Teoreticky je výpočetně pomalejší než srovnatelný kód v kompilovaných jazycích. Některé principy a konstrukty v Pythonu jsou v jiných jazycích obtížné.\n",
    "\n"
   ]
  },
  {
   "cell_type": "code",
   "execution_count": 3,
   "metadata": {},
   "outputs": [
    {
     "data": {
      "text/plain": [
       "-21"
      ]
     },
     "execution_count": 3,
     "metadata": {},
     "output_type": "execute_result"
    }
   ],
   "source": [
    "# Komentáře uvozené znakem \n",
    "# základní algebra a přiřazování do proměnných, '=' není rovnice ale přiřazení\n",
    "a = 37\n",
    "b = 58\n",
    "d = a - b\n",
    "d"
   ]
  },
  {
   "cell_type": "markdown",
   "metadata": {},
   "source": [
    "### 2.1 Úkol, do proměnné `c` dejte výsledek součtu proměnných`a`,`b`\n"
   ]
  },
  {
   "cell_type": "code",
   "execution_count": 4,
   "metadata": {},
   "outputs": [],
   "source": [
    "c = a + b"
   ]
  },
  {
   "cell_type": "code",
   "execution_count": 7,
   "metadata": {},
   "outputs": [],
   "source": [
    "## test jestli je ]kol dobře, nic nevypíše je-li vše v pořádku.\n",
    "assert c == 95"
   ]
  },
  {
   "cell_type": "code",
   "execution_count": 9,
   "metadata": {},
   "outputs": [
    {
     "data": {
      "text/plain": [
       "95"
      ]
     },
     "execution_count": 9,
     "metadata": {},
     "output_type": "execute_result"
    }
   ],
   "source": [
    "# Zobrazení obsahu proměnné, poslední výraz se vypíše\n",
    "c"
   ]
  },
  {
   "cell_type": "code",
   "execution_count": 10,
   "metadata": {},
   "outputs": [
    {
     "name": "stdout",
     "output_type": "stream",
     "text": [
      "c =  95\n"
     ]
    }
   ],
   "source": [
    "# Nebo zobrazení pomocí print()\n",
    "print('c = ',c)"
   ]
  },
  {
   "cell_type": "code",
   "execution_count": 11,
   "metadata": {},
   "outputs": [],
   "source": [
    "# definice funkce, vnitřek funkce je odsazen (indentace) o 4 mezery\n",
    "def add(a,b):\n",
    "    return a+b"
   ]
  },
  {
   "cell_type": "code",
   "execution_count": 15,
   "metadata": {},
   "outputs": [
    {
     "name": "stdout",
     "output_type": "stream",
     "text": [
      "55\n"
     ]
    }
   ],
   "source": [
    "c = add(a,b)\n",
    "d = add(53,2)\n",
    "print(d)"
   ]
  },
  {
   "cell_type": "markdown",
   "metadata": {},
   "source": [
    "### 2.2 Úkol, definujte funkci `subtract` (od prvního argumentu odečtěte druhý)"
   ]
  },
  {
   "cell_type": "code",
   "execution_count": null,
   "metadata": {},
   "outputs": [],
   "source": [
    "def subtract(a,b):\n",
    "    return _\n"
   ]
  },
  {
   "cell_type": "code",
   "execution_count": null,
   "metadata": {},
   "outputs": [],
   "source": [
    "# základní test\n",
    "assert subtract(10,1) == 9\n",
    "assert subtract(5,5) == 0"
   ]
  },
  {
   "cell_type": "code",
   "execution_count": null,
   "metadata": {},
   "outputs": [],
   "source": [
    "# pole\n",
    "y = [10,10,30,45,50,48,45,35,25,16,14,13,12.5,12.1]\n",
    "x = [1,2,3,4,5,6,7,8,9,10,11,12,13,14]"
   ]
  },
  {
   "cell_type": "code",
   "execution_count": null,
   "metadata": {},
   "outputs": [],
   "source": []
  },
  {
   "cell_type": "code",
   "execution_count": null,
   "metadata": {},
   "outputs": [],
   "source": [
    "# vykreslení grafu pomocí matplotlib\n",
    "import matplotlib.pyplot as plt\n",
    "fig = plt.figure()\n",
    "plt.plot(x,y,'r')\n",
    "plt.show()"
   ]
  },
  {
   "cell_type": "code",
   "execution_count": null,
   "metadata": {},
   "outputs": [],
   "source": [
    "# Definujeme si vlastní rutinu pro vykreslení grafu (předchozí zabalíme do funkce plot())\n",
    "def plot(x,y,z=None):\n",
    "    %matplotlib inline\n",
    "    import matplotlib.pyplot as plt\n",
    "    fig = plt.figure()\n",
    "    plt.plot(x,y,'r')\n",
    "    # if z is passed - make second plot in blue color\n",
    "    if z is not None:\n",
    "        plt.plot(x,z,'b')\n",
    "    plt.show()\n",
    "    "
   ]
  },
  {
   "cell_type": "code",
   "execution_count": null,
   "metadata": {},
   "outputs": [],
   "source": [
    "z = [10,11,15,40,45,42,41,32,28,26,24,23,22.5,22.1]"
   ]
  },
  {
   "cell_type": "code",
   "execution_count": null,
   "metadata": {},
   "outputs": [],
   "source": [
    "import math\n",
    "math.sin(10)"
   ]
  },
  {
   "cell_type": "code",
   "execution_count": null,
   "metadata": {},
   "outputs": [],
   "source": [
    "plot(x,y,z)"
   ]
  },
  {
   "cell_type": "code",
   "execution_count": null,
   "metadata": {},
   "outputs": [],
   "source": [
    "# Generator poli `numpy.arange(start,stop,step)`\n",
    "import numpy\n",
    "e = numpy.arange(0,10,0.2)\n",
    "e"
   ]
  },
  {
   "cell_type": "code",
   "execution_count": null,
   "metadata": {},
   "outputs": [],
   "source": [
    "# Matematicke funkce `math.sin()`,math.cos()`,...\n",
    "import math\n",
    "f = math.cos(a)\n",
    "f"
   ]
  },
  {
   "cell_type": "code",
   "execution_count": null,
   "metadata": {},
   "outputs": [],
   "source": [
    "# Aplikace funkce na prvky pole `for i in array`\n",
    "g = [math.cos(ee) for ee in e]"
   ]
  },
  {
   "cell_type": "markdown",
   "metadata": {},
   "source": [
    "### Ukol 2.3, definujte osu x a y pro vykresleni grafu x,y kde y = sin(x) (od 0 do 2 PI a krok 0.1)"
   ]
  },
  {
   "cell_type": "code",
   "execution_count": null,
   "metadata": {},
   "outputs": [],
   "source": [
    "### Ukol 2.3, definujte osu x a y pro vykresleni grafu x,y kde y = sin(x) (od 0 do 2 PI a krok 0.1)\n",
    "x = numpy.arange(_,_,_)\n",
    "y = [_ for xx in x]"
   ]
  },
  {
   "cell_type": "code",
   "execution_count": null,
   "metadata": {},
   "outputs": [],
   "source": [
    "assert (y[10] - 0.8414) < 0.0001"
   ]
  },
  {
   "cell_type": "code",
   "execution_count": null,
   "metadata": {},
   "outputs": [],
   "source": [
    "# kresleni grafu\n",
    "plot(x,y)"
   ]
  },
  {
   "cell_type": "markdown",
   "metadata": {},
   "source": [
    "### Ukol 2.4, definujte z = sin(x)-1/2 sin(2x)+1/4sin(4x)"
   ]
  },
  {
   "cell_type": "code",
   "execution_count": null,
   "metadata": {},
   "outputs": [],
   "source": [
    "### Ukol 2.4, definujte z = sin(x)-1/2 sin(2x)+1/4sin(4x)\n",
    "z = [_ for xx in x]"
   ]
  },
  {
   "cell_type": "code",
   "execution_count": null,
   "metadata": {},
   "outputs": [],
   "source": [
    "assert (z[10]-0.1976) < 0.0001"
   ]
  },
  {
   "cell_type": "code",
   "execution_count": null,
   "metadata": {},
   "outputs": [],
   "source": [
    "\n",
    "plot(x,y,z)"
   ]
  },
  {
   "cell_type": "code",
   "execution_count": null,
   "metadata": {},
   "outputs": [],
   "source": []
  },
  {
   "cell_type": "markdown",
   "metadata": {},
   "source": [
    "# 3. Manipulace s parametry"
   ]
  },
  {
   "cell_type": "markdown",
   "metadata": {},
   "source": [
    "Importujeme model v knihovne fmpy"
   ]
  },
  {
   "cell_type": "code",
   "execution_count": null,
   "metadata": {},
   "outputs": [],
   "source": [
    "import fmpy\n"
   ]
  },
  {
   "cell_type": "code",
   "execution_count": null,
   "metadata": {},
   "outputs": [],
   "source": [
    "model1 = 'fmus/Seminar5.Models.SpringMassComponentME.fmu' "
   ]
  },
  {
   "cell_type": "code",
   "execution_count": null,
   "metadata": {},
   "outputs": [],
   "source": [
    "fmpy.dump(model1)"
   ]
  },
  {
   "cell_type": "code",
   "execution_count": null,
   "metadata": {},
   "outputs": [],
   "source": [
    "result = fmpy.simulate_fmu(\n",
    "    model1,\n",
    "    start_time=0,\n",
    "    stop_time=10,\n",
    "    output=['mechanicalMass.v','mechanicalMass.y','mechanicalSpring.dy'])"
   ]
  },
  {
   "cell_type": "code",
   "execution_count": null,
   "metadata": {},
   "outputs": [],
   "source": [
    "fmpy.util.plot_result(result)"
   ]
  },
  {
   "cell_type": "code",
   "execution_count": null,
   "metadata": {},
   "outputs": [],
   "source": [
    "result"
   ]
  },
  {
   "cell_type": "code",
   "execution_count": null,
   "metadata": {},
   "outputs": [],
   "source": [
    "result['time']"
   ]
  },
  {
   "cell_type": "code",
   "execution_count": null,
   "metadata": {},
   "outputs": [],
   "source": [
    "plot(result['time'],result['mechanicalMass.y'])"
   ]
  },
  {
   "cell_type": "markdown",
   "metadata": {},
   "source": [
    "### Úkol 3.1 Simulujte s jinou hodnotou parametrů `d`, `k`, `m`, `initPos` a se simulačním krokem `0.1`."
   ]
  },
  {
   "cell_type": "code",
   "execution_count": null,
   "metadata": {},
   "outputs": [],
   "source": [
    "# Příklad, vyroben prototyp jednoduchého tlumiče s odpružením pro automobil. Podroben zkoušce se závažím 250 kg. \n",
    "# Jaké jsou hodnoty parametrů k a d? Naměřená data ze souboru springmassdata.csv jsou v intervalu 0.1 sekundy\n",
    "\n",
    "# Odsimulovat s prvním odhadem d=500, k=2300, initPos=0.2\n",
    "result2 = fmpy.simulate_fmu(\n",
    "    model1,\n",
    "    start_time=0,\n",
    "    stop_time=10,\n",
    "    step_size=_,\n",
    "    output=['mechanicalMass.v','mechanicalMass.y','mechanicalSpring.dy'],\n",
    "    start_values={'mechanicalDump.d':_,'mechanicalMass.m':_,'mechanicalSpring.k':_,'mechanicalMass.initPos':_},\n",
    "    solver='CVode')\n",
    "fmpy.util.plot_result(result2)"
   ]
  },
  {
   "cell_type": "code",
   "execution_count": null,
   "metadata": {},
   "outputs": [],
   "source": [
    "# test jestli jste vyplnili parametry dobře\n",
    "assert(abs(result2['mechanicalMass.y'][7])-0.010265) < 0.000001 \n",
    "#result2['mechanicalMass.y'][7]"
   ]
  },
  {
   "cell_type": "markdown",
   "metadata": {},
   "source": [
    "Pro porovnání realných, potřebujeme nejprve data načíst ze souboru:"
   ]
  },
  {
   "cell_type": "code",
   "execution_count": null,
   "metadata": {},
   "outputs": [],
   "source": [
    "datareal = numpy.genfromtxt('springmassdata.csv',delimiter=',')"
   ]
  },
  {
   "cell_type": "markdown",
   "metadata": {},
   "source": [
    "Kolik máme naměřených údaju?"
   ]
  },
  {
   "cell_type": "code",
   "execution_count": null,
   "metadata": {},
   "outputs": [],
   "source": [
    "datareal.size"
   ]
  },
  {
   "cell_type": "markdown",
   "metadata": {},
   "source": [
    "Tzn. musíme kalibrovat data ze simulace s daty z měření - tj. vzít v potaz jen relevantních prvních 43 měření."
   ]
  },
  {
   "cell_type": "code",
   "execution_count": null,
   "metadata": {},
   "outputs": [],
   "source": [
    "datasim0 = result2['mechanicalMass.y']"
   ]
  },
  {
   "cell_type": "code",
   "execution_count": null,
   "metadata": {},
   "outputs": [],
   "source": [
    "datasim0.size"
   ]
  },
  {
   "cell_type": "markdown",
   "metadata": {},
   "source": [
    "### Úkol 3.2 do pole datasim vložte jen prvních 43 hodnot"
   ]
  },
  {
   "cell_type": "code",
   "execution_count": null,
   "metadata": {},
   "outputs": [],
   "source": [
    "datasim = datasim0[0:_]"
   ]
  },
  {
   "cell_type": "code",
   "execution_count": null,
   "metadata": {},
   "outputs": [],
   "source": [
    "assert datasim.size == 43"
   ]
  },
  {
   "cell_type": "markdown",
   "metadata": {},
   "source": [
    "Generujeme ještě data na ose x, tj. čas od 0 do 4.3 s krokem 0.1s"
   ]
  },
  {
   "cell_type": "code",
   "execution_count": null,
   "metadata": {},
   "outputs": [],
   "source": [
    "datax = numpy.arange(0,4.3,0.1)"
   ]
  },
  {
   "cell_type": "markdown",
   "metadata": {},
   "source": [
    "Vykreslíme reálná data a simulovaná data do jednoho grafu"
   ]
  },
  {
   "cell_type": "code",
   "execution_count": null,
   "metadata": {},
   "outputs": [],
   "source": [
    "plot(datax,datareal,datasim)"
   ]
  },
  {
   "cell_type": "markdown",
   "metadata": {},
   "source": [
    "### Úkol 3.3 doplňte ořezání výsledku na prvních 43 hodnot, simulační krok 0.1 a odhadněte interaktivně parametry k a d, které nejvíce odpovídají chování naměřených na reálných datech"
   ]
  },
  {
   "cell_type": "code",
   "execution_count": null,
   "metadata": {},
   "outputs": [],
   "source": [
    "# Interaktivita\n",
    "from ipywidgets import widgets, interact\n",
    "# lets do OAT interactively\n",
    "@interact(massk=widgets.FloatSlider(value=3000, min=2000, max=4000, step=100, continuous_update=False), \n",
    "          dumpd=widgets.FloatSlider(value=600, min=500, max=700, step=10, continuous_update=False))\n",
    "def plot_massspring(massk: float, dumpd: float) -> float :\n",
    "    res = fmpy.simulate_fmu(\n",
    "    model1,\n",
    "    start_time=0,\n",
    "    stop_time=10,\n",
    "    step_size=_,\n",
    "    output=['mechanicalMass.y'],\n",
    "    start_values={'mechanicalDump.d':dumpd,'mechanicalMass.m':250,'mechanicalSpring.k':massk,'mechanicalMass.initPos':0.2},\n",
    "    solver='CVode')\n",
    "    datasim2 = res['mechanicalMass.y'][0:_]    \n",
    "    print(datasim2.size)\n",
    "    plot(datax,datareal,datasim2)"
   ]
  },
  {
   "cell_type": "markdown",
   "metadata": {},
   "source": [
    "# Shrnutí \n",
    "\n",
    "- Exportovali jsme model z Modeliky - standard FMU, vyzkoušeli v nástroji FMPy\n",
    "- Základy Pythonu - interpretovaný jazyk, příkaz je okamžitě vyhodnocen\n",
    "- Importovali jsme model do Pythonu - (v našem případě interaktivní dokument v Jupyter notebooku, což je kombinace textu a kódu)\n",
    "- Simulovali model v Pythonu, změna parametrů\n",
    "- Kalibrace a porovnání modelu s reálnými daty na příkladu pružiny a tlumiče\n",
    "- Odhad parametrů modelu, které nejvíce odpovídají reálným datům\n",
    "- Výpočetní odhad parametrů - identifikace systému - další přednáška a cvičení"
   ]
  },
  {
   "cell_type": "code",
   "execution_count": null,
   "metadata": {},
   "outputs": [],
   "source": []
  }
 ],
 "metadata": {
  "kernelspec": {
   "display_name": "Python 3",
   "language": "python",
   "name": "python3"
  },
  "language_info": {
   "codemirror_mode": {
    "name": "ipython",
    "version": 3
   },
   "file_extension": ".py",
   "mimetype": "text/x-python",
   "name": "python",
   "nbconvert_exporter": "python",
   "pygments_lexer": "ipython3",
   "version": "3.7.6"
  }
 },
 "nbformat": 4,
 "nbformat_minor": 4
}
