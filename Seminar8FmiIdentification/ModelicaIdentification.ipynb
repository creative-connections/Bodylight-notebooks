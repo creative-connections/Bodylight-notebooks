{
 "cells": [
  {
   "cell_type": "markdown",
   "metadata": {},
   "source": [
    "# System identification and parameter estimation\n",
    "\n",
    "This tutorial goes through necesarry steps in order to estimate parameter and identify system as modeled by model.\n",
    "This is jupyter notebook, with text-cells and code-cells with python code. \n",
    "\n",
    "You can run the code cells and execute scripts there by pressing `Shift-Enter`.\n",
    "\n",
    "There are Ellipsis in the code `...` which means you need edit the cell and place some correct value,parameter,identifier based on the task.\n",
    "\n",
    "We will simulate model of glucose insulin regulation which describes well the real regulation within human body. [Type-1 diabetes][1] is a form of diabetes in which very little or no insulin is produced by the pancreas.\n",
    "\n",
    "[1]:https://en.wikipedia.org/wiki/Type_1_diabetes"
   ]
  },
  {
   "cell_type": "markdown",
   "metadata": {},
   "source": [
    "## 1. PyFmi library\n",
    "First you need to import pyfmi library. If the following command doesn't produce any error you may continue."
   ]
  },
  {
   "cell_type": "code",
   "execution_count": 1,
   "metadata": {},
   "outputs": [],
   "source": [
    "from pyfmi import load_fmu"
   ]
  },
  {
   "cell_type": "markdown",
   "metadata": {},
   "source": [
    "if error happens, you need to install pyfmi, e.g. `conda install -c conda-forge pyfmi`."
   ]
  },
  {
   "cell_type": "markdown",
   "metadata": {},
   "source": [
    "## 2. Simulate FMU in Python\n",
    "\n",
    "The GlucoseInsulin model was exported as FMU and is next to this notebook file. (In OpenModelica OMEdit, open the desired model and select FMI -> Export FMU)\n",
    "\n",
    "Load the FMU:\n"
   ]
  },
  {
   "cell_type": "code",
   "execution_count": 2,
   "metadata": {},
   "outputs": [],
   "source": [
    "model = load_fmu('seminar11hw.GIExperiment.fmu')"
   ]
  },
  {
   "cell_type": "markdown",
   "metadata": {},
   "source": [
    "Create default simulation options, we will set it further"
   ]
  },
  {
   "cell_type": "code",
   "execution_count": 3,
   "metadata": {},
   "outputs": [],
   "source": [
    "opts = model.simulate_options()"
   ]
  },
  {
   "cell_type": "code",
   "execution_count": 7,
   "metadata": {},
   "outputs": [],
   "source": [
    "def simulate_relativebeta(relbeta=1,sopts=opts):\n",
    "    model.reset()\n",
    "    model.instantiate()\n",
    "    param_name = 'glucoseInsulinRegulation.beta.k'\n",
    "    model.set(param_name,relbeta*1430/3600)\n",
    "    res = model.simulate(final_time=3*24*60*60,options = sopts) # 2.1 replace ... with 3 days recalculated in seconds\n",
    "    return res"
   ]
  },
  {
   "cell_type": "markdown",
   "metadata": {},
   "source": [
    "Now try to simulate with default values (relbeta `1` and already defined global `opts`)"
   ]
  },
  {
   "cell_type": "code",
   "execution_count": 8,
   "metadata": {},
   "outputs": [
    {
     "name": "stdout",
     "output_type": "stream",
     "text": [
      "Warning: Possible chattering detected at t = 1.872000e+04 in state event(s): [1]\n",
      "Final Run Statistics: --- \n",
      "\n",
      " Number of steps                                 : 669\n",
      " Number of function evaluations                  : 1464\n",
      " Number of Jacobian evaluations                  : 145\n",
      " Number of function eval. due to Jacobian eval.  : 290\n",
      " Number of error test failures                   : 27\n",
      " Number of nonlinear iterations                  : 884\n",
      " Number of nonlinear convergence failures        : 0\n",
      " Number of state function evaluations            : 7137\n",
      " Number of state events                          : 145\n",
      "\n",
      "Solver options:\n",
      "\n",
      " Solver                   : CVode\n",
      " Linear multistep method  : BDF\n",
      " Nonlinear solver         : Newton\n",
      " Linear solver type       : DENSE\n",
      " Maximal order            : 5\n",
      " Tolerances (absolute)    : 1e-08\n",
      " Tolerances (relative)    : 1e-06\n",
      "\n",
      "Simulation interval    : 0.0 - 259200.0 seconds.\n",
      "Elapsed simulation time: 0.2343870299991977 seconds.\n"
     ]
    }
   ],
   "source": [
    "r1 = simulate_relativebeta()"
   ]
  },
  {
   "cell_type": "markdown",
   "metadata": {},
   "source": [
    "Now define a function to plot a graph from simulation the `%matplotlib inline%` creates noninteractive image:"
   ]
  },
  {
   "cell_type": "code",
   "execution_count": 9,
   "metadata": {},
   "outputs": [],
   "source": [
    "def plot(x,y,z=None):\n",
    "    %matplotlib inline\n",
    "    import matplotlib.pyplot as plt\n",
    "    fig = plt.figure()\n",
    "    plt.plot(x,y,'r')\n",
    "    if z is not None:\n",
    "        plt.plot(x,z,'b')\n",
    "    plt.show()\n"
   ]
  },
  {
   "cell_type": "code",
   "execution_count": 10,
   "metadata": {},
   "outputs": [
    {
     "data": {
      "image/png": "[encoded data removed]",
      "text/plain": [
       "<Figure size 432x288 with 1 Axes>"
      ]
     },
     "metadata": {
      "needs_background": "light"
     },
     "output_type": "display_data"
    }
   ],
   "source": [
    "plot(r1['time'],r1['glucoseInsulinRegulation.out2'])"
   ]
  },
  {
   "cell_type": "code",
   "execution_count": null,
   "metadata": {},
   "outputs": [],
   "source": [
    "# Task 2.2 simulate with relative beta to 50% of norm and show results\n",
    "r2 = simulate_relativebeta(...)\n",
    "plot(r2['time'],r2['glucoseInsulinRegulation.out2'])"
   ]
  },
  {
   "cell_type": "markdown",
   "metadata": {},
   "source": [
    "## 3. Glucose tolerance test data\n",
    "\n",
    "Glucose tolerance test  is a medical test in which glucose is given and blood samples taken afterward to determine how quickly it is cleared from the blood. The test is usually used to test for diabetes, insulin resistance, impaired beta cell function.[Wikipedia][1]\n",
    "\n",
    "The intravenous glucose tolerance test (GTT) aids in evaluating the time to onset of diabetes among persons expressing anti-islet autoantibodies.[ScienceDirect][2]\n",
    "\n",
    "[1]: https://en.wikipedia.org/wiki/Glucose_tolerance_test\n",
    "[2]: https://www.sciencedirect.com/topics/medicine-and-dentistry/intravenous-glucose-tolerance-test\n"
   ]
  },
  {
   "cell_type": "markdown",
   "metadata": {},
   "source": [
    "Import the GTT data containing concentration of insulin measured Data were taken for 2 hours every 12 minutes. The intravenous infusion of glucose starts at time 12 minutes (720s) with glucose infusion rate 27.78 mg/s for 12 minutes. "
   ]
  },
  {
   "cell_type": "code",
   "execution_count": null,
   "metadata": {},
   "outputs": [],
   "source": [
    "import numpy\n",
    "my_data_raw = numpy.genfromtxt('PatientInsulinConcentration.csv',delimiter=',')\n"
   ]
  },
  {
   "cell_type": "markdown",
   "metadata": {},
   "source": [
    "See what is inside"
   ]
  },
  {
   "cell_type": "code",
   "execution_count": null,
   "metadata": {},
   "outputs": [],
   "source": [
    "my_data_raw"
   ]
  },
  {
   "cell_type": "markdown",
   "metadata": {},
   "source": [
    "First column contains time, second column contains concentration. In order to have the same shape as simulation data we need to delete first row with nan and transpose i.e. have rows instead of columns. see https://docs.scipy.org/doc/numpy/reference/generated/numpy.delete.html"
   ]
  },
  {
   "cell_type": "code",
   "execution_count": null,
   "metadata": {},
   "outputs": [],
   "source": [
    "my_data = numpy.delete(my_data_raw,...,...) # 3.1 delete first row with nan \n",
    "my_data = numpy.transpose(my_data) # transpose columns to rows\n"
   ]
  },
  {
   "cell_type": "code",
   "execution_count": null,
   "metadata": {},
   "outputs": [],
   "source": [
    "my_data"
   ]
  },
  {
   "cell_type": "code",
   "execution_count": null,
   "metadata": {},
   "outputs": [],
   "source": [
    "plot(my_data[...],my_data[...]) # task 3.2 plot time on x axis and insulin conccentration on y axis"
   ]
  },
  {
   "cell_type": "markdown",
   "metadata": {},
   "source": [
    "## 4. Calibrate model with data \n",
    "\n",
    "In order to compare simulation model with data we need to calibrat first the coresponding data.\n",
    "\n",
    "  * 4.1 find appropriate time interval - recalculate number of simulation steps equally spread among simulation time 3 days\n",
    "  * 4.2 find corresponding area to compare with data\n"
   ]
  },
  {
   "cell_type": "markdown",
   "metadata": {},
   "source": [
    "### Set simulation interval to be equal to experiment interval"
   ]
  },
  {
   "cell_type": "code",
   "execution_count": null,
   "metadata": {},
   "outputs": [],
   "source": [
    "simulation_time = ... # Task 4.1 3 days - model simulation will get into steady state during this time\n",
    "sample_duration = ... # 12 minutes - to be equal to sample interval of experiment data\n",
    "number_of_steps = simulation_time // sample_duration;\n",
    "number_of_steps\n",
    "\n",
    "\n"
   ]
  },
  {
   "cell_type": "code",
   "execution_count": null,
   "metadata": {},
   "outputs": [],
   "source": [
    "opts[\"ncp\"] = number_of_steps # we set it to simulation options"
   ]
  },
  {
   "cell_type": "markdown",
   "metadata": {},
   "source": [
    "simulate with options"
   ]
  },
  {
   "cell_type": "code",
   "execution_count": null,
   "metadata": {},
   "outputs": [],
   "source": [
    "r2 = simulate_relativenu(sopts=opts)"
   ]
  },
  {
   "cell_type": "code",
   "execution_count": null,
   "metadata": {},
   "outputs": [],
   "source": [
    "r2['time'].size # see the size of row - number of steps being taken during simulation\n"
   ]
  },
  {
   "cell_type": "markdown",
   "metadata": {},
   "source": [
    "If this differs from the desired 360 + 1 initial step - then numerical solver probably stores event points. Disable storing extra event points [more info in jmodelica sources][1]\n",
    "\n",
    "[1]: https://jmodelica.org/pyfmi/_modules/pyfmi/fmi_algorithm_drivers.html"
   ]
  },
  {
   "cell_type": "code",
   "execution_count": null,
   "metadata": {},
   "outputs": [],
   "source": [
    "opts[\"CVode_options\"][\"store_event_points\"] = False # by default it is true and \n",
    "# CVODE solver will create additional event points during simulation to the requested ncp points\n",
    "r3 = simulate_relativenu()"
   ]
  },
  {
   "cell_type": "code",
   "execution_count": null,
   "metadata": {},
   "outputs": [],
   "source": [
    "r3['time'].size"
   ]
  },
  {
   "cell_type": "markdown",
   "metadata": {},
   "source": [
    "Now the step of simulation agrees of experiment."
   ]
  },
  {
   "cell_type": "code",
   "execution_count": null,
   "metadata": {},
   "outputs": [],
   "source": [
    "r3['time']"
   ]
  },
  {
   "cell_type": "markdown",
   "metadata": {},
   "source": [
    "### select coresponding simulation part"
   ]
  },
  {
   "cell_type": "code",
   "execution_count": null,
   "metadata": {},
   "outputs": [],
   "source": [
    "# simulation infusion is made sometime at day 2, count index at day 2\n",
    "index = ... // 720; # task 4.2 // is integer division\n",
    "index"
   ]
  },
  {
   "cell_type": "code",
   "execution_count": null,
   "metadata": {},
   "outputs": [],
   "source": [
    "# how many samples we need to compare? size of sample data"
   ]
  },
  {
   "cell_type": "code",
   "execution_count": null,
   "metadata": {},
   "outputs": [],
   "source": [
    "sample_size = my_data[0].size\n",
    "sample_size\n"
   ]
  },
  {
   "cell_type": "markdown",
   "metadata": {},
   "source": [
    "see when the infusion is really made"
   ]
  },
  {
   "cell_type": "code",
   "execution_count": null,
   "metadata": {},
   "outputs": [],
   "source": [
    "r3['glucoseInsulinRegulation.in1'][index:index+sample_size]"
   ]
  },
  {
   "cell_type": "markdown",
   "metadata": {},
   "source": [
    "Thus we need to increase index by 9."
   ]
  },
  {
   "cell_type": "code",
   "execution_count": null,
   "metadata": {},
   "outputs": [],
   "source": [
    "index2 = index + 9\n",
    "print(index)\n",
    "print(r3['glucoseInsulinRegulation.in1'][index2:index2+sample_size])\n",
    "print(r3['glucoseInsulinRegulation.out2'][index2:index2+sample_size])"
   ]
  },
  {
   "cell_type": "code",
   "execution_count": null,
   "metadata": {},
   "outputs": [],
   "source": [
    "my_data[1]"
   ]
  },
  {
   "cell_type": "code",
   "execution_count": null,
   "metadata": {},
   "outputs": [],
   "source": [
    "print(\"Number of steps to simulate model calibrated to experiment data:\",number_of_steps)\n",
    "print(\"Index of simulation data coresponding to experiment data:\",index2)\n",
    "print(\"Number of samples to be compared:\",sample_size)"
   ]
  },
  {
   "cell_type": "markdown",
   "metadata": {},
   "source": [
    "## 5. Compare data and simulation\n",
    "\n",
    "We define function `compareshow` which will simulate the model with desired parameter value and creates a chart comparing the insulin concentration from model simulation with experimental data"
   ]
  },
  {
   "cell_type": "code",
   "execution_count": null,
   "metadata": {},
   "outputs": [],
   "source": [
    "def compareshow(relbeta,comp_index=index2,comp_size=sample_size,data=my_data):\n",
    "    # simulate with parameter \n",
    "    res = simulate_relativebeta(...) # task 5.1 which argument to be passed here\n",
    "    # get the times on the interval to be compared\n",
    "    times = res['time'][comp_index:comp_index+comp_size]\n",
    "    # get subset of data on the interval to be compared\n",
    "    simdata = res['glucoseInsulinRegulation.out2'][comp_index:comp_index+comp_size]\n",
    "    # set matplotlib to generate inline graphs other options can be 'notebook' etc.\n",
    "    %matplotlib inline\n",
    "    import matplotlib.pyplot as plt\n",
    "    fig = plt.figure()\n",
    "    plt.plot(times,simdata,'b', label='simulated data for '+str(relbeta))\n",
    "    plt.plot(times,data[1],'r--', label='experimental data')\n",
    "    plt.legend(loc='lower right')\n",
    "    plt.show()\n",
    "    # task 5.1a - add optional parameter which will simulate in other relbeta values and plot additional chart\n",
    "    # thus having 3-4 curves in  chart"
   ]
  },
  {
   "cell_type": "code",
   "execution_count": null,
   "metadata": {},
   "outputs": [],
   "source": [
    "compareshow(1)"
   ]
  },
  {
   "cell_type": "code",
   "execution_count": null,
   "metadata": {},
   "outputs": [],
   "source": [
    "#5.2 task try to compare with simulation parameter to 120%, 50%, 20%, 5%, 1% \n",
    "compareshow(...)"
   ]
  },
  {
   "cell_type": "markdown",
   "metadata": {},
   "source": [
    "## 6 Parameter sweep model/experiment comparison\n",
    "\n",
    "In this secion we will sweep parameter over some range and compute objective function $ y=\\sum_{i=1}^n (s_i - d_i)^2 $\n",
    "\n"
   ]
  },
  {
   "cell_type": "code",
   "execution_count": null,
   "metadata": {},
   "outputs": [],
   "source": [
    "def my_diff(arr1,arr2):\n",
    "    sum = 0\n",
    "    for i in range(0,arr1.size):\n",
    "        sum+=... #task 6.2 - place how to compute difference as per equation above\n",
    "    return sum\n",
    "            "
   ]
  },
  {
   "cell_type": "markdown",
   "metadata": {},
   "source": [
    "Test the implementation of my_diff function with test bellow. The ressult should be 2."
   ]
  },
  {
   "cell_type": "code",
   "execution_count": null,
   "metadata": {},
   "outputs": [],
   "source": [
    "arr1 = numpy.array([1,1,1,1,1,1,1,1])\n",
    "arr2 = numpy.array([1,1,1,1,2,1,1,2])\n",
    "arr3 = my_diff(arr1,arr2)\n",
    "print(arr3) # should output 2\n",
    "if (arr3 == 2): \n",
    "    print('You can continue')\n",
    "else:\n",
    "    print('Wrong implementation of my_diff. Repair it!')"
   ]
  },
  {
   "cell_type": "markdown",
   "metadata": {},
   "source": [
    "Now we define `sweep_parameter` function which will call simulation with different parameters and sum the difference."
   ]
  },
  {
   "cell_type": "code",
   "execution_count": null,
   "metadata": {},
   "outputs": [],
   "source": [
    "def sweep_parameter(min,max,step,data=my_data):\n",
    "    # returns array of tuple - first is parameter value, second is distance from experiment data\n",
    "    import numpy\n",
    "    diffs = []\n",
    "    for x in numpy.arange(min,max,step):\n",
    "        r = simulate_relativebeta(x)\n",
    "        rsample = r['glucoseInsulinRegulation.out2'][index2:index2+sample_size]\n",
    "        sum = my_diff(rsample,data[1])        \n",
    "        diffs.append([x,sum])\n",
    "    return diffs"
   ]
  },
  {
   "cell_type": "code",
   "execution_count": null,
   "metadata": {},
   "outputs": [],
   "source": [
    "#task 6.2 do parameter sweep and simulate with different parameters first from 0.5 to 1 with step 0.1\n",
    "\n",
    "diffs = sweep_parameter(...,...,...)"
   ]
  },
  {
   "cell_type": "markdown",
   "metadata": {},
   "source": [
    "Now we can see `diffs` array. Contains array of tupple. First is parameter value, second the value of objective function."
   ]
  },
  {
   "cell_type": "code",
   "execution_count": null,
   "metadata": {},
   "outputs": [],
   "source": [
    "diffs"
   ]
  },
  {
   "cell_type": "markdown",
   "metadata": {},
   "source": [
    "## Find minimum \n",
    "Find parameter value, where objective function is minimal.\n",
    "\n",
    "E.g. sort the diffs array by the second element"
   ]
  },
  {
   "cell_type": "code",
   "execution_count": null,
   "metadata": {},
   "outputs": [],
   "source": [
    "diffs.sort(key=lambda x:x[1])"
   ]
  },
  {
   "cell_type": "code",
   "execution_count": null,
   "metadata": {},
   "outputs": [],
   "source": [
    "diffs"
   ]
  },
  {
   "cell_type": "markdown",
   "metadata": {},
   "source": [
    "Now the first element of diffs contains parameter and value of objective function which is minimal.\n",
    "\n",
    "Show the model simulation and data in chart:"
   ]
  },
  {
   "cell_type": "code",
   "execution_count": null,
   "metadata": {},
   "outputs": [],
   "source": [
    "compareshow(...) # task 6.3"
   ]
  },
  {
   "cell_type": "code",
   "execution_count": null,
   "metadata": {},
   "outputs": [],
   "source": [
    "compareshow(...) # task 6.4 show second best solution"
   ]
  },
  {
   "cell_type": "markdown",
   "metadata": {},
   "source": [
    "# Summary\n",
    "\n",
    "In the above excercise we\n",
    "  * imported Pyfmi library and load FMU of the Modelica model\n",
    "  * simulated the model with different parameters and plot the simulation result\n",
    "  * read and plot experiment data from csv\n",
    "  * calibrate the model - find simulation parameters - number of intervals and index of result file corresponding to the experiment data\n",
    "  * compared experiment data with simulation data\n",
    "  * do parameter sweep - simulation performed per each parameter value\n",
    "  * compute difference between experimental data and simulation data - value of objective function\n",
    "  * minimum of objective function corresponds to optimal parameter value based on experimental data\n",
    "  * this process is sometimes called also matching the curve, parameter estimation, system identification\n",
    "  * solution to tasks within the python code is in comments bellow\n",
    "  \n",
    "  * Last but not least - you learn something about glucose insulin regulation and type1 diabetes\n",
    "  "
   ]
  },
  {
   "cell_type": "code",
   "execution_count": null,
   "metadata": {},
   "outputs": [],
   "source": [
    "#2.1 259200    res = model.simulate(final_time=259200,options = sopts)\n",
    "#2.2 r2 = simulate_relativebeta(0.5)\n",
    "#3.1 numpy.delete(array,0,0)\n",
    "#3.2 plot(my_data[0],my_data[1]) \n",
    "#4.1 simulation_time = 3 * 24 * 60 * 60\n",
    "#    sample_duration = 12 * 60 \n",
    "#4.2 index = 2*24*60*60 // 720; # task 4.2\n",
    "#5.1 res = simulate_relativebeta(relbeta) # task 5.1 which argument to be passed here\n",
    "#5.2 task try to compare with simulation parameter to 120%, 50%, 20%, 5%, 1% \n",
    "#compareshow(1.2)\n",
    "#compareshow(0.5)\n",
    "#compareshow(0.2)\n",
    "#compareshow(0.05)\n",
    "#compareshow(0.01)\n",
    "#6.1 sum+=(arr1[i]-arr2[i])**2\n",
    "#6.2 diffs = sweep_parameter(0.5,1,0.1)\n",
    "#6.3 compareshow(diffs[0][0]) \n"
   ]
  },
  {
   "cell_type": "code",
   "execution_count": null,
   "metadata": {},
   "outputs": [],
   "source": []
  }
 ],
 "metadata": {
  "kernelspec": {
   "display_name": "Python 3",
   "language": "python",
   "name": "python3"
  },
  "language_info": {
   "codemirror_mode": {
    "name": "ipython",
    "version": 3
   },
   "file_extension": ".py",
   "mimetype": "text/x-python",
   "name": "python",
   "nbconvert_exporter": "python",
   "pygments_lexer": "ipython3",
   "version": "3.8.3"
  }
 },
 "nbformat": 4,
 "nbformat_minor": 2
}
