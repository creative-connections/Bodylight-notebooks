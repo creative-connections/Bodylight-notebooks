{
 "cells": [
  {
   "cell_type": "markdown",
   "metadata": {},
   "source": [
    "# Identifikace systému, odhad parametrů modelu\n",
    "\n",
    "Tento notebook je interaktivní, každou buňku můžete vykonat stisknutím `Shift-Enter`, můžete změnit její obsah a opětovně ji vykonat.\n",
    "\n",
    "V kódu jsou tzv. elipsy, buď jako tři tečky `...` nebo podtržítko `_` v místě, kdě je potřeba doplnit nebo naprogramovat část dle zadání úkolu."
   ]
  },
  {
   "cell_type": "markdown",
   "metadata": {},
   "source": [
    "## Příprava v Modelice\n",
    "\n",
    "- na fyzické mašině, \n",
    "- update `Bodylight-notebooks`, pomocí \n",
    "```\n",
    "cd Bodylight-notebooks\n",
    "git stash\n",
    "git pull\n",
    "```\n",
    "- naklonujte si `Physiolibrary-models` nejlépe do stejného adresáře jako je Bodylight-notebooks nebo Bodylight-VirtualMachine \n",
    "```\n",
    "cd ..\n",
    "git clone https://github.com/creative-connections/Physiolibrary-models`\n",
    "```\n",
    "\n",
    "- ve virtuální mašině v OMEdit (nebo Dymola) otevřete `/vagrant_data/Physiolibrary_models/Metabolism/package.mo`\n",
    "- vytvořte GlucoseToleranceTest1, který v čase 50h od začátku simulace bude pumpovat glukózu rychlostí 100 g za hodinu po dobu 20 minut, přepočtěte na mg/s a spojte je s GIRegulationBlock, simulujte 3 dny, zobrazte koncetraci glukózy a inzulínu (out1 a out2)\n",
    "- vytvořte GlucoseToleranceTest2, který v čase 50h od začátku simulace bude pumpovat glukózu rychlostí 100 g za hodinu po dobu 20 minut, přepočtěte na kg/s a spojte je s GIRegulationComponent, simulujte 3 dny\n",
    "- zkuste měnit parametry beta a nu (na 10% původní hodnoty), simulujte 3 dny\n",
    "- exportujte GlucoseToleranceTest2 od FMU (mód ME), soubor dejte do adresáře `Seminar8FmiIdentification/fmus/`\n",
    " \n"
   ]
  },
  {
   "cell_type": "markdown",
   "metadata": {},
   "source": [
    "## 1 Problém\n",
    "\n",
    "Budeme zpracovávat data měření tzv. glukózového tolerančního testu. Máme informace, že pacient dostával intravenózně glukózu do krve rychlostí 28 mg/s. po dobu 12 minut. Pak byly v 12 minutových intervalech prováděny testy koncentrace glukózy a inzulínu hodnoty jsou v souborech `data/PatientX_y.csv` kde `X` je označení pacienta a `y` je buď `g`lukóza nebo `i`nzulín.\n"
   ]
  },
  {
   "cell_type": "code",
   "execution_count": null,
   "metadata": {},
   "outputs": [],
   "source": [
    "# ukol 1.1 doplnit relativni cestu a soubor s daty glukozy pro pacienta A - data/PatientA_g.csv\n",
    "import numpy\n",
    "data = numpy.genfromtxt(_,delimiter=',')\n",
    "data"
   ]
  },
  {
   "cell_type": "code",
   "execution_count": null,
   "metadata": {},
   "outputs": [],
   "source": [
    "# casovou osu vygenerujeme, dle zadani to jde po 12 minutach (tj. po 720 sekundach)\n",
    "# ukol 1.2 vyplnte po 720 pole time\n",
    "time = numpy.arange(0,_*data.size,_)\n",
    "time"
   ]
  },
  {
   "cell_type": "code",
   "execution_count": null,
   "metadata": {},
   "outputs": [],
   "source": [
    "# definujeme rutinu pro kresleni grafu\n",
    "def plot(x,y,z=None,labely=None,labelz=None):\n",
    "    %matplotlib inline\n",
    "    import matplotlib.pyplot as plt\n",
    "    fig = plt.figure()\n",
    "    plt.plot(x,y,label=labely,color='red')\n",
    "    if z is not None:\n",
    "        plt.plot(x,z, label=labelz,color='blue')\n",
    "    plt.legend()\n",
    "    plt.grid(True)\n",
    "    plt.show()\n"
   ]
  },
  {
   "cell_type": "code",
   "execution_count": null,
   "metadata": {},
   "outputs": [],
   "source": [
    "# ukol 1.3 vykreslete na ose x time, na ose y data\n",
    "plot(_,_,labely=\"data patient A glucose\")"
   ]
  },
  {
   "cell_type": "markdown",
   "metadata": {},
   "source": [
    "## 2. FmPy nebo PyFMI knihovny a simulace modelu v Pythonu\n"
   ]
  },
  {
   "cell_type": "markdown",
   "metadata": {},
   "source": [
    "Model z Modeliky exportovat jako FMU (nejlépe verze 2.0 v módu ModelExchange nebo Co-Simulation). V OpenModelice 1.16.x doporučujeme exportovat v módu ModelExchange. V Dymole doporučujeme exportovat v módu Co-Simulation (solver DASSL je robustní).\n",
    "\n",
    "Knihovny FmPy a PyFMI zjednodušují simulace FMU v Pythonu. FmPy implementuje solvery v Pythonu. Knihovna PyFMI používá implementace z jiných knihoven v C++, které jsou obecně rychlejší.\n",
    "\n",
    "V dalším textu budeme používat FmPy."
   ]
  },
  {
   "cell_type": "code",
   "execution_count": null,
   "metadata": {},
   "outputs": [],
   "source": [
    "# ukol 2.1 doplnte integracni krok simulatoru na 12 minut (prepoctete na sekundy) a do model1 nastavte cestu k exportovanemu FMU v adresari fmu/Metabolism.GlucoseInsulin.Test.GlucoseToleranceTest2.fmu\n",
    "# nebo pouzijte Metabolism.GlucoseInsulin.Test.GlucoseToleranceTest.fmu pripraveny pro jistotu\n",
    "import fmpy\n",
    "model1 = _\n",
    "result1 = result = fmpy.simulate_fmu(\n",
    "    model1,\n",
    "    start_time=0,\n",
    "    stop_time=259200,\n",
    "    step_size=_,\n",
    "    record_events=False,\n",
    "    output=['glucoseInsulinRegulation.glucoseConc','glucoseInsulinRegulation.insulinConc'],\n",
    "    start_values={'glucoseInsulinRegulation.tissueUtilizationInsulinDependent.Nu_permu': 139000,'glucoseInsulinRegulation.insulinProduction.beta_mu': 1430},\n",
    "    solver='CVode')\n",
    "fmpy.util.plot_result(result1)"
   ]
  },
  {
   "cell_type": "markdown",
   "metadata": {},
   "source": [
    "Jestli se objeví chyba, je třeba nainstalovat fmpy, např.: `conda install -c conda-forge fmpy`."
   ]
  },
  {
   "cell_type": "code",
   "execution_count": null,
   "metadata": {},
   "outputs": [],
   "source": []
  },
  {
   "cell_type": "markdown",
   "metadata": {},
   "source": [
    "## 3. Kalibrace dat a simulace pro odhad parametrů\n"
   ]
  },
  {
   "cell_type": "code",
   "execution_count": null,
   "metadata": {},
   "outputs": [],
   "source": [
    "# ukol 3.1 vykreslete do grafu na x time a na y glucoseInsulinRegulation.glucoseConc z predchozi simulace result1\n",
    "# tip result1['...'] vybere patricne pole s hodnotami\n",
    "plot(_,_,labely='model')"
   ]
  },
  {
   "cell_type": "code",
   "execution_count": null,
   "metadata": {},
   "outputs": [],
   "source": [
    "# ukol 3.2 opet vykreslete data ze souboru na ose x time a na y data\n",
    "plot(_,_,labely=\"data patient A glucose\")"
   ]
  },
  {
   "cell_type": "markdown",
   "metadata": {},
   "source": [
    "3.1 data a simulace modelu jsou vzorkována stejně? \n",
    "\n",
    "Ano - interval 12 minut (720s)"
   ]
  },
  {
   "cell_type": "markdown",
   "metadata": {},
   "source": [
    "3.2 Odpovídají vzorky simulace modelu odpovídají vzorkům dat podle simulovaného experimentu? "
   ]
  },
  {
   "cell_type": "code",
   "execution_count": null,
   "metadata": {},
   "outputs": [],
   "source": [
    "print('data size',time.size,' model simulation size:',result1['time'].size)"
   ]
  },
  {
   "cell_type": "markdown",
   "metadata": {},
   "source": [
    "Musíme vybrat začátek, kde simulace modelu začne odpovídat tomu co se děje v reálných datech"
   ]
  },
  {
   "cell_type": "code",
   "execution_count": null,
   "metadata": {},
   "outputs": [],
   "source": [
    "# ukol 3.3 vyberte index odkud data simulace odpovidaji realnym datum, tip zacnete od 240 a zkousejte zvysovat\n",
    "# az se grafy budou menit ve stejnou dobu\n",
    "mycindex = _\n",
    "model = result1['glucoseInsulinRegulation.glucoseConc'][mycindex:mycindex+10]\n",
    "plot(time,data,model,labely='real data',labelz='model')"
   ]
  },
  {
   "cell_type": "code",
   "execution_count": null,
   "metadata": {},
   "outputs": [],
   "source": [
    "# ukol 3.4 nastavte kalibrovany index na hodnotu odhadnutou v predchozim kroku\n",
    "cindex = _ # calibrating index"
   ]
  },
  {
   "cell_type": "code",
   "execution_count": null,
   "metadata": {},
   "outputs": [],
   "source": [
    "# Porovnani modelu a simulace jako funkce\n",
    "def simulatemodelbeta(relativebeta=1,modelfile=model1):\n",
    "    # odsimulovat s parametrem beta*relativebeta\n",
    "    modelresult = fmpy.simulate_fmu(\n",
    "        modelfile,\n",
    "        start_time=0,\n",
    "        stop_time=259200,\n",
    "        step_size=720,\n",
    "        record_events=False,\n",
    "        output=['glucoseInsulinRegulation.glucoseConc','glucoseInsulinRegulation.insulinConc'],\n",
    "        start_values={\n",
    "            'glucoseInsulinRegulation.tissueUtilizationInsulinDependent.Nu_permu': 139000,\n",
    "            'glucoseInsulinRegulation.insulinProduction.beta_mu': 1430*relativebeta\n",
    "        },\n",
    "        solver='CVode')\n",
    "    return modelresult;\n",
    "\n",
    "def comparemodeldatabeta(relativebeta=1,realdata=data,realtime=time,modelfile=model1):\n",
    "    modelresult = simulatemodelbeta(relativebeta,modelfile)\n",
    "    # vykreslit do grafu\n",
    "    plot(realtime,realdata,modelresult['glucoseInsulinRegulation.glucoseConc'][cindex:cindex+10],labely='real data',labelz='model')\n",
    "    \n",
    "\n"
   ]
  },
  {
   "cell_type": "code",
   "execution_count": null,
   "metadata": {},
   "outputs": [],
   "source": [
    "# ukol 3.5 porovnejte model a data pro ruzne parametry (0.1,0.2,0.5,0.9)\n",
    "comparemodeldatabeta(_)"
   ]
  },
  {
   "cell_type": "markdown",
   "metadata": {},
   "source": [
    "Zkusíme najit hrubou silou parametr `beta` tak, aby model odpovídal co nejvíc datům - rozdíl mezi modelem a daty byl minimální.\n",
    "\n",
    "Nejprve definujeme metriku rozdílu mezi simulací modelu a daty, tj. účelová funkce (objective function) $ y=\\sum_{i=1}^n (s_i - d_i)^2 $ kde $s_i$ je hodnota sledované veličiny simulace v bodu $i$ a $d_i$ je hodnota sledované veličiny naměřených dat.\n",
    "\n"
   ]
  },
  {
   "cell_type": "code",
   "execution_count": null,
   "metadata": {},
   "outputs": [],
   "source": [
    "# ukol 3.6 doplnte do sumy vypocet, \n",
    "# tip1 s,d jsou pole, k prvku pole pristupuji pomoci hranatych zavorek, \n",
    "# tip2 mocnina cisla x se zapise jako napr. x**2\n",
    "def mydiff(s,d):\n",
    "    sum = 0\n",
    "    for i in range(0,s.size):\n",
    "        sum+=_\n",
    "    return sum"
   ]
  },
  {
   "cell_type": "markdown",
   "metadata": {},
   "source": [
    "Nyní definujeme cyklus, který odsimuluje model s parametry 1 promile až 1000 promile normální hodnoty beta."
   ]
  },
  {
   "cell_type": "code",
   "execution_count": null,
   "metadata": {},
   "outputs": [],
   "source": [
    "# ukol 3.7 zkuste odsimulovat pro promile - 1000 moznych hodnot - odkomentujte\n",
    "# hrubou silou odsimulujeme vsech 1000 moznych hodnot\n",
    "#diffs = [] # pole s hodnotou ucelove funkci a parametrem\n",
    "#for i in range(1,1000):\n",
    "#    modelresult = simulatemodelbeta(i/1000)\n",
    "#    diff= mydiff(modelresult['glucoseInsulinRegulation.glucoseConc'][cindex:cindex+10],data)\n",
    "#    diffs.append([i/1000,diff])\n",
    "# v poli diffs mam nyni parametr a hodnotu ucelove funkce (vzdalenost mezi simulaci a realnymi daty)"
   ]
  },
  {
   "cell_type": "code",
   "execution_count": null,
   "metadata": {},
   "outputs": [],
   "source": [
    "# ukol 3.8 pokud predchozi vypocet spadl (kernel dead), zakomentujte predchozi bunku a pustte tuto\n",
    "# varianta, pokud predchozi vypocet spadl, hrubou silou zkusime procenta\n",
    "diffs = [] # pole s hodnotou ucelove funkci a parametrem\n",
    "for i in range(1,100):\n",
    "    modelresult = simulatemodelbeta(i/100)\n",
    "    diff= mydiff(modelresult['glucoseInsulinRegulation.glucoseConc'][cindex:cindex+10],data)\n",
    "    diffs.append([i/100,diff])\n"
   ]
  },
  {
   "cell_type": "code",
   "execution_count": null,
   "metadata": {},
   "outputs": [],
   "source": [
    "# muzeme zobrazit jak procento beta ovlivnuje rozdil mezi daty a modelem\n",
    "ndiffs = numpy.array(diffs)\n",
    "plot(ndiffs[:,0],ndiffs[:,1],labely=\"diff between data and model\")"
   ]
  },
  {
   "cell_type": "markdown",
   "metadata": {},
   "source": [
    "Hodnota parametru s nejnizsi hodnotou ucelove funkce je hledany odhad parametru, ktery odpovida realnym datum."
   ]
  },
  {
   "cell_type": "code",
   "execution_count": null,
   "metadata": {},
   "outputs": [],
   "source": [
    "# setridime pole diffs podle 2. prvku (hodnota ucelove funkce)\n",
    "diffs.sort(key=lambda x:x[1])"
   ]
  },
  {
   "cell_type": "markdown",
   "metadata": {},
   "source": [
    "Nejlepsi shoda modelu s daty je prvni (v Pythonu nulty prvek setrideneho pole)."
   ]
  },
  {
   "cell_type": "code",
   "execution_count": null,
   "metadata": {},
   "outputs": [],
   "source": [
    "modelbeta = diffs[0][0]\n",
    "print('Nejlepsi shoda modelu s daty je pro parametr beta (v podilu k normalni hodnote)= ',modelbeta)"
   ]
  },
  {
   "cell_type": "code",
   "execution_count": null,
   "metadata": {},
   "outputs": [],
   "source": [
    "# ukol 3.9 jak vypada srovnani dat a modelu\n",
    "comparemodeldatabeta(_)"
   ]
  },
  {
   "cell_type": "code",
   "execution_count": null,
   "metadata": {},
   "outputs": [],
   "source": [
    "# ukol 3.10 jak vypada srovnani dat a modelu s 2 nejlepsi hodnotou parametru? Tip diffs[x][0]\n",
    "print(_)\n",
    "comparemodeldatabeta(_)"
   ]
  },
  {
   "cell_type": "code",
   "execution_count": null,
   "metadata": {},
   "outputs": [],
   "source": [
    "# Ukol 3.11 Nic se nemusi doplnit, jen jaky je odhad parametr nu pro ty sama data, pokud necham parametr beta v norme?\n",
    "# Porovnani modelu a simulace jako funkce\n",
    "def simulatemodelnu(relativenu=1,modelfile=model1):\n",
    "    # odsimulovat s parametrem beta*relativebeta\n",
    "    modelresult = fmpy.simulate_fmu(\n",
    "        modelfile,\n",
    "        start_time=0,\n",
    "        stop_time=259200,\n",
    "        step_size=720,\n",
    "        record_events=False,\n",
    "        output=['glucoseInsulinRegulation.glucoseConc','glucoseInsulinRegulation.insulinConc'],\n",
    "        start_values={\n",
    "            'glucoseInsulinRegulation.tissueUtilizationInsulinDependent.Nu_permu': 139000*relativenu,\n",
    "            'glucoseInsulinRegulation.insulinProduction.beta_mu': 1430\n",
    "        },\n",
    "        solver='CVode')\n",
    "    return modelresult;\n",
    "def comparemodeldatanu(relativenu=1,realdata=data,realtime=time,modelfile=model1):\n",
    "    modelresult = simulatemodelnu(relativenu,modelfile)\n",
    "    # vykreslit do grafu\n",
    "    plot(realtime,realdata,modelresult['glucoseInsulinRegulation.glucoseConc'][cindex:cindex+10],labely='real data',labelz='model')\n",
    "diffs2 = [] # pole s hodnotou ucelove funkci a parametrem\n",
    "for i in range(1,100):\n",
    "    modelresult = simulatemodelnu(i/100)\n",
    "    diff2= mydiff(modelresult['glucoseInsulinRegulation.glucoseConc'][cindex:cindex+10],data)\n",
    "    diffs2.append([i/100,diff2])\n",
    "# muzeme zobrazit jak procento beta ovlivnuje rozdil mezi daty a modelem\n",
    "ndiffs2 = numpy.array(diffs2)\n",
    "plot(ndiffs2[:,0],ndiffs2[:,1],labely=\"diff between data and model(nu)\")    \n",
    "diffs2.sort(key=lambda x:x[1])\n",
    "print('Nejlepsi shoda dat a modelu s parametrem nu v procentech s normou= ',diffs2[0][0])\n"
   ]
  },
  {
   "cell_type": "markdown",
   "metadata": {},
   "source": [
    "# 4. Interpretace\n",
    "\n",
    "Snížená hodnota (10% normy) parametru beta v modelu může svědčit pro diagnózu diabetu 1.typu (snížená produkce inzulínu beta buněk).\n",
    "\n",
    "Snížená hodnota (10% normy) parametru nu v modelu může svědčit pro diagnózu diabetu 2.typu (snížená citlivost tkání na inzulin)\n",
    "\n",
    "Musíme vzít v potaz i naměřená data hladiny inzulinu během glukózového tolerančního testu.\n"
   ]
  },
  {
   "cell_type": "code",
   "execution_count": null,
   "metadata": {},
   "outputs": [],
   "source": [
    "datai = numpy.genfromtxt('data/PatientA_i.csv',delimiter=',')"
   ]
  },
  {
   "cell_type": "code",
   "execution_count": null,
   "metadata": {},
   "outputs": [],
   "source": [
    "plot(time,datai,labely='insulin data')"
   ]
  },
  {
   "cell_type": "code",
   "execution_count": null,
   "metadata": {},
   "outputs": [],
   "source": [
    "# zobrazime hladinu insulinu modelu, v normalnim fyziologickem stavu\n",
    "plot(result1['time'],result1['glucoseInsulinRegulation.insulinConc'],labely='model')"
   ]
  },
  {
   "cell_type": "code",
   "execution_count": null,
   "metadata": {},
   "outputs": [],
   "source": [
    "# ukol 4.1 nastavte nu na hodnotu odhadnutou v ukolu 3.11\n",
    "result2 = simulatemodelnu(_)"
   ]
  },
  {
   "cell_type": "code",
   "execution_count": null,
   "metadata": {},
   "outputs": [],
   "source": [
    "plot(result2['time'],result2['glucoseInsulinRegulation.insulinConc'],labely='model')"
   ]
  },
  {
   "cell_type": "code",
   "execution_count": null,
   "metadata": {},
   "outputs": [],
   "source": [
    "plot(time,datai,result2['glucoseInsulinRegulation.insulinConc'][cindex:cindex+10],labely='real data',labelz='model')"
   ]
  },
  {
   "cell_type": "code",
   "execution_count": null,
   "metadata": {},
   "outputs": [],
   "source": [
    "result2['glucoseInsulinRegulation.insulinConc'][cindex:cindex+10]"
   ]
  },
  {
   "cell_type": "code",
   "execution_count": null,
   "metadata": {},
   "outputs": [],
   "source": [
    "# Má pacient A diabetes a jakého pravděpodobně typu podle naměřených dat"
   ]
  },
  {
   "cell_type": "markdown",
   "metadata": {},
   "source": [
    "# 5. Další úkoly\n",
    "\n",
    "Úkol 5.1 a 5.2 Určete parametry beta nebo nu pro pacienty B a C, data v podadresari `data` a odhadněte zda-li mají diabetes a jakého typu?\n",
    "\n",
    "# 6. Jiné metody nez hrubá síla\n",
    "\n",
    "- Monte Carlo - ze souboru (1000x1000) možných hodnot vyberu náhodně podmnožinu hondot, vyberu tu která se nejvíc blíží reálným datům  \n",
    "- Úkol 6.1 zkuste nahradit hrubou sílu optimalizačním algoritmem `differential_evolution` z balíčku`scipy.optimize`"
   ]
  },
  {
   "cell_type": "code",
   "execution_count": null,
   "metadata": {},
   "outputs": [],
   "source": []
  }
 ],
 "metadata": {
  "kernelspec": {
   "display_name": "Python 3",
   "language": "python",
   "name": "python3"
  },
  "language_info": {
   "codemirror_mode": {
    "name": "ipython",
    "version": 3
   },
   "file_extension": ".py",
   "mimetype": "text/x-python",
   "name": "python",
   "nbconvert_exporter": "python",
   "pygments_lexer": "ipython3",
   "version": "3.7.6"
  }
 },
 "nbformat": 4,
 "nbformat_minor": 2
}
