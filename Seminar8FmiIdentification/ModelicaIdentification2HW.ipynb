{
 "cells": [
  {
   "cell_type": "markdown",
   "metadata": {},
   "source": [
    "# Identifikace systému, odhad parametrů modelu\n",
    "\n",
    "Tento notebook je interaktivní, každou buňku můžete vykonat stisknutím `Shift-Enter`, můžete změnit její obsah a opětovně ji vykonat.\n",
    "\n",
    "V kódu jsou tzv. elipsy, buď jako tři tečky `...` nebo podtržítko `_` v místě, kdě je potřeba doplnit nebo naprogramovat část dle zadání úkolu."
   ]
  },
  {
   "cell_type": "markdown",
   "metadata": {},
   "source": [
    "## Příprava v Modelice\n",
    "\n",
    "- na fyzické mašině, \n",
    "- update `Bodylight-notebooks`, pomocí \n",
    "```\n",
    "cd Bodylight-notebooks\n",
    "git pull\n",
    "```\n",
    "\n",
    "- pokud nemáte spuštěnou virtuální mašinu, spusťte ji\n",
    "```\n",
    "cd Bodylight-VirtualMachine\n",
    "(git pull)\n",
    "(cd bodylightvm.20.11) # pokud máte nainstalovanou variantu z binárního celého obrazu\n",
    "vagrant up\n",
    "```\n",
    "\n",
    "- na fyzické mašině otevřete ve svém prohlížeči (Firefox, Chrome, MS Edge, ...) adresu http://localhost:8080/jupyter\n",
    "- otevřete JUPYTER notebook `Seminar8FmiIdentification/ModelicaIdentification2HW.ipynb` a splňte úkoly v sekci 5. Můžete odevzdat jako ipynb soubor `File->Download as->Notebook (ipynb)`.\n"
   ]
  },
  {
   "cell_type": "markdown",
   "metadata": {},
   "source": [
    "## 1 Problém\n",
    "\n",
    "Budeme zpracovávat data měření tzv. glukózového tolerančního testu. Máme informace, že pacient dostával intravenózně glukózu do krve rychlostí 28 mg/s. po dobu 12 minut. Pak byly v 12 minutových intervalech prováděny testy koncentrace glukózy a inzulínu hodnoty jsou v souborech `data/PatientX_y.csv` kde `X` je označení pacienta a `y` je buď `g`lukóza nebo `i`nzulín.\n",
    "\n",
    "Úkol vyhodnoťte pacienty D,E,F, odhadněte parametry beta a nu, které nejlépe odpovídají datům.\n",
    "Použijte algoritmy \"differential_evolution\" a \"monte_carlo\".\n"
   ]
  },
  {
   "cell_type": "markdown",
   "metadata": {},
   "source": [
    "## 2 Načtení a vizuální kontrola dat\n",
    "\n",
    "Spusťte buňky pomocí `Shift+Enter`. Všimněte si, že každý pacient má jiné hodnoty glukózy a inzulínu během glukózového tolerančního testu."
   ]
  },
  {
   "cell_type": "code",
   "execution_count": null,
   "metadata": {},
   "outputs": [],
   "source": [
    "# definice funkce pro vykresleni 2 grafu vedle sebe v jednom x,y,z v druhem x,y2,z2, z a z2 nemusi byt definovane\n",
    "def plot2(x,y,z=None,y2=None,z2=None, labely=None,labelz=None,title1='glucose concentration',title2='insulin concentration'):\n",
    "    %matplotlib inline\n",
    "    import matplotlib.pyplot as plt   \n",
    "    plt.rcParams[\"figure.figsize\"] = (12, 6)\n",
    "    fig, (ax1, ax2) = plt.subplots(1, 2)\n",
    "    ax1.plot(x,y,label=labely,color='red')\n",
    "    if z is not None:\n",
    "        ax1.plot(x,z, label=labelz,color='blue')\n",
    "    ax1.set(title=title1)\n",
    "    ax1.legend()\n",
    "    ax1.grid(True)\n",
    "    ax2.plot(x,y2,label=labely,color='red')\n",
    "    if z2 is not None:\n",
    "        ax2.plot(x,z2, label=labelz,color='blue')\n",
    "    ax2.set(title=title2)\n",
    "    ax2.legend()\n",
    "    ax2.grid(True)\n",
    "    plt.show()"
   ]
  },
  {
   "cell_type": "code",
   "execution_count": null,
   "metadata": {},
   "outputs": [],
   "source": [
    "# data pacienta D\n",
    "# ukol 1.1 doplnte cestu k souborum pro glukozu 'data/PatientD_g.csv' a pro inzulin 'data/PatientD_i.csv'\n",
    "import numpy\n",
    "dataDg = numpy.genfromtxt('data/PatientD_g.csv',delimiter=',')\n",
    "dataDi = numpy.genfromtxt('data/PatientD_i.csv',delimiter=',')\n",
    "time = numpy.arange(0,720*dataDg.size,720)\n",
    "plot2(time,dataDg,y2=dataDi,labely='data pacienta D')"
   ]
  },
  {
   "cell_type": "code",
   "execution_count": null,
   "metadata": {},
   "outputs": [],
   "source": [
    "# data pacienta E\n",
    "\n",
    "dataEg = numpy.genfromtxt('data/PatientE_g.csv',delimiter=',')\n",
    "dataEi = numpy.genfromtxt('data/PatientE_i.csv',delimiter=',')\n",
    "#time = numpy.arange(0,720*dataDg.size,720)\n",
    "plot2(time,dataEg,y2=dataEi,labely='data pacienta E')"
   ]
  },
  {
   "cell_type": "code",
   "execution_count": null,
   "metadata": {},
   "outputs": [],
   "source": [
    "# data pacienta F\n",
    "dataFg = numpy.genfromtxt('data/PatientF_g.csv',delimiter=',')\n",
    "dataFi = numpy.genfromtxt('data/PatientF_i.csv',delimiter=',')\n",
    "plot2(time,dataFg,y2=dataFi,labely='data pacienta F')"
   ]
  },
  {
   "cell_type": "markdown",
   "metadata": {},
   "source": [
    "## 3 Definice pomocných rutin a funkcí\n",
    "\n",
    "Budeme používat knihovnu pyfmi. Pokud následující buňka proběhne bez chyb, pokračujte dál. Pokud se vyskytne chyba, pak musíte nainstalovat pyfmi: ve virtuální mašině nastartujte terminál a zadejte `conda install -c conda-forge pyfmi`. p úspěšné instalaci zkuste spustit opět tuto buňku."
   ]
  },
  {
   "cell_type": "code",
   "execution_count": null,
   "metadata": {},
   "outputs": [],
   "source": [
    "from pyfmi import load_fmu"
   ]
  },
  {
   "cell_type": "markdown",
   "metadata": {},
   "source": [
    "Definice funkcí pro simulaci s parametry"
   ]
  },
  {
   "cell_type": "code",
   "execution_count": null,
   "metadata": {},
   "outputs": [],
   "source": [
    "# simulace s nastavenim 2 parametru a nastaveni pyfmi\n",
    "model1 = 'fmus/Metabolism.GlucoseInsulin.Test.GlucoseToleranceTest.fmu'\n",
    "modelp = load_fmu(model1)\n",
    "opts = modelp.simulate_options()\n",
    "opts[\"ncp\"] = 360\n",
    "opts[\"CVode_options\"][\"store_event_points\"] = False # by default it is true\n",
    "def simulatemodelpyfmi(relbeta=1,\n",
    "                       relnu=1,\n",
    "                       betaname='glucoseInsulinRegulation.insulinProduction.beta_mu',\n",
    "                       nuname='glucoseInsulinRegulation.tissueUtilizationInsulinDependent.Nu_permu',\n",
    "                       sopts=opts):        \n",
    "    modelp.reset()\n",
    "    modelp.instantiate()\n",
    "    modelp.set(nuname,139000*relnu)\n",
    "    modelp.set(betaname, 1430*relbeta)\n",
    "    modelp.set(\"glucoseInfusion.width\",20)\n",
    "    res = modelp.simulate(final_time=3*24*60*60,options = sopts) \n",
    "    return res"
   ]
  },
  {
   "cell_type": "code",
   "execution_count": null,
   "metadata": {},
   "outputs": [],
   "source": [
    "# funkce pro vizuální provnání dat s modelem\n",
    "cindex=249 # index kalibrace, viz seminář\n",
    "def compare2pyfmimodeldata(relativebeta,relativenu,var1,var2,param1,param2,realdata=dataDg,realdata2=dataDg,realtime=time,modelfile=model1):\n",
    "    modelresult = simulatemodelpyfmi(relativebeta,relativenu,param1,param2)\n",
    "    # vykreslit do grafu\n",
    "    plot2(realtime,\n",
    "         realdata,modelresult[var1][cindex:cindex+10],\n",
    "         realdata2,modelresult[var2][cindex:cindex+10],\n",
    "         labely='real data',labelz='model')"
   ]
  },
  {
   "cell_type": "code",
   "execution_count": null,
   "metadata": {},
   "outputs": [],
   "source": [
    "# definice míry vzdálenosti dat od simulace modelu pro 2 datove sady s1,s2 simulace, d1,d2 data\n",
    "def mydiff2(s1,d1,s2,d2):\n",
    "    sum = 0\n",
    "    for i in range(0,s1.size):\n",
    "        sum+=((s1[i]-d1[i])*10)**2+((s2[i]-d2[i])*100)**2\n",
    "    return sum"
   ]
  },
  {
   "cell_type": "code",
   "execution_count": null,
   "metadata": {},
   "outputs": [],
   "source": [
    "# metoda monte-carlo pro parametry\n",
    "def montecarlo(datag,datai,varname1,varname2,param1,param2,cindex=249,iterations=50):\n",
    "    import random\n",
    "    #datacg = numpy.genfromtxt(\"data/PatientB_g.csv\")\n",
    "    #dataci = numpy.genfromtxt(\"data/PatientB_i.csv\")\n",
    "    #cindex=249\n",
    "    diffs = []\n",
    "    for i in range(1,iterations):\n",
    "        b=random.random(); # generuje nahodne cislo mezi 0 a 1\n",
    "        n=random.random(); # generuje nahodne cislo mezi 0 a 1        \n",
    "        modelresult = simulatemodelpyfmi(b,n,param1,param2)\n",
    "        diff= mydiff2(modelresult[varname1][cindex:cindex+10],datag,\n",
    "                     modelresult[varname2][cindex:cindex+10],datai)\n",
    "        diffs.append([b,n,diff])\n",
    "    return diffs"
   ]
  },
  {
   "cell_type": "code",
   "execution_count": null,
   "metadata": {},
   "outputs": [],
   "source": [
    "# definice funkce tak jak ji ocekava algoritmus diferential evolution \n",
    "# obdrzi pole hodnot parametru a musi vrati miru rozdilu mezi simulovanymi a realnymi daty\n",
    "# jmena sledovanych promennych a data jsou v globalnich promennych param1,param2 a var1,var2 a data1,data2\n",
    "def objectiveFunctionForGIR(p):\n",
    "    r = simulatemodelpyfmi(p[0],p[1],param1,param2)\n",
    "    diff= mydiff2(r[var1][cindex:cindex+10],data1,\n",
    "                 r[var2][cindex:cindex+10],data2)\n",
    "    return diff"
   ]
  },
  {
   "cell_type": "code",
   "execution_count": null,
   "metadata": {},
   "outputs": [],
   "source": [
    "# nastaveni globalnich promennych \n",
    "var1=\"glucoseInsulinRegulation.glucoseConc\"\n",
    "var2=\"glucoseInsulinRegulation.insulinConc\"\n",
    "param1=\"glucoseInsulinRegulation.insulinProduction.beta_mu\"\n",
    "param2=\"glucoseInsulinRegulation.tissueUtilizationInsulinDependent.Nu_permu\""
   ]
  },
  {
   "cell_type": "markdown",
   "metadata": {},
   "source": [
    "## 4 odhad parametrů"
   ]
  },
  {
   "cell_type": "markdown",
   "metadata": {},
   "source": [
    "Data máme načtená v polích\n",
    "```\n",
    "# pro pacienta D: dataDg dataDi\n",
    "# pro pacienta E: dataEg dataEi\n",
    "# pro pacienta F: dataFg dataFi\n",
    "```"
   ]
  },
  {
   "cell_type": "markdown",
   "metadata": {},
   "source": [
    "### 4.1 Odhadneme parametry metodou Monte-Carlo\n",
    "\n",
    "s 1000 iteracemi (1000x se zavolá simulace pro rozdílné parametry) pro pacienta D."
   ]
  },
  {
   "cell_type": "code",
   "execution_count": null,
   "metadata": {},
   "outputs": [],
   "source": [
    "# odhad parametru metodou monte carlo - dosadim data pacienta D - dataDg a dataDi\n",
    "diffsD = montecarlo(dataDg,dataDi,var1,var2,param1,param2,iterations=1000)"
   ]
  },
  {
   "cell_type": "code",
   "execution_count": null,
   "metadata": {},
   "outputs": [],
   "source": [
    "diffsD.sort(key=lambda x:x[2]) \n",
    "compare2pyfmimodeldata(diffsD[0][0],diffsD[0][1],var1,var2,param1,param2,realdata=dataDg,realdata2=dataDi)\n",
    "print('nejlepsi hodnoty parametru beta:',diffsD[0][0],'nu:',diffsD[0][1],' diff:',diffsD[0][2])"
   ]
  },
  {
   "cell_type": "markdown",
   "metadata": {},
   "source": [
    "### 4.2 Odhadneme parametry metodou Differential-Evolution\n",
    "\n",
    "pro pacienta D. Dokumentace viz https://docs.scipy.org/doc/scipy/reference/optimize.html"
   ]
  },
  {
   "cell_type": "code",
   "execution_count": null,
   "metadata": {},
   "outputs": [],
   "source": [
    "# importujeme knihovnu scipy\n",
    "import scipy.optimize"
   ]
  },
  {
   "cell_type": "code",
   "execution_count": null,
   "metadata": {},
   "outputs": [],
   "source": [
    "# nastavíme data1 a data2 pro objectiveFunctionForGIR na data našeho pacienta\n",
    "data1=dataDg\n",
    "data2=dataDi\n",
    "resD = scipy.optimize.differential_evolution(objectiveFunctionForGIR, [[0,1],[0,1]])"
   ]
  },
  {
   "cell_type": "code",
   "execution_count": null,
   "metadata": {},
   "outputs": [],
   "source": [
    "# výpis výsledku\n",
    "resD"
   ]
  },
  {
   "cell_type": "code",
   "execution_count": null,
   "metadata": {},
   "outputs": [],
   "source": [
    "compare2pyfmimodeldata(resD.x[0],resD.x[1],var1,var2,param1,param2,realdata=data1,realdata2=data2)\n",
    "print('nejlepsi hodnoty parametru beta:',resD.x[0],'nu:',resD.x[1],' diff:',resD.fun)"
   ]
  },
  {
   "cell_type": "markdown",
   "metadata": {},
   "source": [
    "## 5 Odhad parametrů a srovnání výsledků\n",
    "  * 5.1 Proveďte odhad parametrů pro pacienta E a F oběma metodami (Monte-Carlo a Differential-Evolution)\n",
    "  * 5.2 Určete počet iterací které provedl algoritmus differential_evolution (struktura resD), dokumentace viz https://docs.scipy.org/doc/scipy/reference/generated/scipy.optimize.differential_evolution.html#scipy.optimize.differential_evolution)\n",
    "  * 5.3 Srovnejte výsledky odhadů (beta,nu), míry rozdílu od reálných dat (diff) a počet iterací (simulací, které metoda provedla) obou metod pro všechny pacienty D,E,F (např. tabulkou)\n"
   ]
  },
  {
   "cell_type": "code",
   "execution_count": null,
   "metadata": {},
   "outputs": [],
   "source": []
  }
 ],
 "metadata": {
  "kernelspec": {
   "display_name": "Python 3",
   "language": "python",
   "name": "python3"
  },
  "language_info": {
   "codemirror_mode": {
    "name": "ipython",
    "version": 3
   },
   "file_extension": ".py",
   "mimetype": "text/x-python",
   "name": "python",
   "nbconvert_exporter": "python",
   "pygments_lexer": "ipython3",
   "version": "3.8.3"
  }
 },
 "nbformat": 4,
 "nbformat_minor": 2
}
