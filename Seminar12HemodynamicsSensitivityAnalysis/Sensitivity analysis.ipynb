{
 "cells": [
  {
   "cell_type": "markdown",
   "metadata": {},
   "source": [
    "# Sensitivity Analysis (citlivostní analýza)\n",
    "\n",
    "This tutorial goes through necesarry steps in order to do \"sensitivity analysis\" of the model. The example model here is cardiovascular hemodynamics controlled by Baroreflex.\n",
    "\n",
    "This is jupyter notebook, with text-cells and code-cells with python code. \n",
    "\n",
    "You can run the code cells and execute Python or any other language scripts there by pressing `Shift-Enter`.\n",
    "\n",
    "There are Ellipsis in the code `...` which means you need edit the cell and place some correct value,parameter,identifier based on the task.\n",
    "\n"
   ]
  },
  {
   "cell_type": "markdown",
   "metadata": {},
   "source": [
    "## 1. Install PyFmi and SALib\n",
    "You need to import pyfmi library in order to simulate models in FMU from Python. If the following command doesn't produce any error you may continue. If error happens, you need to install pyfmi, e.g. `conda install -c conda-forge pyfmi`.\n",
    "\n",
    "From section 4 you need to import SALib library in order to use advanced routines available for sensitivity analysis. You need to install using `pip install SALib`. Don't use `conda install ...` as it install old incompatible library.\n"
   ]
  },
  {
   "cell_type": "code",
   "execution_count": null,
   "metadata": {},
   "outputs": [],
   "source": [
    "from pyfmi import load_fmu\n"
   ]
  },
  {
   "cell_type": "markdown",
   "metadata": {},
   "source": [
    "## 2. Load model and define basic routines\n",
    "\n",
    "We will work with model of Hemodynamics of Cardiovascular system per Meurs, with original parameter names:\n",
    "`EETHV` elastance of extrathoracic veins `EITHV` elastance of intrathoracic veins `EETHA` elastance of extrathoracic arteries `EITHA` elastance of intrathoracic arteries, `RETHA` and `RETHV` resistance of extrathoracic arteries and veins.\n",
    "\n",
    "[1] J. A. Goodwin, W. L. van Meurs, C. D. S \u0001a Couto, J. E. W. Beneken, S. A. Graves, A Model for Educational Simulation of Infant Cardiovascular Physiology, Anesthesia & Analgesia 99 (6) (2004) 1655–1664. doi:10.1213/01.ANE.0000134797.52793.AF."
   ]
  },
  {
   "cell_type": "code",
   "execution_count": null,
   "metadata": {},
   "outputs": [],
   "source": [
    "#Load FMU \n",
    "# for linux use MOS2016FMI_HemodynamicsMU.linux.fmu\n",
    "# for windows use MOS2016FMI_HemodynamicsMU.win.fmu\n",
    "model = load_fmu('MOS2016FMI_HemodynamicsMU.linux.fmu')"
   ]
  },
  {
   "cell_type": "code",
   "execution_count": null,
   "metadata": {},
   "outputs": [],
   "source": [
    "#task set number of simulation points to 600\n",
    "opts = model.simulate_options()\n",
    "opts['ncp']=...\n"
   ]
  },
  {
   "cell_type": "code",
   "execution_count": null,
   "metadata": {},
   "outputs": [],
   "source": [
    "# define routines to simulate and trigger a parameter\n",
    "# task, set simulation time to 20 seconds in call simulate(final_time=...)\n",
    "def simulate_relative(param_name,param_defaultvalue,relvc=1,sopts=opts):\n",
    "    model.reset()\n",
    "    #model.instantiate() # needs to ba called in FMU 2.0 from openmodelica, not implemented in FMU 1.0 Dymola\n",
    "    model.initialize()\n",
    "    model.reset()\n",
    "    #param_name = 'Eithv.Elastance'\n",
    "    #value = 2426467.450953 \n",
    "    model.set(param_name,relvc*param_defaultvalue)\n",
    "    res = model.simulate(final_time=...,options = sopts) \n",
    "    return res\n",
    "\n",
    "def simulate_relativeeithv(relvc=1,sopts=opts):\n",
    "    return simulate_relative('Eithv.Elastance',2426467.450953,relvc)\n",
    "\n",
    "def simulate_relativeeethv(relvc=1,sopts=opts):    \n",
    "    return simulate_relative('Eethv.Elastance',2253148.3473135,relvc)\n",
    "\n",
    "def simulate_relativeeitha(relvc=1,sopts=opts):\n",
    "    return simulate_relative('Eitha.Elastance',190651014.00345,relvc)\n",
    "\n",
    "def simulate_relativeeetha(relvc=1,sopts=opts):    \n",
    "    return simulate_relative('Eetha.Elastance',74127247.40274,relvc)\n",
    "\n",
    "def simulate_relativeretha(relvc=1,sopts=opts):\n",
    "    return simulate_relative('Retha.Resistance',7999343.2449,relvc)\n",
    "\n",
    "def simulate_relativerethv(relvc=1,sopts=opts):\n",
    "    return simulate_relative('Rethv.Resistance',11999014.86735,relvc)\n",
    "\n",
    "# Task 2.1 find some other relevant parameter which may influence mean arterial pressure"
   ]
  },
  {
   "cell_type": "code",
   "execution_count": null,
   "metadata": {},
   "outputs": [],
   "source": [
    "r1=simulate_relativeeetha(1)"
   ]
  },
  {
   "cell_type": "code",
   "execution_count": null,
   "metadata": {},
   "outputs": [],
   "source": [
    "# define routine to plot simulation results\n",
    "def plot(x,y,z=None):\n",
    "    %matplotlib inline\n",
    "    import matplotlib.pyplot as plt\n",
    "    fig = plt.figure()\n",
    "    plt.plot(x,y,'r')\n",
    "    if z is not None:\n",
    "        plt.plot(x,z,'b')\n",
    "    plt.show()"
   ]
  },
  {
   "cell_type": "code",
   "execution_count": null,
   "metadata": {},
   "outputs": [],
   "source": [
    "# show size of simulation result array\n",
    "r1['Eitha.q_in.pressure'].size\n"
   ]
  },
  {
   "cell_type": "code",
   "execution_count": null,
   "metadata": {},
   "outputs": [],
   "source": [
    "# task we have 600 simulation points. count mean arterial pressure from last third ( from point 401), replace [...:]\n",
    "# we may need to count mean value of arterial pressure\n",
    "import numpy\n",
    "mean = numpy.mean(r1['Eitha.q_in.pressure'][...:])\n",
    "print(mean)\n",
    "plot(r1['time'],r1['Eitha.q_in.pressure'],numpy.full(r1['time'].size,mean))"
   ]
  },
  {
   "cell_type": "code",
   "execution_count": null,
   "metadata": {},
   "outputs": [],
   "source": []
  },
  {
   "cell_type": "code",
   "execution_count": null,
   "metadata": {},
   "outputs": [],
   "source": []
  },
  {
   "cell_type": "code",
   "execution_count": null,
   "metadata": {},
   "outputs": [],
   "source": [
    "# define function to compute mean from part of the array\n",
    "def compute_mean(res,part=6):\n",
    "    last_part = res['Eitha.q_in.pressure'].size// part * (part-1) \n",
    "    # we do not want mean value when simulation is not steady - first half of simulation\n",
    "    mean = numpy.mean(res['Eitha.q_in.pressure'][last_part:]) # take into account last half\n",
    "    return mean;\n",
    "\n",
    "# define function to plot the values and mean value\n",
    "def show_plot_mean(res,part=6):\n",
    "    mean = compute_mean(res,part)\n",
    "    print('mean pressure:', mean)\n",
    "    plot(res['time'],res['Eitha.q_in.pressure'],numpy.full(res['time'].size,mean))\n",
    "    \n",
    "# Task define similar functions - but which will show and compute in mmHg"
   ]
  },
  {
   "cell_type": "code",
   "execution_count": null,
   "metadata": {},
   "outputs": [],
   "source": [
    "# task simulate with eetha to be 10% of normal value (10% = 0.1)\n",
    "r2=simulate_relativeeetha(...)\n",
    "\n",
    "show_plot_mean(r2)"
   ]
  },
  {
   "cell_type": "code",
   "execution_count": null,
   "metadata": {},
   "outputs": [],
   "source": [
    "# Optional task: define similar functions  to show_plot_mean in mmHg (not in Pa)\n",
    "..."
   ]
  },
  {
   "cell_type": "markdown",
   "metadata": {},
   "source": [
    "## 2. What is Sensitivity Analysis?\n",
    "\n",
    "“...the study of how the uncertainty in the output of a mathematical model or system (numerical or otherwise) can be apportioned to different sources of uncertainty in its inputs.”\n",
    "\n",
    "There are three settings for sensitivity analysis:\n",
    "\n",
    "    Ranking (factor prioritisation) - which parameters are most influential?\n",
    "    Screening (factor fixing) - which parameters can we ignore?\n",
    "    Factor mapping - which inputs matter for just this space in the model output?\n",
    "\n",
    "There are two types of approaches:\n",
    "\n",
    "    Local approaches\n",
    "    Global approaches\n",
    "\n",
    "And two sampling methods:\n",
    "\n",
    "    One-at-a-time (OAT)\n",
    "    All-at-a-time (AAT)\n",
    "\n",
    "References: \n",
    "\n",
    "[1] Pianosi, F., Beven, K., Freer, J., Hall, J. W., Rougier, J., Stephenson, D. B., & Wagener, T. (2016). Sensitivity analysis of environmental models: A systematic review with practical workflow. Environmental Modelling & Software, 79, 214–232. https://doi.org/10.1016/j.envsoft.2016.02.008\n"
   ]
  },
  {
   "cell_type": "markdown",
   "metadata": {},
   "source": [
    "### 2.1 Interactive simulation\n",
    "\n",
    "Find the sliders in the example bellow.\n",
    "\n"
   ]
  },
  {
   "cell_type": "code",
   "execution_count": null,
   "metadata": {},
   "outputs": [],
   "source": [
    "# define function to simulate with multiple parameters set\n",
    "def simulate_relative_all(param_names,param_defaultvalues,relvc,sopts=opts):\n",
    "    model.reset()\n",
    "    #model.instantiate() # needs to ba called in FMU 2.0 from openmodelica, not implemented in FMU 1.0 Dymola\n",
    "    model.initialize()\n",
    "    model.reset()\n",
    "    #param_name = 'Eithv.Elastance'\n",
    "    #value = 2426467.450953 \n",
    "    for i in range(0,len(param_names)):\n",
    "        model.set(param_names[i],relvc[i]*param_defaultvalues[i])\n",
    "    res = model.simulate(final_time=20,options = sopts) # 2.1 replace ... with 3 days recalculated in seconds\n",
    "    return res\n",
    "\n",
    "def simulate_all(eithv=1,eethv=1,eitha=1,eetha=1,retha=1,rethv=1,raov=1,rpv=1):\n",
    "    pnames = ['Eithv.Elastance','Eethv.Elastance','Eitha.Elastance','Eetha.Elastance','Retha.Resistance','Rethv.Resistance','AorticValve._Ron','PulmonaryValve._Ron']\n",
    "    pdvalues = [2426467.450953,2253148.3473135,190651014.00345,74127247.40274,7999343.2449,11999014.86735,1066579.09932,399967.162245]\n",
    "    relvalues=[eithv,eethv,eitha,eetha,retha,rethv,raov,rpv]\n",
    "    return simulate_relative_all(pnames,pdvalues,relvalues)"
   ]
  },
  {
   "cell_type": "code",
   "execution_count": null,
   "metadata": {},
   "outputs": [],
   "source": [
    "#Task 2.1 Which is the most influential parameter for mean arterial pressure? Try interactively.\n",
    "\n",
    "from ipywidgets import widgets, interact\n",
    "# lets do OAT interactively\n",
    "@interact(eithv=widgets.FloatSlider(value=1, min=0.1, max=10, step=0.1, continuous_update=False), \n",
    "          eethv=widgets.FloatSlider(value=1, min=0.1, max=10, step=0.1, continuous_update=False),\n",
    "          eitha=widgets.FloatSlider(value=1, min=0.1, max=10, step=0.1, continuous_update=False),\n",
    "          eetha=widgets.FloatSlider(value=1, min=0.1, max=10, step=0.1, continuous_update=False),\n",
    "          retha=widgets.FloatSlider(value=1, min=0.1, max=10, step=0.1, continuous_update=False),\n",
    "          rethv=widgets.FloatSlider(value=1, min=0.1, max=10, step=0.1, continuous_update=False),\n",
    "          raov=widgets.FloatSlider(value=1, min=0.1, max=10, step=0.1, continuous_update=False),\n",
    "          rpv=widgets.FloatSlider(value=1, min=0.1, max=10, step=0.1, continuous_update=False))\n",
    "def plot_pressure(eithv: float, eethv: float, eitha: float, eetha: float, retha: float, rethv: float, raov:float, rpv:float) -> float :\n",
    "    res = simulate_all(eithv,eethv,eitha,eetha,retha,rethv,raov,rpv)\n",
    "    show_plot_mean(res)\n",
    "    \n"
   ]
  },
  {
   "cell_type": "markdown",
   "metadata": {},
   "source": [
    "## 3.Sensitivity Analysis Techniques \n",
    "\n",
    "(adapted from Flechsig (2012), Saltelli(2008))\n",
    "\n",
    "| Type | Morris | Variance | Factorial | DMIM | Local SA |\n",
    "|:------|------|------|------|------|------|\n",
    "|Model independent? | yes | yes | yes | yes | yes|\n",
    "|Sample source | levels | distributions | levels | distributions | levels |\n",
    "|No. factors | $20-100^1$ | $<20^1$ | $>100^1$ | $<20$ | $<100$ |\n",
    "|Factor range | global | global | global | global | local |\n",
    "|Multi-factor variation | yes | yes | yes | yes | no |\n",
    "|Correlated factors? | no | no | yes | yes | no |\n",
    "|Cost (for k factors)? | $10(k+1)$ | $500(k+2)$ | $k \\to 2k$ | $500+1$ | $2(k+1)$ |\n",
    "|Estimated CPU time$^2$ | 1 day | 11 days | 3 hours | ~2 days | 1 hour |\n",
    "|Best for | Screening | Rank | Screening | Rank | - |\n",
    "  \n",
    "[1] using groups of factors would enable larger numbers of factors to be explored\n",
    "[2] assuming 5 minutes per simulation and 30 groups of factors"
   ]
  },
  {
   "cell_type": "markdown",
   "metadata": {},
   "source": [
    "### 3.0 Motivation task\n",
    "\n",
    "Note: this is very simplified example, real design of specific drugs are more complex task. \n",
    "\n",
    "From previous analysis we have set of small compound to be part of drug candidate that address specific proteins at various parts of cardiovascular system triggering resistance and/or elastic property of the vessel. Analyse the hemodynamics of Meurs and rank the elasticity and resistance parameters of various parts which influence the mean aortic pressure most and least. This analysis points to the right compound to be most/least important in drug design."
   ]
  },
  {
   "cell_type": "markdown",
   "metadata": {},
   "source": [
    "### 3.1 Monte carlo simulation\n",
    "\n",
    "We will randomly select parameter values and run a simulation with these parameters."
   ]
  },
  {
   "cell_type": "code",
   "execution_count": null,
   "metadata": {},
   "outputs": [],
   "source": []
  },
  {
   "cell_type": "code",
   "execution_count": null,
   "metadata": {},
   "outputs": [],
   "source": [
    "\n",
    "def monte_carlo(data):\n",
    "    y=[]\n",
    "    for i in range(0,len(data[0])):\n",
    "        y.append(\n",
    "            compute_mean(\n",
    "                simulate_all(data[0][i], data[1][i], data[2][i], data[3][i], data[4][i], data[5][i],data[6][i],data[7][i])\n",
    "            )\n",
    "        )\n",
    "    return y\n",
    "\n",
    "sims = 1000 # 1000 may take several minutes, 100\n",
    "\n",
    "# Make random data in the correct ranges\n",
    "eithv = numpy.random.uniform(0.1, 10, sims)\n",
    "eethv = numpy.random.uniform(0.1, 10, sims)\n",
    "eitha = numpy.random.uniform(0.1, 10, sims)\n",
    "eetha = numpy.random.uniform(0.1, 10, sims)\n",
    "retha = numpy.random.uniform(0.1, 10, sims)\n",
    "rethv = numpy.random.uniform(0.1, 10, sims)\n",
    "raov = numpy.random.uniform(0.1, 10, sims)\n",
    "rpv = numpy.random.uniform(0.1, 10, sims)\n",
    "\n",
    "data = numpy.array((eithv,eethv,eitha,eetha,retha,rethv,raov,rpv))\n",
    "\n",
    "# Run the monte carlo simulation\n",
    "y = monte_carlo(data)"
   ]
  },
  {
   "cell_type": "markdown",
   "metadata": {},
   "source": [
    "### 3.2 Scatter plots\n",
    "\n",
    "Scatter plots can tell you quite a lot about the relationship between the model inputs and outputs.\n",
    "\n",
    "Each of the scatter plots shows all the model outputs on the y-axis, but re-ordered by the relationship to the input variable (on the x-axis)."
   ]
  },
  {
   "cell_type": "code",
   "execution_count": null,
   "metadata": {},
   "outputs": [],
   "source": [
    "import matplotlib.pyplot as plt\n",
    "%matplotlib inline\n",
    "import numpy as np\n",
    "from IPython.core.pylabtools import figsize\n",
    "figsize(20, 16)\n",
    "\n",
    "# Make some scatter plots to compare the results\n",
    "plt.subplot(241)\n",
    "plt.scatter(eithv, y)\n",
    "plt.title(\"Elastance of intrathoracic veins\")\n",
    "plt.ylabel(\"Mean Pressure (Pa)\")\n",
    "plt.subplot(242)\n",
    "plt.scatter(eethv, y)\n",
    "plt.title(\"Elastance of extrathoracic veins\")\n",
    "\n",
    "plt.subplot(243)\n",
    "plt.scatter(eitha, y)\n",
    "plt.title(\"Elastance of intrathoracic veins\")\n",
    "\n",
    "plt.subplot(244)\n",
    "plt.scatter(eetha, y)\n",
    "plt.title(\"Elastance of extrathoracic veins\")\n",
    "\n",
    "plt.subplot(245)\n",
    "plt.scatter(retha, y)\n",
    "plt.title(\"Resistance of arteries\")\n",
    "plt.ylabel(\"Mean Pressure (Pa)\")\n",
    "\n",
    "plt.subplot(246)\n",
    "plt.scatter(rethv, y)\n",
    "plt.title(\"Resistance of veins\")\n",
    "\n",
    "plt.subplot(247)\n",
    "plt.scatter(raov, y)\n",
    "plt.title(\"Resistance of aortic valve\")\n",
    "\n",
    "plt.subplot(248)\n",
    "plt.scatter(rpv, y)\n",
    "plt.title(\"Resistance of pulmonary valve\")\n",
    "\n",
    "plt.tight_layout()"
   ]
  },
  {
   "cell_type": "markdown",
   "metadata": {},
   "source": [
    "### 3.3 Histogram of values\n",
    "\n",
    "We can see how often a particular value shows in a results, i.e. histogram of values."
   ]
  },
  {
   "cell_type": "code",
   "execution_count": null,
   "metadata": {},
   "outputs": [],
   "source": [
    "plt.hist(y)\n",
    "plt.xlabel(\"Mean Arterial Pressure (Pa)\")\n",
    "plt.ylabel(\"Frequency\")"
   ]
  },
  {
   "cell_type": "markdown",
   "metadata": {},
   "source": [
    "### 3.4 Motivation task summary\n",
    "\n",
    "As the Monte Carlo simulation and shapes of scatter plot above, we may carefully say: The most influential parameters for mean aorta pressure are elastance of intrathoracic veins and elastance extrathoracic veins. Resistance of aortic and pulmonary veins should be considered. For other analysed params the shape of scatter plot do not give much more information."
   ]
  },
  {
   "cell_type": "markdown",
   "metadata": {},
   "source": [
    "## 4. Sensitivity analysis using SALib\n",
    "\n",
    "SALib is a **free** **open-source** **Python** library, you can install it by running the command\n",
    "\n",
    "```python\n",
    "pip install SALib\n",
    "```\n",
    "\n",
    "[Documentation](http://salib.readthedocs.org/) is available online and you can also view the code on [Github](http://salib.github.io/SALib/).\n",
    "\n",
    "The library includes:\n",
    "* Sobol Sensitivity Analysis ([Sobol 2001](http://www.sciencedirect.com/science/article/pii/S0378475400002706), [Saltelli 2002](http://www.sciencedirect.com/science/article/pii/S0010465502002801), [Saltelli et al. 2010](http://www.sciencedirect.com/science/article/pii/S0010465509003087))\n",
    "* Method of Morris, including groups and optimal trajectories ([Morris 1991](http://www.tandfonline.com/doi/abs/10.1080/00401706.1991.10484804), [Campolongo et al. 2007](http://www.sciencedirect.com/science/article/pii/S1364815206002805))\n",
    "* Fourier Amplitude Sensitivity Test (FAST) ([Cukier et al. 1973](http://scitation.aip.org/content/aip/journal/jcp/59/8/10.1063/1.1680571), [Saltelli et al. 1999](http://amstat.tandfonline.com/doi/abs/10.1080/00401706.1999.10485594))\n",
    "* Delta Moment-Independent Measure ([Borgonovo 2007](http://www.sciencedirect.com/science/article/pii/S0951832006000883), [Plischke et al. 2013](http://www.sciencedirect.com/science/article/pii/S0377221712008995))\n",
    "* Derivative-based Global Sensitivity Measure (DGSM) ([Sobol and Kucherenko 2009](http://www.sciencedirect.com/science/article/pii/S0378475409000354))\n",
    "* Fractional Factorial Sensitivity Analysis ([Saltelli et al. 2008](http://www.wiley.com/WileyCDA/WileyTitle/productCd-0470059974.html))"
   ]
  },
  {
   "cell_type": "code",
   "execution_count": null,
   "metadata": {},
   "outputs": [],
   "source": [
    "from SALib.sample import morris as ms\n",
    "from SALib.analyze import morris as ma\n",
    "from SALib.plotting import morris as mp"
   ]
  },
  {
   "cell_type": "code",
   "execution_count": null,
   "metadata": {},
   "outputs": [],
   "source": [
    "# define a problem\n",
    "morris_problem = {\n",
    "    # There are n variables\n",
    "    'num_vars': 8,\n",
    "    # These are their names\n",
    "    'names': ['eithv', 'eethv', 'eitha', 'eetha', \n",
    "              'retha', 'rethv', 'raov','rpv'],\n",
    "    # Plausible ranges over which we'll move the variables\n",
    "    'bounds': [[0.1, 10], # eithv\n",
    "               [0.1, 10], \n",
    "               [0.1, 10], \n",
    "               [0.1, 10], \n",
    "               [0.1, 10], \n",
    "               [0.1, 10],\n",
    "               [0.1, 10],\n",
    "               [0.1, 10]                                        \n",
    "              ],\n",
    "    # I don't want to group any of these variables together\n",
    "    'groups': None\n",
    "    }"
   ]
  },
  {
   "cell_type": "code",
   "execution_count": null,
   "metadata": {},
   "outputs": [],
   "source": [
    "number_of_trajectories = 10\n",
    "sample = ms.sample(morris_problem, number_of_trajectories, num_levels=4)"
   ]
  },
  {
   "cell_type": "markdown",
   "metadata": {},
   "source": [
    "### Ranking\n",
    "\n",
    "We'll run a sensitivity analysis of the power module to see which is the most influential parameter.\n",
    "\n",
    "The results parameters are called **mu**, **sigma** and **mu_star**.\n",
    "\n",
    "* **Mu** is the mean effect caused by the input parameter being moved over its range.\n",
    "* **Sigma** is the standard deviation of the mean effect.\n",
    "* **Mu_star** is the mean absolute effect."
   ]
  },
  {
   "cell_type": "code",
   "execution_count": null,
   "metadata": {},
   "outputs": [],
   "source": [
    "# Run the sample through the monte carlo procedure of the power model\n",
    "# Task 4.1 uncomment and run sensitivity analysis - it may take time\n",
    "output = monte_carlo(sample.T)\n"
   ]
  },
  {
   "cell_type": "code",
   "execution_count": null,
   "metadata": {},
   "outputs": [],
   "source": [
    "# Store the results for plotting of the analysis\n",
    "Si = ma.analyze(morris_problem, sample, numpy.array(output), print_to_console=False)\n",
    "print(\"{:20s} {:>7s} {:>7s} {:>7s}\".format(\"Name\", \"mu\", \"mu_star\", \"sigma\"))\n",
    "for name, s1, st, mean in zip(morris_problem['names'], \n",
    "                              Si['mu'], \n",
    "                              Si['mu_star'], \n",
    "                              Si['sigma']):\n",
    "    print(\"{:20s} {:=7.2f} {:=7.2f} {:=7.2f}\".format(name, s1, st, mean))"
   ]
  },
  {
   "cell_type": "markdown",
   "metadata": {},
   "source": [
    "Now, plot the results in "
   ]
  },
  {
   "cell_type": "code",
   "execution_count": null,
   "metadata": {},
   "outputs": [],
   "source": [
    "fig, (ax1, ax2) = plt.subplots(1,2)\n",
    "mp.horizontal_bar_plot(ax1, Si, {})\n",
    "mp.covariance_plot(ax2, Si, {})"
   ]
  },
  {
   "cell_type": "markdown",
   "metadata": {},
   "source": [
    "SALib at http://github.com/SALib/SALib\n",
    "Similar packages to SALib for other languages/programmes:\n",
    "\n",
    "    Matlab Toolbox SAFE for GSA\n",
    "    sensitivity package for R\n"
   ]
  },
  {
   "cell_type": "markdown",
   "metadata": {},
   "source": [
    "### 4.1 Motivation task summary\n",
    "\n",
    "From the SA analysis using Morris method - most influential are the resistance of aortic and pulmonary valves and elasticity of intrathoracic veins and arteries lead by extrathoracic veins and arteries. Limits of resistance of veins and arteries seems to be least influential to mean aortic pressure."
   ]
  },
  {
   "cell_type": "markdown",
   "metadata": {},
   "source": [
    "## Summary\n",
    "\n",
    "- installed PyFMI and SALib\n",
    "- loaded model and defined basic routines to compute mean pressure from simulation\n",
    "- did monte carlo simulations\n",
    "- show scatter plot - from monte carlo simulations\n",
    "- did selected method from SALib"
   ]
  },
  {
   "cell_type": "code",
   "execution_count": null,
   "metadata": {},
   "outputs": [],
   "source": []
  }
 ],
 "metadata": {
  "kernelspec": {
   "display_name": "Python 3",
   "language": "python",
   "name": "python3"
  },
  "language_info": {
   "codemirror_mode": {
    "name": "ipython",
    "version": 3
   },
   "file_extension": ".py",
   "mimetype": "text/x-python",
   "name": "python",
   "nbconvert_exporter": "python",
   "pygments_lexer": "ipython3",
   "version": "3.7.6"
  }
 },
 "nbformat": 4,
 "nbformat_minor": 2
}
