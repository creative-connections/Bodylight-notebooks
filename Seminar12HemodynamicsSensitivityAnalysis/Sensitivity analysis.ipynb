{
 "cells": [
  {
   "cell_type": "markdown",
   "metadata": {},
   "source": [
    "# Sensitivity Analysis (citlivostní analýza)\n",
    "\n",
    "This tutorial goes through necesarry steps in order to do \"sensitivity analysis\" of the model. The example model here is cardiovascular hemodynamics controlled by Baroreflex.\n",
    "\n",
    "This is jupyter notebook, with text-cells and code-cells with python code. \n",
    "\n",
    "You can run the code cells and execute Python or any other language scripts there by pressing `Shift-Enter`.\n",
    "\n",
    "There are Ellipsis in the code `...` which means you need edit the cell and place some correct value,parameter,identifier based on the task.\n",
    "\n"
   ]
  },
  {
   "cell_type": "markdown",
   "metadata": {},
   "source": [
    "## 1. Install PyFmi and SALib\n",
    "You need to import pyfmi library in order to simulate models in FMU from Python. If the following command doesn't produce any error you may continue. If error happens, you need to install pyfmi, e.g. `conda install -c conda-forge pyfmi`.\n",
    "\n",
    "From section 4 you need to import SALib library in order to use advanced routines available for sensitivity analysis. You need to install using `pip install SALib`. Don't use `conda install ...` as it install old incompatible library.\n"
   ]
  },
  {
   "cell_type": "code",
   "execution_count": 1,
   "metadata": {},
   "outputs": [],
   "source": [
    "from pyfmi import load_fmu"
   ]
  },
  {
   "cell_type": "markdown",
   "metadata": {},
   "source": [
    "## 2. Load model and define basic routines\n",
    "\n",
    "We will work with model of Hemodynamics of Cardiovascular system per Meurs, with original parameter names:\n",
    "`EETHV` elastance of extrathoracic veins `EITHV` elastance of intrathoracic veins `EETHA` elastance of extrathoracic arteries `EITHA` elastance of intrathoracic arteries, `RETHA` and `RETHV` resistance of extrathoracic arteries and veins.\n",
    "\n",
    "[1] J. A. Goodwin, W. L. van Meurs, C. D. S \u0001a Couto, J. E. W. Beneken, S. A. Graves, A Model for Educational Simulation of Infant Cardiovascular Physiology, Anesthesia & Analgesia 99 (6) (2004) 1655–1664. doi:10.1213/01.ANE.0000134797.52793.AF."
   ]
  },
  {
   "cell_type": "code",
   "execution_count": 2,
   "metadata": {},
   "outputs": [],
   "source": [
    "#Load FMU \n",
    "# for linux use MOS2016FMI_HemodynamicsMU.linux.fmu\n",
    "# for windows use MOS2016FMI_HemodynamicsMU.win.fmu\n",
    "model = load_fmu('MOS2016FMI_HemodynamicsMU.linux.fmu')"
   ]
  },
  {
   "cell_type": "code",
   "execution_count": 3,
   "metadata": {},
   "outputs": [],
   "source": [
    "#task set number of simulation points to 600\n",
    "opts = model.simulate_options()\n",
    "opts['ncp']=600 #...\n"
   ]
  },
  {
   "cell_type": "code",
   "execution_count": 4,
   "metadata": {},
   "outputs": [],
   "source": [
    "# define routines to simulate and trigger a parameter\n",
    "# task, set simulation time to 20 seconds in call simulate(final_time=...)\n",
    "def simulate_relative(param_name,param_defaultvalue,relvc=1,sopts=opts):\n",
    "    model.reset()\n",
    "    #model.instantiate() # needs to ba called in FMU 2.0 from openmodelica, not implemented in FMU 1.0 Dymola\n",
    "    model.initialize()\n",
    "    model.reset()\n",
    "    #param_name = 'Eithv.Elastance'\n",
    "    #value = 2426467.450953 \n",
    "    model.set(param_name,relvc*param_defaultvalue)\n",
    "    res = model.simulate(final_time=20,options = sopts) \n",
    "    return res\n",
    "\n",
    "def simulate_relativeeithv(relvc=1,sopts=opts):\n",
    "    return simulate_relative('Eithv.Elastance',2426467.450953,relvc)\n",
    "\n",
    "def simulate_relativeeethv(relvc=1,sopts=opts):    \n",
    "    return simulate_relative('Eethv.Elastance',2253148.3473135,relvc)\n",
    "\n",
    "def simulate_relativeeitha(relvc=1,sopts=opts):\n",
    "    return simulate_relative('Eitha.Elastance',190651014.00345,relvc)\n",
    "\n",
    "def simulate_relativeeetha(relvc=1,sopts=opts):    \n",
    "    return simulate_relative('Eetha.Elastance',74127247.40274,relvc)\n",
    "\n",
    "def simulate_relativeretha(relvc=1,sopts=opts):\n",
    "    return simulate_relative('Retha.Resistance',7999343.2449,relvc)\n",
    "\n",
    "def simulate_relativerethv(relvc=1,sopts=opts):\n",
    "    return simulate_relative('Rethv.Resistance',11999014.86735,relvc)\n",
    "\n",
    "# Task 2.1 find some other relevant parameter which may influence mean arterial pressure"
   ]
  },
  {
   "cell_type": "code",
   "execution_count": 5,
   "metadata": {},
   "outputs": [
    {
     "name": "stdout",
     "output_type": "stream",
     "text": [
      "Simulation interval    : 0.0 - 20.0 seconds.\n",
      "Elapsed simulation time: 0.1822822729991458 seconds.\n"
     ]
    }
   ],
   "source": [
    "r1=simulate_relativeeetha(1)"
   ]
  },
  {
   "cell_type": "code",
   "execution_count": 6,
   "metadata": {},
   "outputs": [],
   "source": [
    "# define routine to plot simulation results\n",
    "def plot(x,y,z=None):\n",
    "    %matplotlib inline\n",
    "    import matplotlib.pyplot as plt\n",
    "    fig = plt.figure()\n",
    "    plt.plot(x,y,'r')\n",
    "    if z is not None:\n",
    "        plt.plot(x,z,'b')\n",
    "    plt.show()"
   ]
  },
  {
   "cell_type": "code",
   "execution_count": 7,
   "metadata": {},
   "outputs": [
    {
     "data": {
      "text/plain": [
       "601"
      ]
     },
     "execution_count": 7,
     "metadata": {},
     "output_type": "execute_result"
    }
   ],
   "source": [
    "# show size of simulation result array\n",
    "r1['Eitha.q_in.pressure'].size\n"
   ]
  },
  {
   "cell_type": "code",
   "execution_count": 8,
   "metadata": {},
   "outputs": [
    {
     "name": "stdout",
     "output_type": "stream",
     "text": [
      "12786.61018399996\n"
     ]
    },
    {
     "data": {
      "image/png": "[encoded data removed]",
      "text/plain": [
       "<Figure size 432x288 with 1 Axes>"
      ]
     },
     "metadata": {
      "needs_background": "light"
     },
     "output_type": "display_data"
    }
   ],
   "source": [
    "# task we have 600 simulation points. count mean arterial pressure from last third ( e.g. from point 401, replace ..i in [...:])\n",
    "# we may need to count mean value of arterial pressure\n",
    "import numpy\n",
    "mean = numpy.mean(r1['Eitha.q_in.pressure'][401:])\n",
    "print(mean)\n",
    "plot(r1['time'],r1['Eitha.q_in.pressure'],numpy.full(r1['time'].size,mean))"
   ]
  },
  {
   "cell_type": "code",
   "execution_count": null,
   "metadata": {},
   "outputs": [],
   "source": []
  },
  {
   "cell_type": "code",
   "execution_count": null,
   "metadata": {},
   "outputs": [],
   "source": []
  },
  {
   "cell_type": "code",
   "execution_count": 9,
   "metadata": {},
   "outputs": [],
   "source": [
    "# define function to compute mean from part of the array\n",
    "def compute_mean(res,part=6):\n",
    "    last_part = res['Eitha.q_in.pressure'].size// part * (part-1) \n",
    "    # we do not want mean value when simulation is not steady - first half of simulation\n",
    "    mean = numpy.mean(res['Eitha.q_in.pressure'][last_part:]) # take into account last half\n",
    "    return mean;\n",
    "\n",
    "# define function to plot the values and mean value\n",
    "def show_plot_mean(res,part=6):\n",
    "    mean = compute_mean(res,part)\n",
    "    print('mean pressure:', mean)\n",
    "    plot(res['time'],res['Eitha.q_in.pressure'],numpy.full(res['time'].size,mean))\n",
    "    \n",
    "# Task define similar functions - but which will show and compute in mmHg"
   ]
  },
  {
   "cell_type": "code",
   "execution_count": 10,
   "metadata": {},
   "outputs": [
    {
     "name": "stdout",
     "output_type": "stream",
     "text": [
      "Simulation interval    : 0.0 - 20.0 seconds.\n",
      "Elapsed simulation time: 0.1657695039993996 seconds.\n",
      "mean pressure: 6977.157206691492\n"
     ]
    },
    {
     "data": {
      "image/png": "[encoded data removed]",
      "text/plain": [
       "<Figure size 432x288 with 1 Axes>"
      ]
     },
     "metadata": {
      "needs_background": "light"
     },
     "output_type": "display_data"
    }
   ],
   "source": [
    "# task simulate with eetha to be 10% of normal value (10% = 0.1)\n",
    "r2=simulate_relativeeetha(0.1)\n",
    "\n",
    "show_plot_mean(r2)"
   ]
  },
  {
   "cell_type": "code",
   "execution_count": 11,
   "metadata": {},
   "outputs": [],
   "source": [
    "# Optional task: define similar functions  to show_plot_mean in mmHg (not in Pa)\n",
    "..."
   ]
  },
  {
   "cell_type": "markdown",
   "metadata": {},
   "source": [
    "## 2. What is Sensitivity Analysis?\n",
    "\n",
    "“...the study of how the uncertainty in the output of a mathematical model or system (numerical or otherwise) can be apportioned to different sources of uncertainty in its inputs.”\n",
    "\n",
    "There are three settings for sensitivity analysis:\n",
    "\n",
    "    Ranking (factor prioritisation) - which parameters are most influential?\n",
    "    Screening (factor fixing) - which parameters can we ignore?\n",
    "    Factor mapping - which inputs matter for just this space in the model output?\n",
    "\n",
    "There are two types of approaches:\n",
    "\n",
    "    Local approaches\n",
    "    Global approaches\n",
    "\n",
    "And two sampling methods:\n",
    "\n",
    "    One-at-a-time (OAT)\n",
    "    All-at-a-time (AAT)\n",
    "\n",
    "References: \n",
    "\n",
    "[1] Pianosi, F., Beven, K., Freer, J., Hall, J. W., Rougier, J., Stephenson, D. B., & Wagener, T. (2016). Sensitivity analysis of environmental models: A systematic review with practical workflow. Environmental Modelling & Software, 79, 214–232. https://doi.org/10.1016/j.envsoft.2016.02.008\n"
   ]
  },
  {
   "cell_type": "markdown",
   "metadata": {},
   "source": [
    "### 2.1 Interactive simulation\n",
    "\n",
    "Find the sliders in the example bellow.\n",
    "\n"
   ]
  },
  {
   "cell_type": "code",
   "execution_count": 12,
   "metadata": {},
   "outputs": [],
   "source": [
    "# define function to simulate with multiple parameters set\n",
    "def simulate_relative_all(param_names,param_defaultvalues,relvc,sopts=opts):\n",
    "    model.reset()\n",
    "    #model.instantiate() # needs to ba called in FMU 2.0 from openmodelica, not implemented in FMU 1.0 Dymola\n",
    "    model.initialize()\n",
    "    model.reset()\n",
    "    #param_name = 'Eithv.Elastance'\n",
    "    #value = 2426467.450953 \n",
    "    for i in range(0,len(param_names)):\n",
    "        model.set(param_names[i],relvc[i]*param_defaultvalues[i])\n",
    "    res = model.simulate(final_time=20,options = sopts) # 2.1 replace ... with 3 days recalculated in seconds\n",
    "    return res\n",
    "\n",
    "def simulate_all(eithv=1,eethv=1,eitha=1,eetha=1,retha=1,rethv=1,raov=1,rpv=1):\n",
    "    pnames = ['Eithv.Elastance','Eethv.Elastance','Eitha.Elastance','Eetha.Elastance','Retha.Resistance','Rethv.Resistance','AorticValve._Ron','PulmonaryValve._Ron']\n",
    "    pdvalues = [2426467.450953,2253148.3473135,190651014.00345,74127247.40274,7999343.2449,11999014.86735,1066579.09932,399967.162245]\n",
    "    relvalues=[eithv,eethv,eitha,eetha,retha,rethv,raov,rpv]\n",
    "    return simulate_relative_all(pnames,pdvalues,relvalues)"
   ]
  },
  {
   "cell_type": "code",
   "execution_count": 13,
   "metadata": {},
   "outputs": [
    {
     "data": {
      "application/vnd.jupyter.widget-view+json": {
       "model_id": "181b7c57ced249c88972d24001c90ac4",
       "version_major": 2,
       "version_minor": 0
      },
      "text/plain": [
       "interactive(children=(FloatSlider(value=1.0, continuous_update=False, description='eithv', max=10.0, min=0.1),…"
      ]
     },
     "metadata": {},
     "output_type": "display_data"
    }
   ],
   "source": [
    "#Estimate the most influential parameter for mean arterial pressure? Try interactively.\n",
    "\n",
    "from ipywidgets import widgets, interact\n",
    "# lets do OAT interactively\n",
    "@interact(eithv=widgets.FloatSlider(value=1, min=0.1, max=10, step=0.1, continuous_update=False), \n",
    "          eethv=widgets.FloatSlider(value=1, min=0.1, max=10, step=0.1, continuous_update=False),\n",
    "          eitha=widgets.FloatSlider(value=1, min=0.1, max=10, step=0.1, continuous_update=False),\n",
    "          eetha=widgets.FloatSlider(value=1, min=0.1, max=10, step=0.1, continuous_update=False),\n",
    "          retha=widgets.FloatSlider(value=1, min=0.1, max=10, step=0.1, continuous_update=False),\n",
    "          rethv=widgets.FloatSlider(value=1, min=0.1, max=10, step=0.1, continuous_update=False),\n",
    "          raov=widgets.FloatSlider(value=1, min=0.1, max=10, step=0.1, continuous_update=False),\n",
    "          rpv=widgets.FloatSlider(value=1, min=0.1, max=10, step=0.1, continuous_update=False))\n",
    "def plot_pressure(eithv: float, eethv: float, eitha: float, eetha: float, retha: float, rethv: float, raov:float, rpv:float) -> float :\n",
    "    res = simulate_all(eithv,eethv,eitha,eetha,retha,rethv,raov,rpv)\n",
    "    show_plot_mean(res)\n",
    "    \n"
   ]
  },
  {
   "cell_type": "markdown",
   "metadata": {},
   "source": [
    "## 3.Sensitivity Analysis Techniques \n",
    "\n",
    "(adapted from Flechsig (2012), Saltelli(2008))\n",
    "\n",
    "| Type | Morris | Variance | Factorial | DMIM | Local SA |\n",
    "|:------|------|------|------|------|------|\n",
    "|Model independent? | yes | yes | yes | yes | yes|\n",
    "|Sample source | levels | distributions | levels | distributions | levels |\n",
    "|No. factors | $20-100^1$ | $<20^1$ | $>100^1$ | $<20$ | $<100$ |\n",
    "|Factor range | global | global | global | global | local |\n",
    "|Multi-factor variation | yes | yes | yes | yes | no |\n",
    "|Correlated factors? | no | no | yes | yes | no |\n",
    "|Cost (for k factors)? | $10(k+1)$ | $500(k+2)$ | $k \\to 2k$ | $500+1$ | $2(k+1)$ |\n",
    "|Estimated CPU time$^2$ | 1 day | 11 days | 3 hours | ~2 days | 1 hour |\n",
    "|Best for | Screening | Rank | Screening | Rank | - |\n",
    "  \n",
    "[1] using groups of factors would enable larger numbers of factors to be explored\n",
    "[2] assuming 5 minutes per simulation and 30 groups of factors"
   ]
  },
  {
   "cell_type": "markdown",
   "metadata": {},
   "source": [
    "### 3.0 Motivation task\n",
    "\n",
    "Note: this is very simplified example, real design of specific drugs are more complex task. \n",
    "\n",
    "From previous analysis we have set of small compound to be part of drug candidate that address specific proteins at various parts of cardiovascular system triggering resistance and/or elastic property of the vessel. Analyse the hemodynamics of Meurs and rank the elasticity and resistance parameters of various parts which influence the mean aortic pressure most and least. This analysis points to the right compound to be most/least important in drug design."
   ]
  },
  {
   "cell_type": "markdown",
   "metadata": {},
   "source": [
    "### 3.1 Monte carlo simulation\n",
    "\n",
    "We will randomly select parameter values and run a simulation with these parameters."
   ]
  },
  {
   "cell_type": "code",
   "execution_count": 14,
   "metadata": {},
   "outputs": [],
   "source": [
    "# define monte carlo simulation - based on random data\n",
    "def monte_carlo(data):\n",
    "    y=[]\n",
    "    for i in range(0,len(data[0])):\n",
    "        y.append(\n",
    "            compute_mean(\n",
    "                simulate_all(data[0][i], data[1][i], data[2][i], data[3][i], data[4][i], data[5][i],data[6][i],data[7][i])\n",
    "            )\n",
    "        )\n",
    "    return y\n",
    "\n",
    "# example of distribution uniformly distributed from 1/min to max (random values between -1 and 1 are set to 1)\n",
    "def random_rel_number(min,max,sims):\n",
    "    r1 = numpy.random.uniform(-min, max, sims) \n",
    "    r2 = [(1/(-r) if (r<-1) else 1 if r<1 else r) for r in r1]\n",
    "    return r2\n",
    "\n"
   ]
  },
  {
   "cell_type": "code",
   "execution_count": null,
   "metadata": {},
   "outputs": [],
   "source": []
  },
  {
   "cell_type": "code",
   "execution_count": null,
   "metadata": {},
   "outputs": [],
   "source": [
    "# task set number of monte carlo simulations e.g. 1000 (5-10 minutes)\n",
    "sims = 100 # 1000 may take several minutes"
   ]
  },
  {
   "cell_type": "code",
   "execution_count": null,
   "metadata": {},
   "outputs": [],
   "source": [
    "# Generate random data in the correct ranges for each parameter\n",
    "eithv = random_rel_number(10,10,sims)\n",
    "eethv = random_rel_number(10,10,sims)\n",
    "eitha = random_rel_number(10,10,sims)\n",
    "eetha = random_rel_number(10,10,sims)\n",
    "retha = random_rel_number(10,10,sims)\n",
    "rethv = random_rel_number(10,10,sims)\n",
    "raov = random_rel_number(1,100,sims)\n",
    "rpv = random_rel_number(1,100,sims)\n",
    "\n",
    "data = numpy.array((eithv,eethv,eitha,eetha,retha,rethv,raov,rpv))\n",
    "\n",
    "# Run the monte carlo simulation for the pregenerated random parameters\n",
    "y = monte_carlo(data)"
   ]
  },
  {
   "cell_type": "markdown",
   "metadata": {},
   "source": [
    "### 3.2 Scatter plots\n",
    "\n",
    "Scatter plots can tell you quite a lot about the relationship between the model inputs and outputs.\n",
    "\n",
    "Each of the scatter plots shows all the model outputs on the y-axis, but re-ordered by the relationship to the input variable (on the x-axis)."
   ]
  },
  {
   "cell_type": "code",
   "execution_count": 21,
   "metadata": {},
   "outputs": [
    {
     "ename": "NameError",
     "evalue": "name 'eithv' is not defined",
     "output_type": "error",
     "traceback": [
      "\u001b[0;31m---------------------------------------------------------------------------\u001b[0m",
      "\u001b[0;31mNameError\u001b[0m                                 Traceback (most recent call last)",
      "\u001b[0;32m<ipython-input-21-cbe68f986c91>\u001b[0m in \u001b[0;36m<module>\u001b[0;34m\u001b[0m\n\u001b[1;32m      7\u001b[0m \u001b[0;31m# Make some scatter plots to compare the results\u001b[0m\u001b[0;34m\u001b[0m\u001b[0;34m\u001b[0m\u001b[0;34m\u001b[0m\u001b[0m\n\u001b[1;32m      8\u001b[0m \u001b[0max\u001b[0m \u001b[0;34m=\u001b[0m \u001b[0mplt\u001b[0m\u001b[0;34m.\u001b[0m\u001b[0msubplot\u001b[0m\u001b[0;34m(\u001b[0m\u001b[0;36m241\u001b[0m\u001b[0;34m)\u001b[0m\u001b[0;34m\u001b[0m\u001b[0;34m\u001b[0m\u001b[0m\n\u001b[0;32m----> 9\u001b[0;31m \u001b[0max\u001b[0m\u001b[0;34m.\u001b[0m\u001b[0mscatter\u001b[0m\u001b[0;34m(\u001b[0m\u001b[0meithv\u001b[0m\u001b[0;34m,\u001b[0m \u001b[0my\u001b[0m\u001b[0;34m)\u001b[0m\u001b[0;34m\u001b[0m\u001b[0;34m\u001b[0m\u001b[0m\n\u001b[0m\u001b[1;32m     10\u001b[0m \u001b[0mplt\u001b[0m\u001b[0;34m.\u001b[0m\u001b[0mtitle\u001b[0m\u001b[0;34m(\u001b[0m\u001b[0;34m\"Elastance of intrathoracic veins\"\u001b[0m\u001b[0;34m)\u001b[0m\u001b[0;34m\u001b[0m\u001b[0;34m\u001b[0m\u001b[0m\n\u001b[1;32m     11\u001b[0m \u001b[0mplt\u001b[0m\u001b[0;34m.\u001b[0m\u001b[0mylabel\u001b[0m\u001b[0;34m(\u001b[0m\u001b[0;34m\"Mean Pressure (Pa)\"\u001b[0m\u001b[0;34m)\u001b[0m\u001b[0;34m\u001b[0m\u001b[0;34m\u001b[0m\u001b[0m\n",
      "\u001b[0;31mNameError\u001b[0m: name 'eithv' is not defined"
     ]
    },
    {
     "data": {
      "image/png": "[encoded data removed]",
      "text/plain": [
       "<Figure size 1440x1152 with 1 Axes>"
      ]
     },
     "metadata": {
      "needs_background": "light"
     },
     "output_type": "display_data"
    }
   ],
   "source": [
    "import matplotlib.pyplot as plt\n",
    "%matplotlib inline\n",
    "import numpy as np\n",
    "from IPython.core.pylabtools import figsize\n",
    "figsize(20, 16)\n",
    "\n",
    "# Make some scatter plots to compare the results\n",
    "ax = plt.subplot(241)\n",
    "ax.scatter(eithv, y)\n",
    "plt.title(\"Elastance of intrathoracic veins\")\n",
    "plt.ylabel(\"Mean Pressure (Pa)\")\n",
    "ax.set_xscale('log')\n",
    "\n",
    "ax = plt.subplot(242)\n",
    "plt.scatter(eethv, y)\n",
    "ax.set_xscale('log')\n",
    "plt.title(\"Elastance of extrathoracic veins\")\n",
    "\n",
    "ax= plt.subplot(243)\n",
    "plt.scatter(eitha, y)\n",
    "ax.set_xscale('log')\n",
    "plt.title(\"Elastance of intrathoracic arteries\")\n",
    "\n",
    "ax = plt.subplot(244)\n",
    "plt.scatter(eetha, y)\n",
    "ax.set_xscale('log')\n",
    "plt.title(\"Elastance of extrathoracic arteries\")\n",
    "\n",
    "ax = plt.subplot(245)\n",
    "plt.scatter(retha, y)\n",
    "plt.title(\"Resistance of arteries\")\n",
    "ax.set_xscale('log')\n",
    "plt.ylabel(\"Mean Pressure (Pa)\")\n",
    "\n",
    "ax = plt.subplot(246)\n",
    "plt.scatter(rethv, y)\n",
    "ax.set_xscale('log')\n",
    "plt.title(\"Resistance of veins\")\n",
    "\n",
    "ax = plt.subplot(247)\n",
    "plt.scatter(raov, y)\n",
    "#ax.set_xscale('log')\n",
    "plt.title(\"Resistance of aortic valve\")\n",
    "\n",
    "ax = plt.subplot(248)\n",
    "plt.scatter(rpv, y)\n",
    "#ax.set_xscale('log')\n",
    "plt.title(\"Resistance of pulmonary valve\")\n",
    "\n",
    "plt.tight_layout()"
   ]
  },
  {
   "cell_type": "markdown",
   "metadata": {},
   "source": [
    "### 3.3 Histogram of values\n",
    "\n",
    "We can see how often a particular value shows in a results, i.e. histogram of values."
   ]
  },
  {
   "cell_type": "code",
   "execution_count": null,
   "metadata": {},
   "outputs": [],
   "source": [
    "plt.hist(y)\n",
    "plt.xlabel(\"Mean Arterial Pressure (Pa)\")\n",
    "plt.ylabel(\"Frequency\")"
   ]
  },
  {
   "cell_type": "markdown",
   "metadata": {},
   "source": [
    "### 3.4 Task \n",
    "\n",
    "As the Monte Carlo simulation and shapes of scatter plot above, fill your estimate most and least influential parameter, compare later with 4.1\n",
    "\n",
    "The most influential parameters for mean aorta pressure may be: ...\n",
    "\n",
    "The least influential parameters for mean aorta pressure may be: ..."
   ]
  },
  {
   "cell_type": "markdown",
   "metadata": {},
   "source": [
    "## 4. Sensitivity analysis using SALib\n",
    "\n",
    "SALib is a **free** **open-source** **Python** library, you can install it by running the command\n",
    "\n",
    "```python\n",
    "pip install SALib\n",
    "```\n",
    "\n",
    "[Documentation](http://salib.readthedocs.org/) is available online and you can also view the code on [Github](http://salib.github.io/SALib/).\n",
    "\n",
    "The library includes:\n",
    "* Sobol Sensitivity Analysis ([Sobol 2001](http://www.sciencedirect.com/science/article/pii/S0378475400002706), [Saltelli 2002](http://www.sciencedirect.com/science/article/pii/S0010465502002801), [Saltelli et al. 2010](http://www.sciencedirect.com/science/article/pii/S0010465509003087))\n",
    "* Method of Morris, including groups and optimal trajectories ([Morris 1991](http://www.tandfonline.com/doi/abs/10.1080/00401706.1991.10484804), [Campolongo et al. 2007](http://www.sciencedirect.com/science/article/pii/S1364815206002805))\n",
    "* Fourier Amplitude Sensitivity Test (FAST) ([Cukier et al. 1973](http://scitation.aip.org/content/aip/journal/jcp/59/8/10.1063/1.1680571), [Saltelli et al. 1999](http://amstat.tandfonline.com/doi/abs/10.1080/00401706.1999.10485594))\n",
    "* Delta Moment-Independent Measure ([Borgonovo 2007](http://www.sciencedirect.com/science/article/pii/S0951832006000883), [Plischke et al. 2013](http://www.sciencedirect.com/science/article/pii/S0377221712008995))\n",
    "* Derivative-based Global Sensitivity Measure (DGSM) ([Sobol and Kucherenko 2009](http://www.sciencedirect.com/science/article/pii/S0378475409000354))\n",
    "* Fractional Factorial Sensitivity Analysis ([Saltelli et al. 2008](http://www.wiley.com/WileyCDA/WileyTitle/productCd-0470059974.html))"
   ]
  },
  {
   "cell_type": "code",
   "execution_count": 15,
   "metadata": {},
   "outputs": [],
   "source": [
    "from SALib.sample import morris as ms\n",
    "from SALib.analyze import morris as ma\n",
    "from SALib.plotting import morris as mp"
   ]
  },
  {
   "cell_type": "code",
   "execution_count": 16,
   "metadata": {},
   "outputs": [],
   "source": [
    "# define a problem\n",
    "morris_problem = {\n",
    "    # There are n variables\n",
    "    'num_vars': 8,\n",
    "    # These are their names\n",
    "    'names': ['eithv', 'eethv', 'eitha', 'eetha', \n",
    "              'retha', 'rethv', 'raov','rpv'],\n",
    "    # Plausible ranges over which we'll move the variables\n",
    "    'bounds': [[0.1, 10], # eithv\n",
    "               [0.1, 10], \n",
    "               [0.1, 10], \n",
    "               [0.1, 10], \n",
    "               [0.1, 10], \n",
    "               [0.1, 10],\n",
    "               [1, 100],\n",
    "               [1, 100]                                        \n",
    "              ],\n",
    "    # I don't want to group any of these variables together\n",
    "    'groups': None\n",
    "    }"
   ]
  },
  {
   "cell_type": "code",
   "execution_count": 17,
   "metadata": {},
   "outputs": [],
   "source": [
    "# task, set number of trajecories to 100\n",
    "number_of_trajectories = 40\n",
    "sample = ms.sample(morris_problem, number_of_trajectories, num_levels=4)"
   ]
  },
  {
   "cell_type": "markdown",
   "metadata": {},
   "source": [
    "### Ranking\n",
    "\n",
    "We'll run a sensitivity analysis of the power module to see which is the most influential parameter.\n",
    "\n",
    "The results parameters are called **mu**, **sigma** and **mu_star**.\n",
    "\n",
    "* **Mu** is the mean effect caused by the input parameter being moved over its range.\n",
    "* **Sigma** is the standard deviation of the mean effect.\n",
    "* **Mu_star** is the mean absolute effect."
   ]
  },
  {
   "cell_type": "code",
   "execution_count": 18,
   "metadata": {},
   "outputs": [
    {
     "name": "stdout",
     "output_type": "stream",
     "text": [
      "Simulation interval    : 0.0 - 20.0 seconds.\n",
      "Elapsed simulation time: 0.16710290700029873 seconds.\n",
      "Simulation interval    : 0.0 - 20.0 seconds.\n",
      "Elapsed simulation time: 0.1485655249998672 seconds.\n",
      "Simulation interval    : 0.0 - 20.0 seconds.\n",
      "Elapsed simulation time: 0.14999334800086217 seconds.\n",
      "Simulation interval    : 0.0 - 20.0 seconds.\n",
      "Elapsed simulation time: 0.15367210899967176 seconds.\n",
      "Simulation interval    : 0.0 - 20.0 seconds.\n",
      "Elapsed simulation time: 0.1671199219999835 seconds.\n",
      "Simulation interval    : 0.0 - 20.0 seconds.\n",
      "Elapsed simulation time: 0.14936883999871498 seconds.\n",
      "Simulation interval    : 0.0 - 20.0 seconds.\n",
      "Elapsed simulation time: 0.15749207999942882 seconds.\n",
      "Simulation interval    : 0.0 - 20.0 seconds.\n",
      "Elapsed simulation time: 0.15441307299988694 seconds.\n",
      "Simulation interval    : 0.0 - 20.0 seconds.\n",
      "Elapsed simulation time: 0.17034065000007104 seconds.\n",
      "Simulation interval    : 0.0 - 20.0 seconds.\n",
      "Elapsed simulation time: 0.1858210530008364 seconds.\n",
      "Simulation interval    : 0.0 - 20.0 seconds.\n",
      "Elapsed simulation time: 0.1461712879990955 seconds.\n",
      "Simulation interval    : 0.0 - 20.0 seconds.\n",
      "Elapsed simulation time: 0.14179463900109113 seconds.\n",
      "Simulation interval    : 0.0 - 20.0 seconds.\n",
      "Elapsed simulation time: 0.16552153200063913 seconds.\n",
      "Simulation interval    : 0.0 - 20.0 seconds.\n",
      "Elapsed simulation time: 0.15034866399946623 seconds.\n",
      "Simulation interval    : 0.0 - 20.0 seconds.\n",
      "Elapsed simulation time: 0.16285518699987733 seconds.\n",
      "Simulation interval    : 0.0 - 20.0 seconds.\n",
      "Elapsed simulation time: 0.13804100600100355 seconds.\n",
      "Simulation interval    : 0.0 - 20.0 seconds.\n",
      "Elapsed simulation time: 0.16040661900115083 seconds.\n",
      "Simulation interval    : 0.0 - 20.0 seconds.\n",
      "Elapsed simulation time: 0.1614792620002845 seconds.\n",
      "Simulation interval    : 0.0 - 20.0 seconds.\n",
      "Elapsed simulation time: 0.15539738600091368 seconds.\n",
      "Simulation interval    : 0.0 - 20.0 seconds.\n",
      "Elapsed simulation time: 0.20963876800124126 seconds.\n",
      "Simulation interval    : 0.0 - 20.0 seconds.\n",
      "Elapsed simulation time: 0.1745043609989807 seconds.\n",
      "Simulation interval    : 0.0 - 20.0 seconds.\n",
      "Elapsed simulation time: 0.21888346900050237 seconds.\n",
      "Simulation interval    : 0.0 - 20.0 seconds.\n",
      "Elapsed simulation time: 0.21245384800022293 seconds.\n",
      "Simulation interval    : 0.0 - 20.0 seconds.\n",
      "Elapsed simulation time: 0.17886248499962676 seconds.\n",
      "Simulation interval    : 0.0 - 20.0 seconds.\n",
      "Elapsed simulation time: 0.16412954199950036 seconds.\n",
      "Simulation interval    : 0.0 - 20.0 seconds.\n",
      "Elapsed simulation time: 0.16466644700085453 seconds.\n",
      "Simulation interval    : 0.0 - 20.0 seconds.\n",
      "Elapsed simulation time: 0.16165144900151063 seconds.\n",
      "Simulation interval    : 0.0 - 20.0 seconds.\n",
      "Elapsed simulation time: 0.161544327998854 seconds.\n",
      "Simulation interval    : 0.0 - 20.0 seconds.\n",
      "Elapsed simulation time: 0.3622203119994083 seconds.\n",
      "Simulation interval    : 0.0 - 20.0 seconds.\n",
      "Elapsed simulation time: 0.40285642100025143 seconds.\n",
      "Simulation interval    : 0.0 - 20.0 seconds.\n",
      "Elapsed simulation time: 0.4251955479994649 seconds.\n",
      "Simulation interval    : 0.0 - 20.0 seconds.\n",
      "Elapsed simulation time: 0.44594509600028687 seconds.\n",
      "Simulation interval    : 0.0 - 20.0 seconds.\n",
      "Elapsed simulation time: 0.1577739050007949 seconds.\n",
      "Simulation interval    : 0.0 - 20.0 seconds.\n",
      "Elapsed simulation time: 0.16814687800069805 seconds.\n",
      "Simulation interval    : 0.0 - 20.0 seconds.\n",
      "Elapsed simulation time: 0.14834593199884694 seconds.\n",
      "Simulation interval    : 0.0 - 20.0 seconds.\n",
      "Elapsed simulation time: 0.14293087900114188 seconds.\n",
      "Simulation interval    : 0.0 - 20.0 seconds.\n",
      "Elapsed simulation time: 0.15632192400153144 seconds.\n",
      "Simulation interval    : 0.0 - 20.0 seconds.\n",
      "Elapsed simulation time: 0.149520474999008 seconds.\n",
      "Simulation interval    : 0.0 - 20.0 seconds.\n",
      "Elapsed simulation time: 0.14362484900084382 seconds.\n",
      "Simulation interval    : 0.0 - 20.0 seconds.\n",
      "Elapsed simulation time: 0.16059566200055997 seconds.\n",
      "Simulation interval    : 0.0 - 20.0 seconds.\n",
      "Elapsed simulation time: 0.34339969099892187 seconds.\n",
      "Simulation interval    : 0.0 - 20.0 seconds.\n",
      "Elapsed simulation time: 0.32054357699962566 seconds.\n",
      "Simulation interval    : 0.0 - 20.0 seconds.\n",
      "Elapsed simulation time: 0.1353540330001124 seconds.\n",
      "Simulation interval    : 0.0 - 20.0 seconds.\n",
      "Elapsed simulation time: 0.25841737399969134 seconds.\n",
      "Simulation interval    : 0.0 - 20.0 seconds.\n",
      "Elapsed simulation time: 0.13552751499992155 seconds.\n",
      "Simulation interval    : 0.0 - 20.0 seconds.\n",
      "Elapsed simulation time: 0.14364987999942969 seconds.\n",
      "Simulation interval    : 0.0 - 20.0 seconds.\n",
      "Elapsed simulation time: 0.15396412999871245 seconds.\n",
      "Simulation interval    : 0.0 - 20.0 seconds.\n",
      "Elapsed simulation time: 0.15966888899856713 seconds.\n",
      "Simulation interval    : 0.0 - 20.0 seconds.\n",
      "Elapsed simulation time: 0.1584146810000675 seconds.\n",
      "Simulation interval    : 0.0 - 20.0 seconds.\n",
      "Elapsed simulation time: 0.15162110500023118 seconds.\n",
      "Simulation interval    : 0.0 - 20.0 seconds.\n",
      "Elapsed simulation time: 0.14551237799969385 seconds.\n",
      "Simulation interval    : 0.0 - 20.0 seconds.\n",
      "Elapsed simulation time: 0.15056994999940798 seconds.\n",
      "Simulation interval    : 0.0 - 20.0 seconds.\n",
      "Elapsed simulation time: 0.13982376099920657 seconds.\n",
      "Simulation interval    : 0.0 - 20.0 seconds.\n",
      "Elapsed simulation time: 0.16355360099987593 seconds.\n",
      "Simulation interval    : 0.0 - 20.0 seconds.\n",
      "Elapsed simulation time: 0.14525247900019167 seconds.\n",
      "Simulation interval    : 0.0 - 20.0 seconds.\n",
      "Elapsed simulation time: 0.13996449500154995 seconds.\n",
      "Simulation interval    : 0.0 - 20.0 seconds.\n",
      "Elapsed simulation time: 0.15533394100020814 seconds.\n",
      "Simulation interval    : 0.0 - 20.0 seconds.\n",
      "Elapsed simulation time: 0.2596109729984164 seconds.\n",
      "Simulation interval    : 0.0 - 20.0 seconds.\n",
      "Elapsed simulation time: 0.2674026860004233 seconds.\n",
      "Simulation interval    : 0.0 - 20.0 seconds.\n",
      "Elapsed simulation time: 0.2111741680000705 seconds.\n",
      "Simulation interval    : 0.0 - 20.0 seconds.\n",
      "Elapsed simulation time: 0.14645318299881183 seconds.\n",
      "Simulation interval    : 0.0 - 20.0 seconds.\n",
      "Elapsed simulation time: 0.16434961699997075 seconds.\n",
      "Simulation interval    : 0.0 - 20.0 seconds.\n",
      "Elapsed simulation time: 0.14579234600023483 seconds.\n",
      "Simulation interval    : 0.0 - 20.0 seconds.\n",
      "Elapsed simulation time: 0.14420311699905142 seconds.\n",
      "Simulation interval    : 0.0 - 20.0 seconds.\n",
      "Elapsed simulation time: 0.14373712499946123 seconds.\n",
      "Simulation interval    : 0.0 - 20.0 seconds.\n",
      "Elapsed simulation time: 0.4130237440003839 seconds.\n",
      "Simulation interval    : 0.0 - 20.0 seconds.\n",
      "Elapsed simulation time: 0.16080107199923077 seconds.\n",
      "Simulation interval    : 0.0 - 20.0 seconds.\n",
      "Elapsed simulation time: 0.14222386800065578 seconds.\n",
      "Simulation interval    : 0.0 - 20.0 seconds.\n",
      "Elapsed simulation time: 0.1374194850013737 seconds.\n",
      "Simulation interval    : 0.0 - 20.0 seconds.\n",
      "Elapsed simulation time: 0.24352253600045515 seconds.\n",
      "Simulation interval    : 0.0 - 20.0 seconds.\n",
      "Elapsed simulation time: 0.4544047399995179 seconds.\n",
      "Simulation interval    : 0.0 - 20.0 seconds.\n",
      "Elapsed simulation time: 0.41926104499907524 seconds.\n",
      "Simulation interval    : 0.0 - 20.0 seconds.\n",
      "Elapsed simulation time: 0.2747451280010864 seconds.\n",
      "Simulation interval    : 0.0 - 20.0 seconds.\n",
      "Elapsed simulation time: 0.15561512900058005 seconds.\n",
      "Simulation interval    : 0.0 - 20.0 seconds.\n",
      "Elapsed simulation time: 0.1489748559997679 seconds.\n",
      "Simulation interval    : 0.0 - 20.0 seconds.\n",
      "Elapsed simulation time: 0.17434123499879206 seconds.\n",
      "Simulation interval    : 0.0 - 20.0 seconds.\n",
      "Elapsed simulation time: 0.16032534499936446 seconds.\n",
      "Simulation interval    : 0.0 - 20.0 seconds.\n",
      "Elapsed simulation time: 0.14729601600083697 seconds.\n",
      "Simulation interval    : 0.0 - 20.0 seconds.\n",
      "Elapsed simulation time: 0.1601987720005127 seconds.\n",
      "Simulation interval    : 0.0 - 20.0 seconds.\n",
      "Elapsed simulation time: 0.1466883590001089 seconds.\n",
      "Simulation interval    : 0.0 - 20.0 seconds.\n",
      "Elapsed simulation time: 0.15631204999954207 seconds.\n",
      "Simulation interval    : 0.0 - 20.0 seconds.\n",
      "Elapsed simulation time: 0.14822370399997453 seconds.\n",
      "Simulation interval    : 0.0 - 20.0 seconds.\n",
      "Elapsed simulation time: 0.15666050700019696 seconds.\n",
      "Simulation interval    : 0.0 - 20.0 seconds.\n",
      "Elapsed simulation time: 0.1496654889997444 seconds.\n"
     ]
    },
    {
     "name": "stdout",
     "output_type": "stream",
     "text": [
      "Simulation interval    : 0.0 - 20.0 seconds.\n",
      "Elapsed simulation time: 1.0698622620002425 seconds.\n",
      "Simulation interval    : 0.0 - 20.0 seconds.\n",
      "Elapsed simulation time: 1.3011779869993916 seconds.\n",
      "Simulation interval    : 0.0 - 20.0 seconds.\n",
      "Elapsed simulation time: 0.1438130660008028 seconds.\n",
      "Simulation interval    : 0.0 - 20.0 seconds.\n",
      "Elapsed simulation time: 0.16559501899973839 seconds.\n",
      "Simulation interval    : 0.0 - 20.0 seconds.\n",
      "Elapsed simulation time: 0.15182610800002294 seconds.\n",
      "Simulation interval    : 0.0 - 20.0 seconds.\n",
      "Elapsed simulation time: 0.1610444580001058 seconds.\n",
      "Simulation interval    : 0.0 - 20.0 seconds.\n",
      "Elapsed simulation time: 0.132156171999668 seconds.\n",
      "Simulation interval    : 0.0 - 20.0 seconds.\n",
      "Elapsed simulation time: 0.136065005999626 seconds.\n",
      "Simulation interval    : 0.0 - 20.0 seconds.\n",
      "Elapsed simulation time: 0.1497046059994318 seconds.\n",
      "Simulation interval    : 0.0 - 20.0 seconds.\n",
      "Elapsed simulation time: 0.1453524959997594 seconds.\n",
      "Simulation interval    : 0.0 - 20.0 seconds.\n",
      "Elapsed simulation time: 0.14131777300099202 seconds.\n",
      "Simulation interval    : 0.0 - 20.0 seconds.\n",
      "Elapsed simulation time: 0.2827820540005632 seconds.\n",
      "Simulation interval    : 0.0 - 20.0 seconds.\n",
      "Elapsed simulation time: 0.3404311729991605 seconds.\n",
      "Simulation interval    : 0.0 - 20.0 seconds.\n",
      "Elapsed simulation time: 0.15496698500101047 seconds.\n",
      "Simulation interval    : 0.0 - 20.0 seconds.\n",
      "Elapsed simulation time: 0.19130310400032613 seconds.\n",
      "Simulation interval    : 0.0 - 20.0 seconds.\n",
      "Elapsed simulation time: 0.1383631089993287 seconds.\n",
      "Simulation interval    : 0.0 - 20.0 seconds.\n",
      "Elapsed simulation time: 0.14289403099974152 seconds.\n",
      "Simulation interval    : 0.0 - 20.0 seconds.\n",
      "Elapsed simulation time: 0.14565627299998596 seconds.\n",
      "Simulation interval    : 0.0 - 20.0 seconds.\n",
      "Elapsed simulation time: 0.44762559500122734 seconds.\n",
      "Simulation interval    : 0.0 - 20.0 seconds.\n",
      "Elapsed simulation time: 0.1359766329987906 seconds.\n",
      "Simulation interval    : 0.0 - 20.0 seconds.\n",
      "Elapsed simulation time: 0.1943024209995201 seconds.\n",
      "Simulation interval    : 0.0 - 20.0 seconds.\n",
      "Elapsed simulation time: 0.2143491869992431 seconds.\n",
      "Simulation interval    : 0.0 - 20.0 seconds.\n",
      "Elapsed simulation time: 0.15006746900144208 seconds.\n",
      "Simulation interval    : 0.0 - 20.0 seconds.\n",
      "Elapsed simulation time: 0.3931217689987534 seconds.\n",
      "Simulation interval    : 0.0 - 20.0 seconds.\n",
      "Elapsed simulation time: 0.1427639570010797 seconds.\n",
      "Simulation interval    : 0.0 - 20.0 seconds.\n",
      "Elapsed simulation time: 0.14081009599976824 seconds.\n",
      "Simulation interval    : 0.0 - 20.0 seconds.\n",
      "Elapsed simulation time: 0.14210798699969018 seconds.\n",
      "Simulation interval    : 0.0 - 20.0 seconds.\n",
      "Elapsed simulation time: 0.16378531499867677 seconds.\n",
      "Simulation interval    : 0.0 - 20.0 seconds.\n",
      "Elapsed simulation time: 0.14854413300054148 seconds.\n",
      "Simulation interval    : 0.0 - 20.0 seconds.\n",
      "Elapsed simulation time: 0.14515470799960895 seconds.\n",
      "Simulation interval    : 0.0 - 20.0 seconds.\n",
      "Elapsed simulation time: 0.13694537800074613 seconds.\n",
      "Simulation interval    : 0.0 - 20.0 seconds.\n",
      "Elapsed simulation time: 0.1658119820003776 seconds.\n",
      "Simulation interval    : 0.0 - 20.0 seconds.\n",
      "Elapsed simulation time: 0.1501491620001616 seconds.\n",
      "Simulation interval    : 0.0 - 20.0 seconds.\n",
      "Elapsed simulation time: 0.1477866349996475 seconds.\n",
      "Simulation interval    : 0.0 - 20.0 seconds.\n",
      "Elapsed simulation time: 0.14802857200083963 seconds.\n",
      "Simulation interval    : 0.0 - 20.0 seconds.\n",
      "Elapsed simulation time: 0.1393351980004809 seconds.\n",
      "Simulation interval    : 0.0 - 20.0 seconds.\n",
      "Elapsed simulation time: 0.13955627199902665 seconds.\n",
      "Simulation interval    : 0.0 - 20.0 seconds.\n",
      "Elapsed simulation time: 0.1422487240015471 seconds.\n",
      "Simulation interval    : 0.0 - 20.0 seconds.\n",
      "Elapsed simulation time: 0.13724867599921708 seconds.\n",
      "Simulation interval    : 0.0 - 20.0 seconds.\n",
      "Elapsed simulation time: 0.15974859400012065 seconds.\n",
      "Simulation interval    : 0.0 - 20.0 seconds.\n",
      "Elapsed simulation time: 0.35323189299924707 seconds.\n",
      "Simulation interval    : 0.0 - 20.0 seconds.\n",
      "Elapsed simulation time: 0.19440765400031523 seconds.\n",
      "Simulation interval    : 0.0 - 20.0 seconds.\n",
      "Elapsed simulation time: 0.15227773399965372 seconds.\n",
      "Simulation interval    : 0.0 - 20.0 seconds.\n",
      "Elapsed simulation time: 0.15039468899885833 seconds.\n",
      "Simulation interval    : 0.0 - 20.0 seconds.\n",
      "Elapsed simulation time: 0.13400217500020517 seconds.\n",
      "Simulation interval    : 0.0 - 20.0 seconds.\n",
      "Elapsed simulation time: 0.12899140000081388 seconds.\n",
      "Simulation interval    : 0.0 - 20.0 seconds.\n",
      "Elapsed simulation time: 0.12733622000087053 seconds.\n",
      "Simulation interval    : 0.0 - 20.0 seconds.\n",
      "Elapsed simulation time: 0.13839111500055878 seconds.\n",
      "Simulation interval    : 0.0 - 20.0 seconds.\n",
      "Elapsed simulation time: 0.12363055999958306 seconds.\n",
      "Simulation interval    : 0.0 - 20.0 seconds.\n",
      "Elapsed simulation time: 0.14360508500067226 seconds.\n",
      "Simulation interval    : 0.0 - 20.0 seconds.\n",
      "Elapsed simulation time: 0.1313381109994225 seconds.\n",
      "Simulation interval    : 0.0 - 20.0 seconds.\n",
      "Elapsed simulation time: 0.15567442999963532 seconds.\n",
      "Simulation interval    : 0.0 - 20.0 seconds.\n",
      "Elapsed simulation time: 0.1317615329990076 seconds.\n",
      "Simulation interval    : 0.0 - 20.0 seconds.\n",
      "Elapsed simulation time: 0.1442203940005129 seconds.\n",
      "Simulation interval    : 0.0 - 20.0 seconds.\n",
      "Elapsed simulation time: 0.9608123070011061 seconds.\n",
      "Simulation interval    : 0.0 - 20.0 seconds.\n",
      "Elapsed simulation time: 0.17409925799984194 seconds.\n",
      "Simulation interval    : 0.0 - 20.0 seconds.\n",
      "Elapsed simulation time: 0.36570711199965444 seconds.\n",
      "Simulation interval    : 0.0 - 20.0 seconds.\n",
      "Elapsed simulation time: 1.029233117998956 seconds.\n",
      "Simulation interval    : 0.0 - 20.0 seconds.\n",
      "Elapsed simulation time: 0.13521872399905988 seconds.\n",
      "Simulation interval    : 0.0 - 20.0 seconds.\n",
      "Elapsed simulation time: 1.639524801999869 seconds.\n",
      "Simulation interval    : 0.0 - 20.0 seconds.\n",
      "Elapsed simulation time: 0.13269638500059955 seconds.\n",
      "Simulation interval    : 0.0 - 20.0 seconds.\n",
      "Elapsed simulation time: 0.14698770500035607 seconds.\n",
      "Simulation interval    : 0.0 - 20.0 seconds.\n",
      "Elapsed simulation time: 0.28070277600090776 seconds.\n",
      "Simulation interval    : 0.0 - 20.0 seconds.\n",
      "Elapsed simulation time: 0.20052618499903474 seconds.\n",
      "Simulation interval    : 0.0 - 20.0 seconds.\n",
      "Elapsed simulation time: 0.25357622600131435 seconds.\n",
      "Simulation interval    : 0.0 - 20.0 seconds.\n",
      "Elapsed simulation time: 0.18004773800021212 seconds.\n",
      "Simulation interval    : 0.0 - 20.0 seconds.\n",
      "Elapsed simulation time: 0.1635270759998093 seconds.\n",
      "Simulation interval    : 0.0 - 20.0 seconds.\n",
      "Elapsed simulation time: 0.137943299001563 seconds.\n",
      "Simulation interval    : 0.0 - 20.0 seconds.\n",
      "Elapsed simulation time: 0.14786798400018597 seconds.\n",
      "Simulation interval    : 0.0 - 20.0 seconds.\n",
      "Elapsed simulation time: 0.1361540359994251 seconds.\n",
      "Simulation interval    : 0.0 - 20.0 seconds.\n",
      "Elapsed simulation time: 0.15613654399930965 seconds.\n",
      "Simulation interval    : 0.0 - 20.0 seconds.\n",
      "Elapsed simulation time: 0.1429681729987351 seconds.\n",
      "Simulation interval    : 0.0 - 20.0 seconds.\n",
      "Elapsed simulation time: 0.1432700469995325 seconds.\n",
      "Simulation interval    : 0.0 - 20.0 seconds.\n",
      "Elapsed simulation time: 0.12428743499913253 seconds.\n",
      "Simulation interval    : 0.0 - 20.0 seconds.\n",
      "Elapsed simulation time: 0.1587100550004834 seconds.\n",
      "Simulation interval    : 0.0 - 20.0 seconds.\n",
      "Elapsed simulation time: 0.16995898599998327 seconds.\n",
      "Simulation interval    : 0.0 - 20.0 seconds.\n",
      "Elapsed simulation time: 0.15320317700025043 seconds.\n",
      "Simulation interval    : 0.0 - 20.0 seconds.\n",
      "Elapsed simulation time: 0.15854648200001975 seconds.\n",
      "Simulation interval    : 0.0 - 20.0 seconds.\n",
      "Elapsed simulation time: 0.1483427750008559 seconds.\n",
      "Simulation interval    : 0.0 - 20.0 seconds.\n",
      "Elapsed simulation time: 0.13499051600047096 seconds.\n",
      "Simulation interval    : 0.0 - 20.0 seconds.\n",
      "Elapsed simulation time: 0.16083293100018636 seconds.\n",
      "Simulation interval    : 0.0 - 20.0 seconds.\n",
      "Elapsed simulation time: 0.13603467800021463 seconds.\n",
      "Simulation interval    : 0.0 - 20.0 seconds.\n",
      "Elapsed simulation time: 0.16707581499940716 seconds.\n",
      "Simulation interval    : 0.0 - 20.0 seconds.\n",
      "Elapsed simulation time: 0.31212796199906734 seconds.\n",
      "Simulation interval    : 0.0 - 20.0 seconds.\n",
      "Elapsed simulation time: 0.14583296599994355 seconds.\n"
     ]
    },
    {
     "name": "stdout",
     "output_type": "stream",
     "text": [
      "Simulation interval    : 0.0 - 20.0 seconds.\n",
      "Elapsed simulation time: 1.289229627000168 seconds.\n",
      "Simulation interval    : 0.0 - 20.0 seconds.\n",
      "Elapsed simulation time: 1.1329986760010797 seconds.\n",
      "Simulation interval    : 0.0 - 20.0 seconds.\n",
      "Elapsed simulation time: 0.15980918800050858 seconds.\n",
      "Simulation interval    : 0.0 - 20.0 seconds.\n",
      "Elapsed simulation time: 0.15876491800008807 seconds.\n",
      "Simulation interval    : 0.0 - 20.0 seconds.\n",
      "Elapsed simulation time: 0.14140145199962717 seconds.\n",
      "Simulation interval    : 0.0 - 20.0 seconds.\n",
      "Elapsed simulation time: 0.15098434599894972 seconds.\n",
      "Simulation interval    : 0.0 - 20.0 seconds.\n",
      "Elapsed simulation time: 0.12833843900079955 seconds.\n",
      "Simulation interval    : 0.0 - 20.0 seconds.\n",
      "Elapsed simulation time: 0.14766254700043646 seconds.\n",
      "Simulation interval    : 0.0 - 20.0 seconds.\n",
      "Elapsed simulation time: 0.14403513300021586 seconds.\n",
      "Simulation interval    : 0.0 - 20.0 seconds.\n",
      "Elapsed simulation time: 0.15673911900012172 seconds.\n",
      "Simulation interval    : 0.0 - 20.0 seconds.\n",
      "Elapsed simulation time: 0.13486937299967394 seconds.\n"
     ]
    }
   ],
   "source": [
    "# Run the sample through the monte carlo procedure of the power model\n",
    "# it may take some time\n",
    "output = monte_carlo(sample.T)\n"
   ]
  },
  {
   "cell_type": "code",
   "execution_count": 19,
   "metadata": {},
   "outputs": [
    {
     "name": "stdout",
     "output_type": "stream",
     "text": [
      "Name                      mu mu_star   sigma\n",
      "eithv                7536.65 7536.65 9233.91\n",
      "eethv                8491.08 8501.56 7223.88\n",
      "eitha                3005.11 3089.90 4799.13\n",
      "eetha                1925.08 2200.56 4485.12\n",
      "retha                2941.46 2941.46 2133.30\n",
      "rethv                -2800.27 3405.42 3710.38\n",
      "raov                 -1544.93 1553.99 1783.85\n",
      "rpv                  -3196.83 3245.23 2897.51\n"
     ]
    }
   ],
   "source": [
    "# Store the results for plotting of the analysis\n",
    "Si = ma.analyze(morris_problem, sample, numpy.array(output), print_to_console=False)\n",
    "print(\"{:20s} {:>7s} {:>7s} {:>7s}\".format(\"Name\", \"mu\", \"mu_star\", \"sigma\"))\n",
    "for name, s1, st, mean in zip(morris_problem['names'], \n",
    "                              Si['mu'], \n",
    "                              Si['mu_star'], \n",
    "                              Si['sigma']):\n",
    "    print(\"{:20s} {:=7.2f} {:=7.2f} {:=7.2f}\".format(name, s1, st, mean))"
   ]
  },
  {
   "cell_type": "markdown",
   "metadata": {},
   "source": [
    "Now, plot the results in "
   ]
  },
  {
   "cell_type": "code",
   "execution_count": 22,
   "metadata": {},
   "outputs": [
    {
     "data": {
      "text/plain": [
       "<matplotlib.collections.PathCollection at 0x7f63da1b42d0>"
      ]
     },
     "execution_count": 22,
     "metadata": {},
     "output_type": "execute_result"
    },
    {
     "data": {
      "image/png": "[encoded data removed]",
      "text/plain": [
       "<Figure size 1440x1152 with 2 Axes>"
      ]
     },
     "metadata": {
      "needs_background": "light"
     },
     "output_type": "display_data"
    }
   ],
   "source": [
    "fig, (ax1, ax2) = plt.subplots(1,2)\n",
    "mp.horizontal_bar_plot(ax1, Si, {})\n",
    "mp.covariance_plot(ax2, Si, {})"
   ]
  },
  {
   "cell_type": "markdown",
   "metadata": {},
   "source": [
    "SALib at http://github.com/SALib/SALib\n",
    "Similar packages to SALib for other languages/programmes:\n",
    "\n",
    "    Matlab Toolbox SAFE for GSA\n",
    "    sensitivity package for R\n"
   ]
  },
  {
   "cell_type": "markdown",
   "metadata": {},
   "source": [
    "### 4.1 Motivation task summary\n",
    "\n",
    "From the SA analysis using Morris method - \n",
    "\n",
    "most influential are: ... \n",
    "\n",
    "least influential are: ..."
   ]
  },
  {
   "cell_type": "markdown",
   "metadata": {},
   "source": [
    "## Summary\n",
    "\n",
    "- installed PyFMI and SALib\n",
    "- loaded model and defined basic routines to compute mean pressure from simulation\n",
    "- did monte carlo simulations\n",
    "- show scatter plot - from monte carlo simulations\n",
    "- did selected method from SALib"
   ]
  },
  {
   "cell_type": "code",
   "execution_count": null,
   "metadata": {},
   "outputs": [],
   "source": []
  }
 ],
 "metadata": {
  "kernelspec": {
   "display_name": "Python 3",
   "language": "python",
   "name": "python3"
  },
  "language_info": {
   "codemirror_mode": {
    "name": "ipython",
    "version": 3
   },
   "file_extension": ".py",
   "mimetype": "text/x-python",
   "name": "python",
   "nbconvert_exporter": "python",
   "pygments_lexer": "ipython3",
   "version": "3.8.3"
  }
 },
 "nbformat": 4,
 "nbformat_minor": 2
}
