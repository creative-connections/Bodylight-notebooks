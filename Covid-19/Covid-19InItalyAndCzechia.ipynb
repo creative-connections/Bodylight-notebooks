{
 "cells": [
  {
   "cell_type": "markdown",
   "metadata": {},
   "source": []
  },
  {
   "cell_type": "code",
   "execution_count": 85,
   "metadata": {},
   "outputs": [],
   "source": [
    "import pandas as pd\n",
    "import numpy as np\n",
    "from datetime import datetime,timedelta\n",
    "from sklearn.metrics import mean_squared_error\n",
    "from scipy.optimize import curve_fit\n",
    "from scipy.optimize import fsolve\n",
    "import matplotlib.pyplot as plt\n",
    "%matplotlib inline"
   ]
  },
  {
   "cell_type": "markdown",
   "metadata": {},
   "source": [
    "Data italského rozšíření nemoci Covid-19 z veřejné databáze, updatované"
   ]
  },
  {
   "cell_type": "code",
   "execution_count": 86,
   "metadata": {},
   "outputs": [],
   "source": [
    "url = \"https://raw.githubusercontent.com/pcm-dpc/COVID-19/master/dati-andamento-nazionale/dpc-covid19-ita-andamento-nazionale.csv\"\n",
    "df = pd.read_csv(url)"
   ]
  },
  {
   "cell_type": "code",
   "execution_count": null,
   "metadata": {},
   "outputs": [],
   "source": []
  },
  {
   "cell_type": "code",
   "execution_count": 87,
   "metadata": {},
   "outputs": [
    {
     "data": {
      "text/html": [
       "<div>\n",
       "<style scoped>\n",
       "    .dataframe tbody tr th:only-of-type {\n",
       "        vertical-align: middle;\n",
       "    }\n",
       "\n",
       "    .dataframe tbody tr th {\n",
       "        vertical-align: top;\n",
       "    }\n",
       "\n",
       "    .dataframe thead th {\n",
       "        text-align: right;\n",
       "    }\n",
       "</style>\n",
       "<table border=\"1\" class=\"dataframe\">\n",
       "  <thead>\n",
       "    <tr style=\"text-align: right;\">\n",
       "      <th></th>\n",
       "      <th>data</th>\n",
       "      <th>stato</th>\n",
       "      <th>ricoverati_con_sintomi</th>\n",
       "      <th>terapia_intensiva</th>\n",
       "      <th>totale_ospedalizzati</th>\n",
       "      <th>isolamento_domiciliare</th>\n",
       "      <th>totale_attualmente_positivi</th>\n",
       "      <th>nuovi_attualmente_positivi</th>\n",
       "      <th>dimessi_guariti</th>\n",
       "      <th>deceduti</th>\n",
       "      <th>totale_casi</th>\n",
       "      <th>tamponi</th>\n",
       "    </tr>\n",
       "  </thead>\n",
       "  <tbody>\n",
       "    <tr>\n",
       "      <th>0</th>\n",
       "      <td>2020-02-24 18:00:00</td>\n",
       "      <td>ITA</td>\n",
       "      <td>101</td>\n",
       "      <td>26</td>\n",
       "      <td>127</td>\n",
       "      <td>94</td>\n",
       "      <td>221</td>\n",
       "      <td>221</td>\n",
       "      <td>1</td>\n",
       "      <td>7</td>\n",
       "      <td>229</td>\n",
       "      <td>4324</td>\n",
       "    </tr>\n",
       "    <tr>\n",
       "      <th>1</th>\n",
       "      <td>2020-02-25 18:00:00</td>\n",
       "      <td>ITA</td>\n",
       "      <td>114</td>\n",
       "      <td>35</td>\n",
       "      <td>150</td>\n",
       "      <td>162</td>\n",
       "      <td>311</td>\n",
       "      <td>90</td>\n",
       "      <td>1</td>\n",
       "      <td>10</td>\n",
       "      <td>322</td>\n",
       "      <td>8623</td>\n",
       "    </tr>\n",
       "    <tr>\n",
       "      <th>2</th>\n",
       "      <td>2020-02-26 18:00:00</td>\n",
       "      <td>ITA</td>\n",
       "      <td>128</td>\n",
       "      <td>36</td>\n",
       "      <td>164</td>\n",
       "      <td>221</td>\n",
       "      <td>385</td>\n",
       "      <td>74</td>\n",
       "      <td>3</td>\n",
       "      <td>12</td>\n",
       "      <td>400</td>\n",
       "      <td>9587</td>\n",
       "    </tr>\n",
       "    <tr>\n",
       "      <th>3</th>\n",
       "      <td>2020-02-27 18:00:00</td>\n",
       "      <td>ITA</td>\n",
       "      <td>248</td>\n",
       "      <td>56</td>\n",
       "      <td>304</td>\n",
       "      <td>284</td>\n",
       "      <td>588</td>\n",
       "      <td>203</td>\n",
       "      <td>45</td>\n",
       "      <td>17</td>\n",
       "      <td>650</td>\n",
       "      <td>12014</td>\n",
       "    </tr>\n",
       "    <tr>\n",
       "      <th>4</th>\n",
       "      <td>2020-02-28 18:00:00</td>\n",
       "      <td>ITA</td>\n",
       "      <td>345</td>\n",
       "      <td>64</td>\n",
       "      <td>409</td>\n",
       "      <td>412</td>\n",
       "      <td>821</td>\n",
       "      <td>233</td>\n",
       "      <td>46</td>\n",
       "      <td>21</td>\n",
       "      <td>888</td>\n",
       "      <td>15695</td>\n",
       "    </tr>\n",
       "    <tr>\n",
       "      <th>5</th>\n",
       "      <td>2020-02-29 18:00:00</td>\n",
       "      <td>ITA</td>\n",
       "      <td>401</td>\n",
       "      <td>105</td>\n",
       "      <td>506</td>\n",
       "      <td>543</td>\n",
       "      <td>1049</td>\n",
       "      <td>228</td>\n",
       "      <td>50</td>\n",
       "      <td>29</td>\n",
       "      <td>1128</td>\n",
       "      <td>18661</td>\n",
       "    </tr>\n",
       "    <tr>\n",
       "      <th>6</th>\n",
       "      <td>2020-03-01 18:00:00</td>\n",
       "      <td>ITA</td>\n",
       "      <td>639</td>\n",
       "      <td>140</td>\n",
       "      <td>779</td>\n",
       "      <td>798</td>\n",
       "      <td>1577</td>\n",
       "      <td>528</td>\n",
       "      <td>83</td>\n",
       "      <td>34</td>\n",
       "      <td>1694</td>\n",
       "      <td>21127</td>\n",
       "    </tr>\n",
       "    <tr>\n",
       "      <th>7</th>\n",
       "      <td>2020-03-02 18:00:00</td>\n",
       "      <td>ITA</td>\n",
       "      <td>742</td>\n",
       "      <td>166</td>\n",
       "      <td>908</td>\n",
       "      <td>927</td>\n",
       "      <td>1835</td>\n",
       "      <td>258</td>\n",
       "      <td>149</td>\n",
       "      <td>52</td>\n",
       "      <td>2036</td>\n",
       "      <td>23345</td>\n",
       "    </tr>\n",
       "    <tr>\n",
       "      <th>8</th>\n",
       "      <td>2020-03-03 18:00:00</td>\n",
       "      <td>ITA</td>\n",
       "      <td>1034</td>\n",
       "      <td>229</td>\n",
       "      <td>1263</td>\n",
       "      <td>1000</td>\n",
       "      <td>2263</td>\n",
       "      <td>428</td>\n",
       "      <td>160</td>\n",
       "      <td>79</td>\n",
       "      <td>2502</td>\n",
       "      <td>25856</td>\n",
       "    </tr>\n",
       "    <tr>\n",
       "      <th>9</th>\n",
       "      <td>2020-03-04 18:00:00</td>\n",
       "      <td>ITA</td>\n",
       "      <td>1346</td>\n",
       "      <td>295</td>\n",
       "      <td>1641</td>\n",
       "      <td>1065</td>\n",
       "      <td>2706</td>\n",
       "      <td>443</td>\n",
       "      <td>276</td>\n",
       "      <td>107</td>\n",
       "      <td>3089</td>\n",
       "      <td>29837</td>\n",
       "    </tr>\n",
       "    <tr>\n",
       "      <th>10</th>\n",
       "      <td>2020-03-05 18:00:00</td>\n",
       "      <td>ITA</td>\n",
       "      <td>1790</td>\n",
       "      <td>351</td>\n",
       "      <td>2141</td>\n",
       "      <td>1155</td>\n",
       "      <td>3296</td>\n",
       "      <td>590</td>\n",
       "      <td>414</td>\n",
       "      <td>148</td>\n",
       "      <td>3858</td>\n",
       "      <td>32362</td>\n",
       "    </tr>\n",
       "    <tr>\n",
       "      <th>11</th>\n",
       "      <td>2020-03-06 18:00:00</td>\n",
       "      <td>ITA</td>\n",
       "      <td>2394</td>\n",
       "      <td>462</td>\n",
       "      <td>2856</td>\n",
       "      <td>1060</td>\n",
       "      <td>3916</td>\n",
       "      <td>620</td>\n",
       "      <td>523</td>\n",
       "      <td>197</td>\n",
       "      <td>4636</td>\n",
       "      <td>36359</td>\n",
       "    </tr>\n",
       "    <tr>\n",
       "      <th>12</th>\n",
       "      <td>2020-03-07 18:00:00</td>\n",
       "      <td>ITA</td>\n",
       "      <td>2651</td>\n",
       "      <td>567</td>\n",
       "      <td>3218</td>\n",
       "      <td>1843</td>\n",
       "      <td>5061</td>\n",
       "      <td>1145</td>\n",
       "      <td>589</td>\n",
       "      <td>233</td>\n",
       "      <td>5883</td>\n",
       "      <td>42062</td>\n",
       "    </tr>\n",
       "    <tr>\n",
       "      <th>13</th>\n",
       "      <td>2020-03-08 18:00:00</td>\n",
       "      <td>ITA</td>\n",
       "      <td>3557</td>\n",
       "      <td>650</td>\n",
       "      <td>4207</td>\n",
       "      <td>2180</td>\n",
       "      <td>6387</td>\n",
       "      <td>1326</td>\n",
       "      <td>622</td>\n",
       "      <td>366</td>\n",
       "      <td>7375</td>\n",
       "      <td>49937</td>\n",
       "    </tr>\n",
       "    <tr>\n",
       "      <th>14</th>\n",
       "      <td>2020-03-09 18:00:00</td>\n",
       "      <td>ITA</td>\n",
       "      <td>4316</td>\n",
       "      <td>733</td>\n",
       "      <td>5049</td>\n",
       "      <td>2936</td>\n",
       "      <td>7985</td>\n",
       "      <td>1598</td>\n",
       "      <td>724</td>\n",
       "      <td>463</td>\n",
       "      <td>9172</td>\n",
       "      <td>53826</td>\n",
       "    </tr>\n",
       "    <tr>\n",
       "      <th>15</th>\n",
       "      <td>2020-03-10 18:00:00</td>\n",
       "      <td>ITA</td>\n",
       "      <td>5038</td>\n",
       "      <td>877</td>\n",
       "      <td>5915</td>\n",
       "      <td>2599</td>\n",
       "      <td>8514</td>\n",
       "      <td>529</td>\n",
       "      <td>1004</td>\n",
       "      <td>631</td>\n",
       "      <td>10149</td>\n",
       "      <td>60761</td>\n",
       "    </tr>\n",
       "    <tr>\n",
       "      <th>16</th>\n",
       "      <td>2020-03-11 17:00:00</td>\n",
       "      <td>ITA</td>\n",
       "      <td>5838</td>\n",
       "      <td>1028</td>\n",
       "      <td>6866</td>\n",
       "      <td>3724</td>\n",
       "      <td>10590</td>\n",
       "      <td>2076</td>\n",
       "      <td>1045</td>\n",
       "      <td>827</td>\n",
       "      <td>12462</td>\n",
       "      <td>73154</td>\n",
       "    </tr>\n",
       "    <tr>\n",
       "      <th>17</th>\n",
       "      <td>2020-03-12 17:00:00</td>\n",
       "      <td>ITA</td>\n",
       "      <td>6650</td>\n",
       "      <td>1153</td>\n",
       "      <td>7803</td>\n",
       "      <td>5036</td>\n",
       "      <td>12839</td>\n",
       "      <td>2249</td>\n",
       "      <td>1258</td>\n",
       "      <td>1016</td>\n",
       "      <td>15113</td>\n",
       "      <td>86011</td>\n",
       "    </tr>\n",
       "  </tbody>\n",
       "</table>\n",
       "</div>"
      ],
      "text/plain": [
       "                   data stato  ricoverati_con_sintomi  terapia_intensiva  \\\n",
       "0   2020-02-24 18:00:00   ITA                     101                 26   \n",
       "1   2020-02-25 18:00:00   ITA                     114                 35   \n",
       "2   2020-02-26 18:00:00   ITA                     128                 36   \n",
       "3   2020-02-27 18:00:00   ITA                     248                 56   \n",
       "4   2020-02-28 18:00:00   ITA                     345                 64   \n",
       "5   2020-02-29 18:00:00   ITA                     401                105   \n",
       "6   2020-03-01 18:00:00   ITA                     639                140   \n",
       "7   2020-03-02 18:00:00   ITA                     742                166   \n",
       "8   2020-03-03 18:00:00   ITA                    1034                229   \n",
       "9   2020-03-04 18:00:00   ITA                    1346                295   \n",
       "10  2020-03-05 18:00:00   ITA                    1790                351   \n",
       "11  2020-03-06 18:00:00   ITA                    2394                462   \n",
       "12  2020-03-07 18:00:00   ITA                    2651                567   \n",
       "13  2020-03-08 18:00:00   ITA                    3557                650   \n",
       "14  2020-03-09 18:00:00   ITA                    4316                733   \n",
       "15  2020-03-10 18:00:00   ITA                    5038                877   \n",
       "16  2020-03-11 17:00:00   ITA                    5838               1028   \n",
       "17  2020-03-12 17:00:00   ITA                    6650               1153   \n",
       "\n",
       "    totale_ospedalizzati  isolamento_domiciliare  totale_attualmente_positivi  \\\n",
       "0                    127                      94                          221   \n",
       "1                    150                     162                          311   \n",
       "2                    164                     221                          385   \n",
       "3                    304                     284                          588   \n",
       "4                    409                     412                          821   \n",
       "5                    506                     543                         1049   \n",
       "6                    779                     798                         1577   \n",
       "7                    908                     927                         1835   \n",
       "8                   1263                    1000                         2263   \n",
       "9                   1641                    1065                         2706   \n",
       "10                  2141                    1155                         3296   \n",
       "11                  2856                    1060                         3916   \n",
       "12                  3218                    1843                         5061   \n",
       "13                  4207                    2180                         6387   \n",
       "14                  5049                    2936                         7985   \n",
       "15                  5915                    2599                         8514   \n",
       "16                  6866                    3724                        10590   \n",
       "17                  7803                    5036                        12839   \n",
       "\n",
       "    nuovi_attualmente_positivi  dimessi_guariti  deceduti  totale_casi  \\\n",
       "0                          221                1         7          229   \n",
       "1                           90                1        10          322   \n",
       "2                           74                3        12          400   \n",
       "3                          203               45        17          650   \n",
       "4                          233               46        21          888   \n",
       "5                          228               50        29         1128   \n",
       "6                          528               83        34         1694   \n",
       "7                          258              149        52         2036   \n",
       "8                          428              160        79         2502   \n",
       "9                          443              276       107         3089   \n",
       "10                         590              414       148         3858   \n",
       "11                         620              523       197         4636   \n",
       "12                        1145              589       233         5883   \n",
       "13                        1326              622       366         7375   \n",
       "14                        1598              724       463         9172   \n",
       "15                         529             1004       631        10149   \n",
       "16                        2076             1045       827        12462   \n",
       "17                        2249             1258      1016        15113   \n",
       "\n",
       "    tamponi  \n",
       "0      4324  \n",
       "1      8623  \n",
       "2      9587  \n",
       "3     12014  \n",
       "4     15695  \n",
       "5     18661  \n",
       "6     21127  \n",
       "7     23345  \n",
       "8     25856  \n",
       "9     29837  \n",
       "10    32362  \n",
       "11    36359  \n",
       "12    42062  \n",
       "13    49937  \n",
       "14    53826  \n",
       "15    60761  \n",
       "16    73154  \n",
       "17    86011  "
      ]
     },
     "execution_count": 87,
     "metadata": {},
     "output_type": "execute_result"
    }
   ],
   "source": [
    "df"
   ]
  },
  {
   "cell_type": "markdown",
   "metadata": {},
   "source": [
    "Příprava dat, změna datumu na pořadové číslo."
   ]
  },
  {
   "cell_type": "code",
   "execution_count": 88,
   "metadata": {},
   "outputs": [],
   "source": [
    "df = df.loc[:,['data','totale_casi']]\n",
    "FMT = '%Y-%m-%d %H:%M:%S'\n",
    "date = df['data']\n",
    "df['data'] = date.map(lambda x : (datetime.strptime(x, FMT) - datetime.strptime(\"2020-01-01 00:00:00\", FMT)).days  )"
   ]
  },
  {
   "cell_type": "markdown",
   "metadata": {},
   "source": [
    "Data pro ČR zdroj https://www.kurzy.cz/zpravy/533079-mapa-koronaviru-aktualni-mapy-vyskytu-potvrzenych-pripadu-koronaviru-covid-19-mapa-koronaviru-v/\n",
    "12.3.2020, 1816, 1722, 113\n",
    "11.3.2020, 1358, 1294, 94\n",
    "10.3.2020 \t1193 \t1153 \t63\n",
    "9.3.2020 \t928 \t896 \t38\n",
    "8.3.2020 \t787 \t761 \t32\n",
    "7.3.2020 \t594 \t575 \t26\n",
    "6.3.2020 \t483 \t471 \t19\n",
    "5.3.2020 \t407 \t399 \t8\n",
    "4.3.2020 \t340 \t335 \t5\n",
    "3.3.2020 \t262 \t257 \t5\n",
    "2.3.2020 \t211 \t208 \t3\n",
    "1.3.2020 \t200 \t197 \t3"
   ]
  },
  {
   "cell_type": "markdown",
   "metadata": {},
   "source": [
    "Logistický model\n",
    "\n",
    "$$ f(x,a,b,c)= \\frac{c}{1+e^\\frac{-(x-b)}{a} } $$\n",
    "\n",
    "* $x$ time\n",
    "* $a$ rychlost infekce\n",
    "* $b$ den zaznamenáno nejvíce nakažených\n",
    "* $c$ konečný celkový počet nakažených\n"
   ]
  },
  {
   "cell_type": "code",
   "execution_count": 89,
   "metadata": {},
   "outputs": [],
   "source": [
    "def logistic_model(x,a,b,c):\n",
    "    return c/(1+np.exp(-(x-b)/a))"
   ]
  },
  {
   "cell_type": "code",
   "execution_count": 90,
   "metadata": {},
   "outputs": [],
   "source": [
    "x = list(df.iloc[:,0])\n",
    "y = list(df.iloc[:,1])\n",
    "fit = curve_fit(logistic_model,x,y,p0=[2,100,20000])"
   ]
  },
  {
   "cell_type": "code",
   "execution_count": 91,
   "metadata": {},
   "outputs": [
    {
     "data": {
      "text/plain": [
       "(array([4.11962741e+00, 7.35212155e+01, 4.23934824e+04]),\n",
       " array([[3.47661988e-02, 2.22046186e-01, 1.37666032e+03],\n",
       "        [2.22046186e-01, 1.55028784e+00, 9.79578939e+03],\n",
       "        [1.37666032e+03, 9.79578939e+03, 6.22330514e+07]]))"
      ]
     },
     "execution_count": 91,
     "metadata": {},
     "output_type": "execute_result"
    }
   ],
   "source": [
    "fit"
   ]
  },
  {
   "cell_type": "code",
   "execution_count": 92,
   "metadata": {},
   "outputs": [],
   "source": [
    "errors = [np.sqrt(fit[1][i][i]) for i in [0,1,2]]\n"
   ]
  },
  {
   "cell_type": "code",
   "execution_count": 93,
   "metadata": {},
   "outputs": [
    {
     "data": {
      "text/plain": [
       "[0.18645696231739362, 1.2451055543624405, 7888.79277456696]"
      ]
     },
     "execution_count": 93,
     "metadata": {},
     "output_type": "execute_result"
    }
   ],
   "source": [
    "errors\n"
   ]
  },
  {
   "cell_type": "code",
   "execution_count": 94,
   "metadata": {},
   "outputs": [
    {
     "name": "stdout",
     "output_type": "stream",
     "text": [
      "4.119627409077726 73.52121553816296 42393.482426487004\n"
     ]
    }
   ],
   "source": [
    "(a,b,c)=(fit[0][0],fit[0][1],fit[0][2])\n",
    "\n",
    "print(a,b,c)\n"
   ]
  },
  {
   "cell_type": "code",
   "execution_count": 95,
   "metadata": {},
   "outputs": [],
   "source": [
    "sol = int(fsolve(lambda x : logistic_model(x,a,b,c) - int(c),b))"
   ]
  },
  {
   "cell_type": "code",
   "execution_count": 96,
   "metadata": {},
   "outputs": [
    {
     "data": {
      "text/plain": [
       "120"
      ]
     },
     "execution_count": 96,
     "metadata": {},
     "output_type": "execute_result"
    }
   ],
   "source": [
    "sol"
   ]
  },
  {
   "cell_type": "markdown",
   "metadata": {},
   "source": [
    "exponential function"
   ]
  },
  {
   "cell_type": "code",
   "execution_count": 97,
   "metadata": {},
   "outputs": [],
   "source": [
    "def exponential_model(x,a,b,c):\n",
    "    return a*np.exp(b*(x-c))\n",
    "exp_fit = curve_fit(exponential_model,x,y,p0=[1,1,1])"
   ]
  },
  {
   "cell_type": "code",
   "execution_count": 98,
   "metadata": {},
   "outputs": [
    {
     "data": {
      "image/png": "[encoded data removed]",
      "text/plain": [
       "<Figure size 504x504 with 1 Axes>"
      ]
     },
     "metadata": {
      "needs_background": "light"
     },
     "output_type": "display_data"
    }
   ],
   "source": [
    "pred_x = list(range(max(x),sol))\n",
    "plt.rcParams['figure.figsize'] = [7, 7]\n",
    "plt.rc('font', size=14)\n",
    "# Real data\n",
    "plt.scatter(x,y,label=\"Real data\",color=\"red\")\n",
    "# Predicted logistic curve\n",
    "plt.plot(x+pred_x, [logistic_model(i,fit[0][0],fit[0][1],fit[0][2]) for i in x+pred_x], label=\"Logistic model\" )\n",
    "\n",
    "# Predicted exponential curve\n",
    "plt.plot(x+pred_x, [exponential_model(i,exp_fit[0][0],exp_fit[0][1],exp_fit[0][2]) for i in x+pred_x], label=\"Exponential model\" )\n",
    "plt.legend()\n",
    "plt.xlabel(\"Days since 1 January 2020\")\n",
    "plt.ylabel(\"Total number of infected people\")\n",
    "plt.ylim((min(y)*0.9,c*1.1))\n",
    "plt.show()"
   ]
  },
  {
   "cell_type": "code",
   "execution_count": 110,
   "metadata": {},
   "outputs": [
    {
     "name": "stdout",
     "output_type": "stream",
     "text": [
      "Logistický model pro Itálii predikuje konec infekce v den  120  od 1.1.2020 s celkem  42393 (+- 7888 ) nakaženými. \n"
     ]
    }
   ],
   "source": [
    "print('Logistický model pro Itálii predikuje konec infekce v den ',sol,' od 1.1.2020 s celkem ',int(c),'(+-', int(errors[2]),') nakaženými. ')"
   ]
  },
  {
   "cell_type": "markdown",
   "metadata": {},
   "source": [
    "Data v CR"
   ]
  },
  {
   "cell_type": "code",
   "execution_count": 113,
   "metadata": {},
   "outputs": [],
   "source": [
    "crdata=[['days','infected'],[61,3],[62,3],[63,5],[64,5],[65,8],[66,19],[67,26],[68,32],[69,38],[70,63],[71,94],[72,113]]\n",
    "#12.3.2020, 1816, 1722, 113\n",
    "#11.3.2020, 1358, 1294, 94\n",
    "#10.3.2020 \t1193 \t1153 \t63\n",
    "#9.3.2020 \t928 \t896 \t38\n",
    "#8.3.2020 \t787 \t761 \t32\n",
    "#7.3.2020 \t594 \t575 \t26\n",
    "#6.3.2020 \t483 \t471 \t19\n",
    "#5.3.2020 \t407 \t399 \t8\n",
    "#4.3.2020 \t340 \t335 \t5\n",
    "#3.3.2020 \t262 \t257 \t5\n",
    "#2.3.2020 \t211 \t208 \t3\n",
    "#1.3.2020 \t200 \t197 \t3\n",
    "# 1.3. je den cislo 61 od 1.1.2020(prestupny rok)"
   ]
  },
  {
   "cell_type": "code",
   "execution_count": 114,
   "metadata": {},
   "outputs": [],
   "source": [
    "df2 = pd.DataFrame(crdata[1:],columns=crdata[0])"
   ]
  },
  {
   "cell_type": "code",
   "execution_count": 115,
   "metadata": {},
   "outputs": [
    {
     "data": {
      "text/html": [
       "<div>\n",
       "<style scoped>\n",
       "    .dataframe tbody tr th:only-of-type {\n",
       "        vertical-align: middle;\n",
       "    }\n",
       "\n",
       "    .dataframe tbody tr th {\n",
       "        vertical-align: top;\n",
       "    }\n",
       "\n",
       "    .dataframe thead th {\n",
       "        text-align: right;\n",
       "    }\n",
       "</style>\n",
       "<table border=\"1\" class=\"dataframe\">\n",
       "  <thead>\n",
       "    <tr style=\"text-align: right;\">\n",
       "      <th></th>\n",
       "      <th>days</th>\n",
       "      <th>infected</th>\n",
       "    </tr>\n",
       "  </thead>\n",
       "  <tbody>\n",
       "    <tr>\n",
       "      <th>0</th>\n",
       "      <td>61</td>\n",
       "      <td>3</td>\n",
       "    </tr>\n",
       "    <tr>\n",
       "      <th>1</th>\n",
       "      <td>62</td>\n",
       "      <td>3</td>\n",
       "    </tr>\n",
       "    <tr>\n",
       "      <th>2</th>\n",
       "      <td>63</td>\n",
       "      <td>5</td>\n",
       "    </tr>\n",
       "    <tr>\n",
       "      <th>3</th>\n",
       "      <td>64</td>\n",
       "      <td>5</td>\n",
       "    </tr>\n",
       "    <tr>\n",
       "      <th>4</th>\n",
       "      <td>65</td>\n",
       "      <td>8</td>\n",
       "    </tr>\n",
       "    <tr>\n",
       "      <th>5</th>\n",
       "      <td>66</td>\n",
       "      <td>19</td>\n",
       "    </tr>\n",
       "    <tr>\n",
       "      <th>6</th>\n",
       "      <td>67</td>\n",
       "      <td>26</td>\n",
       "    </tr>\n",
       "    <tr>\n",
       "      <th>7</th>\n",
       "      <td>68</td>\n",
       "      <td>32</td>\n",
       "    </tr>\n",
       "    <tr>\n",
       "      <th>8</th>\n",
       "      <td>69</td>\n",
       "      <td>38</td>\n",
       "    </tr>\n",
       "    <tr>\n",
       "      <th>9</th>\n",
       "      <td>70</td>\n",
       "      <td>63</td>\n",
       "    </tr>\n",
       "    <tr>\n",
       "      <th>10</th>\n",
       "      <td>71</td>\n",
       "      <td>94</td>\n",
       "    </tr>\n",
       "    <tr>\n",
       "      <th>11</th>\n",
       "      <td>72</td>\n",
       "      <td>113</td>\n",
       "    </tr>\n",
       "  </tbody>\n",
       "</table>\n",
       "</div>"
      ],
      "text/plain": [
       "    days  infected\n",
       "0     61         3\n",
       "1     62         3\n",
       "2     63         5\n",
       "3     64         5\n",
       "4     65         8\n",
       "5     66        19\n",
       "6     67        26\n",
       "7     68        32\n",
       "8     69        38\n",
       "9     70        63\n",
       "10    71        94\n",
       "11    72       113"
      ]
     },
     "execution_count": 115,
     "metadata": {},
     "output_type": "execute_result"
    }
   ],
   "source": [
    "df2"
   ]
  },
  {
   "cell_type": "code",
   "execution_count": 116,
   "metadata": {},
   "outputs": [],
   "source": [
    "x2 = list(df2.iloc[:,0])\n",
    "y2 = list(df2.iloc[:,1])\n",
    "fit2 = curve_fit(logistic_model,x2,y2,p0=[2,100,20000])\n",
    "exp_fit2 = curve_fit(exponential_model,x2,y2,p0=[0.02,0.1,2.8])"
   ]
  },
  {
   "cell_type": "code",
   "execution_count": 117,
   "metadata": {},
   "outputs": [
    {
     "data": {
      "text/plain": [
       "(array([5.51988217e-05, 3.27128432e-01, 2.74432333e+01]),\n",
       " array([[-1.39173282e+04, -6.80056305e-01, -7.70085347e+08],\n",
       "        [-6.80056305e-01,  3.03746698e-04, -3.76294045e+04],\n",
       "        [-7.70085347e+08, -3.76294045e+04, -4.26110122e+13]]))"
      ]
     },
     "execution_count": 117,
     "metadata": {},
     "output_type": "execute_result"
    }
   ],
   "source": [
    "exp_fit2"
   ]
  },
  {
   "cell_type": "code",
   "execution_count": 118,
   "metadata": {},
   "outputs": [],
   "source": [
    "(a2,b2,c2)=(fit2[0][0],fit2[0][1],fit2[0][2])"
   ]
  },
  {
   "cell_type": "code",
   "execution_count": 119,
   "metadata": {},
   "outputs": [
    {
     "name": "stdout",
     "output_type": "stream",
     "text": [
      "2.438808169047471 73.30708276170846 312.7078657191373\n"
     ]
    }
   ],
   "source": [
    "print(a2,b2,c2)\n"
   ]
  },
  {
   "cell_type": "code",
   "execution_count": 120,
   "metadata": {},
   "outputs": [],
   "source": [
    "sol2= int(fsolve(lambda x : logistic_model(x,a2,b2,c2) - int(c2),b2))"
   ]
  },
  {
   "cell_type": "code",
   "execution_count": 121,
   "metadata": {},
   "outputs": [],
   "source": [
    "errors2 = [np.sqrt(fit2[1][i][i]) for i in [0,1,2]]"
   ]
  },
  {
   "cell_type": "code",
   "execution_count": 122,
   "metadata": {},
   "outputs": [
    {
     "data": {
      "image/png": "[encoded data removed]",
      "text/plain": [
       "<Figure size 504x504 with 1 Axes>"
      ]
     },
     "metadata": {
      "needs_background": "light"
     },
     "output_type": "display_data"
    },
    {
     "name": "stdout",
     "output_type": "stream",
     "text": [
      "Logistický model pro ČR predikuje konec infekce v den  88  od 1.1.2020 s celkem  312 (+- 166 ) nakaženými. \n"
     ]
    }
   ],
   "source": [
    "pred_x = list(range(max(x2),sol2))\n",
    "plt.rcParams['figure.figsize'] = [7, 7]\n",
    "plt.rc('font', size=14)\n",
    "# Real data\n",
    "plt.scatter(x2,y2,label=\"Real data\",color=\"red\")\n",
    "# Predicted logistic curve\n",
    "plt.plot(x2+pred_x, [logistic_model(i,fit2[0][0],fit2[0][1],fit2[0][2]) for i in x2+pred_x], label=\"Predicted logistic model\" )\n",
    "\n",
    "# Predicted exponential curve\n",
    "plt.plot(x2+pred_x, [exponential_model(i,exp_fit2[0][0],exp_fit2[0][1],exp_fit2[0][2]) for i in x2+pred_x], label=\"Exponential model\" )\n",
    "plt.legend()\n",
    "plt.xlabel(\"Days since 1 January 2020\")\n",
    "plt.ylabel(\"Total number of infected people in Czechia\")\n",
    "plt.ylim((min(y2)*0.9,c2*1.1))\n",
    "plt.show()\n",
    "print('Logistický model pro ČR predikuje konec infekce v den ',sol2,' od 1.1.2020 s celkem ',int(c2),'(+-', int(errors2[2]),') nakaženými. ')"
   ]
  },
  {
   "cell_type": "markdown",
   "metadata": {},
   "source": [
    "Reference:\n",
    "* modely a data z Itálie https://towardsdatascience.com/covid-19-infection-in-italy-mathematical-models-and-predictions-7784b4d7dd8d\n",
    "* "
   ]
  }
 ],
 "metadata": {
  "kernelspec": {
   "display_name": "Python 3",
   "language": "python",
   "name": "python3"
  },
  "language_info": {
   "codemirror_mode": {
    "name": "ipython",
    "version": 3
   },
   "file_extension": ".py",
   "mimetype": "text/x-python",
   "name": "python",
   "nbconvert_exporter": "python",
   "pygments_lexer": "ipython3",
   "version": "3.7.6"
  }
 },
 "nbformat": 4,
 "nbformat_minor": 2
}
