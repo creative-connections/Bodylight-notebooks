{
 "cells": [
  {
   "cell_type": "markdown",
   "metadata": {},
   "source": [
    "# COVID-19 Molecular interaction of ORF3 protein to hemoglobin\n",
    "\n",
    "Report on replicating some of the simulated molecular interaction between COVID-19 proteins and human hemoglobin. As for the [^1] the authors claims that some of the structural and non-structural protein (not in virtus particle, but created by the virus RNA by the host cell) may bind to human oxygenated and deoxygenated hemoglobin. This may have some consequences."
   ]
  },
  {
   "cell_type": "markdown",
   "metadata": {},
   "source": [
    "In order to replicate the simulation. visualise reffered proteins, binding and computation, PDB component to visualise oxygenated hemoglobin from pdbe is used\n"
   ]
  },
  {
   "cell_type": "code",
   "execution_count": 1,
   "metadata": {},
   "outputs": [
    {
     "data": {
      "application/javascript": [
       "IPython.OutputArea.auto_scroll_threshold = 9999;\n"
      ],
      "text/plain": [
       "<IPython.core.display.Javascript object>"
      ]
     },
     "metadata": {},
     "output_type": "display_data"
    }
   ],
   "source": [
    "%%javascript\n",
    "IPython.OutputArea.auto_scroll_threshold = 9999;"
   ]
  },
  {
   "cell_type": "code",
   "execution_count": 2,
   "metadata": {},
   "outputs": [
    {
     "data": {
      "text/html": [
       "<link rel=\"stylesheet\" type=\"text/css\" href=\"https://www.ebi.ac.uk/pdbe/pdb-component-library/css/pdbe-molstar-0.1.0.css\">\n",
       "<script type=\"text/javascript\" src=\"https://www.ebi.ac.uk/pdbe/pdb-component-library/js/pdbe-molstar-component-0.1.0.js\"></script>\n"
      ],
      "text/plain": [
       "<IPython.core.display.HTML object>"
      ]
     },
     "metadata": {},
     "output_type": "display_data"
    }
   ],
   "source": [
    "%%html\n",
    "<link rel=\"stylesheet\" type=\"text/css\" href=\"https://www.ebi.ac.uk/pdbe/pdb-component-library/css/pdbe-molstar-0.1.0.css\">\n",
    "<script type=\"text/javascript\" src=\"https://www.ebi.ac.uk/pdbe/pdb-component-library/js/pdbe-molstar-component-0.1.0.js\"></script>\n"
   ]
  },
  {
   "cell_type": "code",
   "execution_count": 3,
   "metadata": {},
   "outputs": [
    {
     "data": {
      "text/html": [
       "<div style=\"height:600px; width:450px;\">\n",
       "<pdbe-molstar molecule-id=\"6bb5\" hide-controls=\"true\"></pdbe-molstar>\n",
       "</div>\n"
      ],
      "text/plain": [
       "<IPython.core.display.HTML object>"
      ]
     },
     "metadata": {},
     "output_type": "display_data"
    }
   ],
   "source": [
    "%%html\n",
    "<div style=\"height:600px; width:450px;\">\n",
    "<pdbe-molstar molecule-id=\"6bb5\" hide-controls=\"true\"></pdbe-molstar>\n",
    "</div>"
   ]
  },
  {
   "cell_type": "markdown",
   "metadata": {},
   "source": [
    "As for the [^1] the authors claims that ORF3 non-structural protein may bind to oxygenated and deoxygenated hemoglobin, which may answer some of the clinical behavior. Structure of ORF3 is attached in DSV file in supplementary material, it was estimated by AI based AlphaFold[^2]. Converted by BIOVA software [^3] to PDB format as 'Protein_3a_model_0.pdb' file."
   ]
  },
  {
   "cell_type": "code",
   "execution_count": 4,
   "metadata": {},
   "outputs": [
    {
     "data": {
      "text/html": [
       "<div style=\"height:450px;\">\n",
       "<pdbe-molstar custom-data-url=\"Protein_3a_model_0.pdb\" custom-data-format=\"pdb\" hide-controls=\"true\"></pdbe-molstar>\n",
       "</div>\n"
      ],
      "text/plain": [
       "<IPython.core.display.HTML object>"
      ]
     },
     "metadata": {},
     "output_type": "display_data"
    }
   ],
   "source": [
    "%%html\n",
    "<div style=\"height:450px;\">\n",
    "<pdbe-molstar custom-data-url=\"Protein_3a_model_0.pdb\" custom-data-format=\"pdb\" hide-controls=\"true\"></pdbe-molstar>\n",
    "</div>"
   ]
  },
  {
   "cell_type": "markdown",
   "metadata": {},
   "source": [
    "The authors did use Discovery Studio software [^3] to do simulation.\n",
    "\n",
    "For reproducing the docking simulation and compute energy of interacting proteins we use HADDOCK software[^4] maintained by Bonvinlab group [^5].\n",
    "\n"
   ]
  },
  {
   "cell_type": "markdown",
   "metadata": {},
   "source": [
    "  * https://bianca.science.uu.nl/haddock2.4/\n",
    "  * Job 1 oxygenated hemoglobin, Input parameters:\n",
    "    * Molecule 1: improved hemoglobin structure 6bb5 from PDB REDO, removed OXY group from position 2258 and 2259, otherwise error1\n",
    "    * Molecule 2: ORF3 structure in PDB format\n",
    "    * Molecule 1: residues chain B: 200 (heme group)\n",
    "    * Molecule 2: residues chain A: 61,71,159,160\n",
    "  * Job 2, deoxygenated hemoglobin, Input parameters:\n",
    "    * Molecule 1: improved hemoglobin structure 1e3n from PDB REDO, unable to upload, error2\n",
    "\n",
    "Errors:\n",
    "\n",
    "  * Error1 `The following error occurred when processing one of your PDB file: Unable to generate topology for ligand OXY. PRODRG did not create the required output:`\n",
    "\n",
    "\n",
    "  * Error2 \n",
    "\n",
    "    ```Error in PDB file.\n",
    "    Issue when parsing the PDB file at line 5262.\n",
    "    Your PDB contains multiple forms of the same residue HOH 258. This is not supported in the current form. If you would like to supply multiple conformations, please create an ensemble.\n",
    "    HETATM 4782 O AHOH B 258 -19.361 -3.877 3.072 0.50 10.96 O (Offending Line) <--\n",
    "    ATOM 32 N ARG 3 11.281 86.699 94.383 0.50 35.88 N (Example Valid Line)```\n"
   ]
  },
  {
   "cell_type": "markdown",
   "metadata": {},
   "source": [
    "## Results\n",
    "\n",
    "Computation submitted as https://wenmr.science.uu.nl/haddock2.4/run/7459178380/hem-covid\n",
    "Running for 4 hours.\n"
   ]
  },
  {
   "cell_type": "markdown",
   "metadata": {},
   "source": [
    "References:\n",
    "\n",
    "[^1]: Wenzhong Liu, Hualan Li. COVID-19:Attacks the 1-Beta Chain of Hemoglobin and\n",
    "Captures the Porphyrin to Inhibit Human Heme Metabolism\n",
    "\n",
    "[^2]: Senior, A.W., Evans, R., Jumper, J. et al. Improved protein structure prediction using potentials from deep learning. Nature 577, 706–710 (2020). https://doi.org/10.1038/s41586-019-1923-7\n",
    "\n",
    "[^3]: 3DS BIOVA, Discovery Studio Visualiser, free to download and install https://www.3dsbiovia.com/products/collaborative-science/biovia-discovery-studio/visualization-download.php\n",
    "\n",
    "[^4]: HADDOCK http://haddock.science.uu.nl/\n",
    "\n",
    "[^5]: A.Bonvin Lab group web site: https://www.bonvinlab.org/\n"
   ]
  },
  {
   "cell_type": "code",
   "execution_count": null,
   "metadata": {},
   "outputs": [],
   "source": []
  },
  {
   "cell_type": "code",
   "execution_count": null,
   "metadata": {},
   "outputs": [],
   "source": []
  }
 ],
 "metadata": {
  "kernelspec": {
   "display_name": "Python 3",
   "language": "python",
   "name": "python3"
  },
  "language_info": {
   "codemirror_mode": {
    "name": "ipython",
    "version": 3
   },
   "file_extension": ".py",
   "mimetype": "text/x-python",
   "name": "python",
   "nbconvert_exporter": "python",
   "pygments_lexer": "ipython3",
   "version": "3.7.6"
  }
 },
 "nbformat": 4,
 "nbformat_minor": 2
}
