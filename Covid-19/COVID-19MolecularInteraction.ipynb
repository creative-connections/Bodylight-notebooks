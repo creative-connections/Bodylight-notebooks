{
 "cells": [
  {
   "cell_type": "markdown",
   "metadata": {},
   "source": [
    "# COVID-19 Molecular interaction of ORF3 protein to hemoglobin\n",
    "\n",
    "\n",
    "<br/>\n",
    "<div align=\"center\">Tomáš Kulhánek</div>\n",
    "\n",
    "**This is preliminary report on replicating the study [^1] and proposal for further investigation.**\n",
    "\n",
    "*This is Jupyter notebook with interactive cells. Each cell is either text or script code. Click on the cell and you may edit source code. Press `Shift-ENTER` to run the cell and render the output. Click on the menu `Cell->Run All Cells` to run the entire notebook and render all outputs.*\n",
    "\n",
    "This is report on replicating some of the simulated molecular interaction between COVID-19 proteins and human hemoglobin. As for the [^1] the authors claims that some of the structural and non-structural protein (not in virtus particle) may bind to human oxygenated and deoxygenated hemoglobin. This theory may have some consequences in pathophysiology and need to be validated against real data from patients especially treated by ECMO (extracorporeal membrane oxygenation).\n",
    "\n"
   ]
  },
  {
   "cell_type": "markdown",
   "metadata": {},
   "source": [
    "## Input structures\n",
    "\n",
    "For this study, we choose to verify the preliminary theory against human hemoglobin structure (obtained from PDBE [^7] database with id 6bb5 and 1e3n) and estimated structure of coronavirus viral protein 3a estimated by Alphafold tool[^2]. \n",
    "\n",
    "First we enable PDBE webcomponent `molstar` to visualize the oxygenated hemoglobin structure. After you run bellow cell you may `Left-Click and Hold` and move the mouse to rotate the structure, `Right-Click and Hold` and move the mouse to move the structre, `Hover and Click` over residue will zoom into residue. \n",
    "\n",
    "E.g. Residue HEM 201 in Chain A is porphyrin structure with Iron in the middle with Oxygen molecule bind to it.\n"
   ]
  },
  {
   "cell_type": "code",
   "execution_count": 2,
   "metadata": {},
   "outputs": [],
   "source": [
    "# we enable pdbe webcomponent molstart to visualise structure 6bb5"
   ]
  },
  {
   "cell_type": "code",
   "execution_count": 3,
   "metadata": {},
   "outputs": [
    {
     "data": {
      "text/html": [
       "<link rel=\"stylesheet\" type=\"text/css\" href=\"https://www.ebi.ac.uk/pdbe/pdb-component-library/css/pdbe-molstar-0.1.0.css\">\n",
       "<script type=\"text/javascript\" src=\"https://www.ebi.ac.uk/pdbe/pdb-component-library/js/pdbe-molstar-component-0.1.0.js\"></script>\n",
       "<div style=\"height:600px;\">\n",
       "<pdbe-molstar molecule-id=\"6bb5\" \n",
       "   hide-controls=\"true\" bg-color-r=\"255\" bg-color-g=\"255\" bg-color-b=\"255\"></pdbe-molstar>\n",
       "</div>\n"
      ],
      "text/plain": [
       "<IPython.core.display.HTML object>"
      ]
     },
     "metadata": {},
     "output_type": "display_data"
    }
   ],
   "source": [
    "%%html\n",
    "<link rel=\"stylesheet\" type=\"text/css\" href=\"https://www.ebi.ac.uk/pdbe/pdb-component-library/css/pdbe-molstar-0.1.0.css\">\n",
    "<script type=\"text/javascript\" src=\"https://www.ebi.ac.uk/pdbe/pdb-component-library/js/pdbe-molstar-component-0.1.0.js\"></script>\n",
    "<div style=\"height:600px;\">\n",
    "<pdbe-molstar molecule-id=\"6bb5\" \n",
    "   hide-controls=\"true\" bg-color-r=\"255\" bg-color-g=\"255\" bg-color-b=\"255\"></pdbe-molstar>\n",
    "</div>"
   ]
  },
  {
   "cell_type": "markdown",
   "metadata": {},
   "source": [
    "Structure of ORF3 (non-structural viral protein 3a) was not yet determined by classical methods, however AI based AlphaFold[^2] estimation was converted with BIOVA software [^3] to PDB format as 'Protein_3a_model_0.pdb' file.\n",
    "\n",
    "To visualize using molstar component, render bellow cell."
   ]
  },
  {
   "cell_type": "code",
   "execution_count": 4,
   "metadata": {},
   "outputs": [
    {
     "data": {
      "text/html": [
       "<div style=\"height:450px;\">\n",
       "<pdbe-molstar \n",
       "    custom-data-url=\"Protein_3a_model_0.pdb\" \n",
       "    custom-data-format=\"pdb\" \n",
       "    hide-controls=\"true\" \n",
       "    bg-color-r=\"255\" bg-color-g=\"255\" bg-color-b=\"255\"></pdbe-molstar>\n",
       "</div>\n"
      ],
      "text/plain": [
       "<IPython.core.display.HTML object>"
      ]
     },
     "metadata": {},
     "output_type": "display_data"
    }
   ],
   "source": [
    "%%html\n",
    "<div style=\"height:450px;\">\n",
    "<pdbe-molstar \n",
    "    custom-data-url=\"Protein_3a_model_0.pdb\" \n",
    "    custom-data-format=\"pdb\" \n",
    "    hide-controls=\"true\" \n",
    "    bg-color-r=\"255\" bg-color-g=\"255\" bg-color-b=\"255\"></pdbe-molstar>\n",
    "</div>"
   ]
  },
  {
   "cell_type": "markdown",
   "metadata": {},
   "source": [
    "## Computing binding and energies\n",
    "\n",
    "The authors did use Discovery Studio software [^3] to do simulation.\n",
    "\n",
    "For reproducing the docking simulation and compute energy of interacting proteins we use HADDOCK software[^4] maintained by Bonvinlab group [^5], computation currently is powered by EGI resources.\n",
    "\n"
   ]
  },
  {
   "cell_type": "markdown",
   "metadata": {},
   "source": [
    "  The computation jobs were submitted in\n",
    "  * https://bianca.science.uu.nl/haddock2.4/ - requires registration (used EGI Check in)\n",
    "  * Job 1 oxygenated hemoglobin, Input parameters:\n",
    "    * Molecule 1: improved hemoglobin structure 6bb5 from PDB REDO, removed OXY group from position 2258 and 2259, in order to workaround error1\n",
    "    * Molecule 2: ORF3 structure in PDB format\n",
    "    * Molecule 1: residues chain B: 200 (heme group)\n",
    "    * Molecule 2: residues chain A: 61,71,159,160\n",
    "    * set as covid-19 related job\n",
    "  * Job 2, deoxygenated hemoglobin, Input parameters:\n",
    "    * Molecule 1: improved hemoglobin structure 1e3n from PDB REDO, unable to upload, error2\n",
    "    * set as covid-19 related job\n",
    "\n",
    "Errors:\n",
    "  * Error1 `The following error occurred when processing one of your PDB file: Unable to generate topology for ligand OXY. PRODRG did not create the required output:`\n",
    "  * Error2 \n",
    "    ```Error in PDB file.\n",
    "    Issue when parsing the PDB file at line 5262.\n",
    "    Your PDB contains multiple forms of the same residue HOH 258. This is not supported in the current form. If you would like to supply multiple conformations, please create an ensemble.\n",
    "    HETATM 4782 O AHOH B 258 -19.361 -3.877 3.072 0.50 10.96 O (Offending Line) <--\n",
    "    ATOM 32 N ARG 3 11.281 86.699 94.383 0.50 35.88 N (Example Valid Line)```\n"
   ]
  },
  {
   "cell_type": "markdown",
   "metadata": {},
   "source": [
    "## Results\n",
    "\n",
    "Computation submitted. Running for 4-5 hours.\n",
    "\n",
    "Best result:\n",
    "\n",
    "| feature | value |\n",
    "| ----: | :--- |\n",
    "| HADDOCK score\t| -79.3 +/- 9.1 |\n",
    "| Cluster size |\t4 |\n",
    "| RMSD from the overall lowest-energy structure\t| 17.7 +/- 0.6 |\n",
    "| Van der Waals energy |\t-18.3 +/- 13.5 |\n",
    "| Electrostatic energy\t| -304.9 +/- 42.2 |\n",
    "| Desolvation energy |\t-5.9 +/- 4.1 |\n",
    "| Restraints violation energy |\t58.5 +/- 5.1 |\n",
    "| Buried Surface Area |\t1192.8 +/- 121.0 |\n",
    "| Z-Score |\t-1.4 |\n",
    "\n",
    "\n",
    "3D Bionotes visualisation: https://3dbionotes.cnb.csic.es/programmatic/get/PSDTJGYWPXEWWUPSCPUF\n"
   ]
  },
  {
   "cell_type": "markdown",
   "metadata": {},
   "source": [
    "Visualisation of binding - Chain B of hemoglobin and viral protein 3a."
   ]
  },
  {
   "cell_type": "code",
   "execution_count": null,
   "metadata": {},
   "outputs": [],
   "source": [
    "%%html\n",
    "<div style=\"height:600px;\">\n",
    "<pdbe-molstar \n",
    "    custom-data-url=\"cluster6_1.pdb\" \n",
    "    custom-data-format=\"pdb\" \n",
    "    hide-controls=\"true\" \n",
    "    bg-color-r=\"255\" bg-color-g=\"255\" bg-color-b=\"255\"></pdbe-molstar>\n",
    "</div>"
   ]
  },
  {
   "cell_type": "code",
   "execution_count": null,
   "metadata": {},
   "outputs": [],
   "source": [
    "%%html\n",
    "<div style=\"height:600px;\">\n",
    "<pdbe-molstar \n",
    "    custom-data-url=\"cluster6_1.pdb\" \n",
    "    custom-data-format=\"pdb\" \n",
    "    hide-controls=\"true\" \n",
    "    bg-color-r=\"255\" bg-color-g=\"255\" bg-color-b=\"255\" visual-style=\"molecular-surface\"></pdbe-molstar>\n",
    "</div>"
   ]
  },
  {
   "cell_type": "markdown",
   "metadata": {},
   "source": [
    "Second best result\n",
    "\n",
    "| feature | value |\n",
    "| ----: | :-- |\n",
    "|HADDOCK score |\t-72.9 +/- 0.7 |\n",
    "|Cluster size|\t8|\n",
    "|RMSD from the overall lowest-energy structure|\t16.7 +/- 0.3|\n",
    "|Van der Waals energy|\t-24.0 +/- 0.3|\n",
    "|Electrostatic energy|\t-206.2 +/- 18.2|\n",
    "|Desolvation energy|\t-15.2 +/- 3.5|\n",
    "|Restraints violation energy|\t75.5 +/- 0.5|\n",
    "|Buried Surface Area|\t952.7 +/- 36.6|\n",
    "|Z-Score|\t-0.8|\n",
    "\n",
    "3DBionotes visualisation https://3dbionotes.cnb.csic.es/programmatic/get/FNWGMNMVBFVWHYCFSXSY"
   ]
  },
  {
   "cell_type": "code",
   "execution_count": null,
   "metadata": {},
   "outputs": [],
   "source": [
    "%%html\n",
    "<div style=\"height:600px;\">\n",
    "<pdbe-molstar \n",
    "    custom-data-url=\"cluster2_1.pdb\" \n",
    "    custom-data-format=\"pdb\" \n",
    "    hide-controls=\"true\" \n",
    "    bg-color-r=\"255\" bg-color-g=\"255\" bg-color-b=\"255\">\n",
    "</pdbe-molstar>\n",
    "</div>"
   ]
  },
  {
   "cell_type": "markdown",
   "metadata": {},
   "source": [
    "Full results, dataset parameters: https://wenmr.science.uu.nl/haddock2.4/run/7459178380/hem-covid"
   ]
  },
  {
   "cell_type": "markdown",
   "metadata": {},
   "source": [
    "# Conclusion\n",
    "\n",
    "Predicted binding site of viral ORF3a protein seems to be computationally valid for binding hemoglobin structure.\n",
    "  * Further reproduction of Haddock computation needs to be done for other viral protein predicted in [^1] for oxygenated and deoxygenated hemoglobin. \n",
    "  * The workaround for Error1 might affect some values  \n",
    "  * Error2 prevents computation for deoxygenated hemoglobin. Find better structure in PDB database or consult with HADDOCK group forum. \n",
    "  * Use PDB-REDO [^6] structures rather original PDB deposited in PDBe.\n",
    "  * Compare HADDOCK score for other 'normal' compound.\n",
    "\n",
    "Pathophysiology perspective:\n",
    "  * further study may validate ECMO data and other observation related to oxygen, hematocrit etc against models of physiology of oxygen binding [^8] and full human physiology Physiomodel [^9].\n",
    "  * validate ECMO models already setup for Physiomodel.\n",
    "  "
   ]
  },
  {
   "cell_type": "markdown",
   "metadata": {},
   "source": [
    "References:\n",
    "\n",
    "[^1]: Wenzhong Liu, Hualan Li. COVID-19:Attacks the 1-Beta Chain of Hemoglobin and\n",
    "Captures the Porphyrin to Inhibit Human Heme Metabolism\n",
    "\n",
    "[^2]: Senior, A.W., Evans, R., Jumper, J. et al. Improved protein structure prediction using potentials from deep learning. Nature 577, 706–710 (2020). https://doi.org/10.1038/s41586-019-1923-7\n",
    "\n",
    "[^3]: 3DS BIOVA, Discovery Studio Visualiser, free to download and install https://www.3dsbiovia.com/products/collaborative-science/biovia-discovery-studio/visualization-download.php\n",
    "\n",
    "[^4]: HADDOCK http://haddock.science.uu.nl/\n",
    "\n",
    "[^5]: A.Bonvin Lab group web site: https://www.bonvinlab.org/\n",
    "\n",
    "[^6]: PDB-REDO https://pdb-redo.eu/\n",
    "\n",
    "[^7]:  PDBe-KB: a community-driven resource for structural and functional annotations. Nucleic acids research Volume 48 (2020) p.D344-D353 DOI: https://doi.org/10.1093/nar/gkz853 web: https://www.pdbe.org\n",
    "\n",
    "[^8]: Mateják M. et al. Adair-based hemoglobin equilibrium with oxygen, carbon dioxide and hydrogen ion activity. Scandinavian Journal of Clinical and Laboratory Investigation, https://doi.org/10.3109/00365513.2014.984320\n",
    "\n",
    "[^9]: Matejak M. et al. Physiomodel, https://doi.org/10.1109/EMBC.2015.7318646\n",
    "\n"
   ]
  },
  {
   "cell_type": "code",
   "execution_count": null,
   "metadata": {},
   "outputs": [],
   "source": []
  },
  {
   "cell_type": "code",
   "execution_count": null,
   "metadata": {},
   "outputs": [],
   "source": []
  }
 ],
 "metadata": {
  "kernelspec": {
   "display_name": "Python 3",
   "language": "python",
   "name": "python3"
  },
  "language_info": {
   "codemirror_mode": {
    "name": "ipython",
    "version": 3
   },
   "file_extension": ".py",
   "mimetype": "text/x-python",
   "name": "python",
   "nbconvert_exporter": "python",
   "pygments_lexer": "ipython3",
   "version": "3.7.6"
  }
 },
 "nbformat": 4,
 "nbformat_minor": 2
}
