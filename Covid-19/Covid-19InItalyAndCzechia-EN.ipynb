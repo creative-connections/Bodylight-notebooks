{
 "cells": [
  {
   "cell_type": "markdown",
   "metadata": {},
   "source": [
    "# Models to predict Coronavirus spreading and infection of COVID-19 in different countries\n",
    "\n",
    "Tomáš Kulhánek<sup>1,2</sup>, Jiří Kofránek<sup>1,2</sup>\n",
    "\n",
    "<sup>1</sup>Department of Biocybernetics and Computer Aided Learning, Institute of Pathological Physiology, First Faculty of Medicine, Charles University in Prague <sup>2</sup>Creative Connections,s.r.o. \n",
    "\n",
    "This notebook compares logistic model and exponential model to follow e.g. spreading of an infection.\n",
    "\n",
    "The examples bellow and data are taken in order to fit and predict spreading of Coronavirus and infection of COVID-!( in World. Data are taken from public resources, see references bellow. The computation is scripted using Python and libaries supporting data science.\n",
    "\n",
    "This notebook is interactive, with text cells and code cells. It's possible to move using keybord arrows. In order to execute the code, you may need to do that in the order from top to bottom - Press `Shift-Enter`. Content of the cell is editable, thus you may change the content and rerun them by pressing `Shift-Enter`."
   ]
  },
  {
   "cell_type": "code",
   "execution_count": null,
   "metadata": {},
   "outputs": [],
   "source": [
    "# First we import related python libs used further\n",
    "import pandas as pd\n",
    "import numpy as np\n",
    "from datetime import datetime,timedelta\n",
    "from sklearn.metrics import mean_squared_error\n",
    "from scipy.optimize import curve_fit\n",
    "from scipy.optimize import fsolve\n",
    "import matplotlib.pyplot as plt\n",
    "from datetime import datetime,timedelta\n",
    "%matplotlib inline"
   ]
  },
  {
   "cell_type": "markdown",
   "metadata": {},
   "source": [
    "Now we define routines to obtain data from public databases. See References bellow"
   ]
  },
  {
   "cell_type": "code",
   "execution_count": null,
   "metadata": {},
   "outputs": [],
   "source": [
    "#cache data\n",
    "url = \"https://raw.githubusercontent.com/pcm-dpc/COVID-19/master/dati-andamento-nazionale/dpc-covid19-ita-andamento-nazionale.csv\"\n",
    "dfi = pd.read_csv(url)\n",
    "#data from Italian national agency, seems to be updated in daily basis\n",
    "def getdatafromItaly():\n",
    "    global dfi\n",
    "    df = dfi\n",
    "    df = df.loc[:,['data','totale_casi']]\n",
    "    FMT = '%Y-%m-%d %H:%M:%S'\n",
    "    date = df['data']\n",
    "    df['data'] = date.map(lambda x : (datetime.strptime(x, FMT) - datetime.strptime(\"2020-01-01 00:00:00\", FMT)).days  )\n",
    "    return df"
   ]
  },
  {
   "cell_type": "code",
   "execution_count": null,
   "metadata": {},
   "outputs": [],
   "source": [
    "#cache data\n",
    "url = \"https://raw.githubusercontent.com/CSSEGISandData/COVID-19/master/csse_covid_19_data/csse_covid_19_time_series/time_series_19-covid-Confirmed.csv\"\n",
    "dfw = pd.read_csv(url)\n",
    "def getdatafromWHO(country,addlastdaynum=0):\n",
    "    global dfw\n",
    "    df3 = dfw\n",
    "    #select country,region\n",
    "    dfcz = df3.loc[df3['Country/Region']==country,:]\n",
    "    #select only data relevant of coronavirus COVID-19, strip country name, location,... \n",
    "    dfcz2 = dfcz.iloc[:,4:]\n",
    "    #strip columns where infected is 0\n",
    "    dfcz21 = dfcz2.loc[:, (dfcz2 != 0).any(axis=0)]\n",
    "    dfcz22 = dfcz21.rename(index={dfcz21.first_valid_index():\"infected\"},errors=\"raise\")\n",
    "    #transpose\n",
    "    dfcz3 = dfcz22.transpose()\n",
    "    #calculate number of days from 1.1.2020 based on date in first column\n",
    "    d = (datetime.strptime(dfcz21.columns[0], \"%m/%d/%y\")-datetime(2020,1,1)).days\n",
    "    #insert just day numbers \n",
    "    dfcz3.insert(0,'days',range(d,int(d+len(dfcz3.index))))\n",
    "    #optionally append one number with most updated data - 13.3. number 113\n",
    "    if (addlastdaynum>0):\n",
    "        dfcz33 = dfcz3.append({\"days\":d+len(dfcz3.index),\"infected\":addlastdaynum},ignore_index=True)\n",
    "        return dfcz33\n",
    "    return dfcz3\n",
    "    #print(dfcz33,df2)\n",
    "    "
   ]
  },
  {
   "cell_type": "code",
   "execution_count": null,
   "metadata": {},
   "outputs": [],
   "source": [
    "def getdatafromCzechia():\n",
    "    # TODO CSV resource not found yet, manually updated every day, https://onemocneni-aktualne.mzcr.cz/covid-19\n",
    "    crdata=[['days','infected'],[61,3],[62,3],[63,5],[64,5],[65,8],[66,19],[67,26],[68,32],[69,38],[70,63],\n",
    "            [71,94],[72,116],[73,141],[74,189],[75,298],[76,383]]\n",
    "    df2 = pd.DataFrame(crdata[1:],columns=crdata[0])\n",
    "    return df2"
   ]
  },
  {
   "cell_type": "markdown",
   "metadata": {},
   "source": [
    "## Logistic model\n",
    "Logistic model may fit the spreading of some infection in population. See https://en.wikipedia.org/wiki/Logistic_regression\n",
    "\n",
    "$$ f(x,a,b,c)= \\frac{c}{1+e^\\frac{-(x-b)}{a} } $$\n",
    "\n",
    "* $x$ time\n",
    "* $a$ speed of infection\n",
    "* $b$ critical point, day when most infected people was recorded\n",
    "* $c$ total number of infected people"
   ]
  },
  {
   "cell_type": "code",
   "execution_count": null,
   "metadata": {},
   "outputs": [],
   "source": [
    "def logistic_model(x,a,b,c):\n",
    "    return c/(1+np.exp(-(x-b)/a))\n",
    "\n"
   ]
  },
  {
   "cell_type": "markdown",
   "metadata": {},
   "source": [
    "# Exponencial model\n",
    "Exponencial model may better fit the uncontrollable spreading of infection in the beginning, when no action was taken.\n",
    "\n",
    "$$ f(x,a,b,c)= a.e^{b(x-c)} $$"
   ]
  },
  {
   "cell_type": "code",
   "execution_count": null,
   "metadata": {},
   "outputs": [],
   "source": [
    "def exponential_model(x,a,b,c):\n",
    "    return a*np.exp(b*(x-c))"
   ]
  },
  {
   "cell_type": "markdown",
   "metadata": {},
   "source": [
    " # Model fit to data\n",
    " The models have parameters, these parameters might be estimated thus the real data fits the model. We use method of  `curve_fit` from scipy library `scipy`. "
   ]
  },
  {
   "cell_type": "code",
   "execution_count": null,
   "metadata": {},
   "outputs": [],
   "source": [
    "def getxy(dfcz33):\n",
    "    x = list(dfcz33.iloc[:,0])\n",
    "    y = list(dfcz33.iloc[:,1])\n",
    "    return (x,y)\n",
    "\n",
    "def fitlogisticmodel(x,y):\n",
    "    #fit data to logistic model\n",
    "    fit=[[4,75,100000]]\n",
    "    try:\n",
    "        #fit = curve_fit(logistic_model,x,y,p0=[2,70,20000],method='lm')#,bounds=([0.5,30,15][10,120,10e+7]))\n",
    "        fit = curve_fit(logistic_model,x,y,p0=[2,70,20000],method='lm',maxfev=5000)#,bounds=([0.5,30,15][10,120,10e+7]))\n",
    "    except:\n",
    "        print('fit not found, attemp 0');\n",
    "        for i in range(1,5):\n",
    "            try:\n",
    "                fit = curve_fit(logistic_model,x,y,p0=[i,70,i*1000**(i/3)],bounds=([0.5,60,15][10,120,1e+7]),maxfev=5000)\n",
    "                break;\n",
    "            except:\n",
    "                print('fit not found, attemp ',i);\n",
    "    #a,b,c parameters of model, c total infected, b reversal day number of daily infected starts decrease\n",
    "    (a,b,c)=(fit[0][0],fit[0][1],fit[0][2])\n",
    "    #lastday when somebody is infected\n",
    "    lastday = int(fsolve(lambda x : logistic_model(x,a,b,c) - int(c),b))\n",
    "    #errors - uncertainty\n",
    "    errors = [np.sqrt(fit[1][i][i]) for i in [0,1,2]]\n",
    "    print('Parameters of logistic model fit a:',a,' b:',b,' c:',c,' errors of c:',errors[2])\n",
    "    return (fit,lastday,errors)\n",
    "\n",
    "def fitlogisticmodel_b(x,y,fixb):\n",
    "    #fit data to logistic model with already estimated parameter B \n",
    "    fit = curve_fit(logistic_model,x,y,p0=[2,fixb,20000],bounds=[[1,fixb,150],[10,fixb+1,10e+6]])\n",
    "    \n",
    "    #a,b,c parameters of model, c total infected, b reversal day number of daily infected starts decrease\n",
    "    (a,b,c)=(fit[0][0],fit[0][1],fit[0][2])\n",
    "    #lastday when somebody is infected\n",
    "    lastday = int(fsolve(lambda x : logistic_model(x,a,b,c) - int(c),b))\n",
    "    #errors - uncertainty\n",
    "    errors = [np.sqrt(fit[1][i][i]) for i in [0,1,2]]\n",
    "    print('Parameters of logistic model fit a:',a,' b:',b,' c:',c,' errors of c:',errors[2])\n",
    "    return (fit,lastday,errors)"
   ]
  },
  {
   "cell_type": "code",
   "execution_count": null,
   "metadata": {},
   "outputs": [],
   "source": [
    "def fitexponentialmodel(x,y):\n",
    "    #fit data to exponential model\n",
    "    exp_fit = curve_fit(exponential_model,x,y,p0=[0.02,0.1,2.8])\n",
    "    return exp_fit\n"
   ]
  },
  {
   "cell_type": "markdown",
   "metadata": {},
   "source": [
    "# Vizualisation of results and prediction of models based on real data\n",
    "\n",
    "Now we will define routines to visualize real data and model with parameters, we may extrapolate models to predict future. "
   ]
  },
  {
   "cell_type": "code",
   "execution_count": null,
   "metadata": {},
   "outputs": [],
   "source": [
    "# renders one basic plotchart with logistic, exponential model and real data, \n",
    "# for logistic model it shows total predicted infected people\n",
    "def plotchart(x,y,lastday,fit,exp_fit,errors):\n",
    "    pred_x = list(range(max(x),lastday))\n",
    "    plt.rcParams['figure.figsize'] = [7, 7]\n",
    "    plt.rc('font', size=14)\n",
    "    # Real data\n",
    "    plt.scatter(x,y,label=\"Real data\",color=\"red\")\n",
    "    # Predicted logistic curve\n",
    "    plt.plot(x+pred_x, [logistic_model(i,fit[0][0],fit[0][1],fit[0][2]) for i in x+pred_x], label=\"Logistic model\" )\n",
    "    # Predicted exponential curve\n",
    "    plt.plot(x+pred_x, [exponential_model(i,exp_fit[0][0],exp_fit[0][1],exp_fit[0][2]) for i in x+pred_x], label=\"Exponential model\" )\n",
    "    # line with predicted total infected\n",
    "    plt.axhline(y=fit[0][2], color='b', linestyle='dotted')\n",
    "    plt.text(lastday-2,fit[0][2]*1.02,int(fit[0][2]))\n",
    "    # uncertainty interval +- errors\n",
    "    plt.axhline(y=fit[0][2]-errors[2], color='lightblue', linestyle='dotted')\n",
    "    plt.axhline(y=fit[0][2]+errors[2], color='lightblue', linestyle='dotted')\n",
    "    plt.legend()\n",
    "    plt.xlabel(\"Days since 1 January 2020\")\n",
    "    plt.ylabel(\"Total number of infected people\")\n",
    "    plt.ylim((min(y)*0.9,fit[0][2]*1.1))\n",
    "    plt.show()\n",
    "    \n",
    "# this shows - compares two logistic models in a graph - e.g. one with fixed estimated critical point \n",
    "# lastday2,fit2,exp_fit2 - is denoted as 'Realistic model'\n",
    "def plotcharts(x,y,lastday,fit,exp_fit,errors,lastday2,fit2,errors2):\n",
    "    pred_x = list(range(max(x),lastday))\n",
    "    pred_x2 = list(range(max(x),lastday2))\n",
    "    plt.rcParams['figure.figsize'] = [7, 7]\n",
    "    plt.rc('font', size=12)\n",
    "    # Real data\n",
    "    plt.scatter(x,y,label=\"Real data\",color=\"red\")\n",
    "    # Predicted logistic curve\n",
    "    plt.plot(x+pred_x, [logistic_model(i,fit[0][0],fit[0][1],fit[0][2]) for i in x+pred_x], label=\"Optimistic L. model\" )\n",
    "    plt.plot(x+pred_x2, [logistic_model(i,fit2[0][0],fit2[0][1],fit2[0][2]) for i in x+pred_x2], label=\"Realistic L. model b=85\" )\n",
    "    # Predicted exponential curve\n",
    "    plt.plot(x+pred_x, [exponential_model(i,exp_fit[0][0],exp_fit[0][1],exp_fit[0][2]) for i in x+pred_x], label=\"Exponential model\" ) \n",
    "    # line with predicted total infected\n",
    "    plt.axhline(y=fit[0][2], color='g', linestyle='dotted')\n",
    "    plt.text(lastday-2,fit[0][2]*1.02,int(fit[0][2]))\n",
    "    plt.axhline(y=fit2[0][2], color='b', linestyle='dotted')\n",
    "    plt.text(lastday2-2,fit2[0][2]*1.02,int(fit2[0][2]))\n",
    "    # uncertainty interval +- errors\n",
    "    plt.axhline(y=fit[0][2]-errors[2], color='lightblue', linestyle='dotted')\n",
    "    plt.axhline(y=fit[0][2]+errors[2], color='lightblue', linestyle='dotted')\n",
    "    plt.axhline(y=fit[0][2]-errors2[2], color='lightblue', linestyle='dotted')\n",
    "    plt.axhline(y=fit[0][2]+errors2[2], color='lightblue', linestyle='dotted')\n",
    "    plt.legend()\n",
    "    plt.xlabel(\"Days since 1 January 2020\")\n",
    "    plt.ylabel(\"Total number of infected people\")\n",
    "    plt.ylim((min(y)*0.9,max([fit[0][2],fit2[0][2]])*1.1))    \n",
    "    plt.show()\n",
    "\n",
    "# this show two charts - one as above, the second with y in logarithmic scale    \n",
    "def plotcharts_norm_vs_log(x,y,lastday,fit,exp_fit,errors,lastday2,fit2,errors2):\n",
    "    pred_x = list(range(max(x),lastday))\n",
    "    pred_x2 = list(range(max(x),lastday2))\n",
    "    plt.rcParams['figure.figsize'] = [14, 7]\n",
    "    plt.rc('font', size=10)\n",
    "    fig, (ax1, ax2) = plt.subplots(1, 2)\n",
    "    # Real data\n",
    "    ax1.scatter(x,y,label=\"Real data\",color=\"red\")\n",
    "    # Predicted logistic curve\n",
    "    ax1.plot(x+pred_x, [logistic_model(i,fit[0][0],fit[0][1],fit[0][2]) for i in x+pred_x], label=\"Optimistic logistic model b=\"+str(int(fit[0][1])))\n",
    "    ax1.plot(x+pred_x2, [logistic_model(i,fit2[0][0],fit2[0][1],fit2[0][2]) for i in x+pred_x2], label=\"Realistic logistic model b=\"+str(int(fit2[0][1]))) \n",
    "    # Predicted exponential curve\n",
    "    ax1.plot(x+pred_x, [exponential_model(i,exp_fit[0][0],exp_fit[0][1],exp_fit[0][2]) for i in x+pred_x], label=\"Exponential model\" ) \n",
    "    # line with predicted total infected\n",
    "    ax1.axhline(y=fit[0][2], color='g', linestyle='dotted')\n",
    "    ax1.text(lastday-2,fit[0][2]*1.02,int(fit[0][2]))\n",
    "    ax1.axhline(y=fit2[0][2], color='b', linestyle='dotted')\n",
    "    ax1.text(lastday2-2,fit2[0][2]*1.02,int(fit2[0][2]))\n",
    "    # uncertainty interval +- errors\n",
    "    ax1.axhline(y=fit[0][2]-errors[2], color='lightblue', linestyle='dotted')\n",
    "    ax1.axhline(y=fit[0][2]+errors[2], color='lightblue', linestyle='dotted')\n",
    "    ax1.axhline(y=fit[0][2]-errors2[2], color='lightblue', linestyle='dotted')\n",
    "    ax1.axhline(y=fit[0][2]+errors2[2], color='lightblue', linestyle='dotted')\n",
    "    ax1.legend()\n",
    "    ax1.set(xlabel=\"Days since 1 January 2020\",ylabel=\"Total number of infected people\",\n",
    "            ylim=(min(y)*0.9,max([fit[0][2],fit2[0][2]])*1.1))    \n",
    "\n",
    "    # Real data\n",
    "    ax2.scatter(x,y,label=\"Real data\",color=\"red\")\n",
    "    # Predicted logistic curve\n",
    "    ax2.plot(x+pred_x, [logistic_model(i,fit[0][0],fit[0][1],fit[0][2]) for i in x+pred_x], label=\"Optimistic logistic model b=\"+str(int(fit[0][1])))\n",
    "    ax2.plot(x+pred_x2, [logistic_model(i,fit2[0][0],fit2[0][1],fit2[0][2]) for i in x+pred_x2], label=\"Realistic logistic model b=\"+str(int(fit2[0][1])))\n",
    "    # Predicted exponential curve\n",
    "    ax2.plot(x+pred_x, [exponential_model(i,exp_fit[0][0],exp_fit[0][1],exp_fit[0][2]) for i in x+pred_x], label=\"Exponential model\" ) \n",
    "    # line with predicted total infected\n",
    "    ax2.axhline(y=fit[0][2], color='g', linestyle='dotted')\n",
    "    ax2.text(lastday-2,fit[0][2]*1.02,int(fit[0][2]))\n",
    "    ax2.axhline(y=fit2[0][2], color='b', linestyle='dotted')\n",
    "    ax2.text(lastday2-2,fit2[0][2]*1.02,int(fit2[0][2]))\n",
    "    # uncertainty interval +- errors\n",
    "    ax2.axhline(y=fit[0][2]-errors[2], color='lightblue', linestyle='dotted')\n",
    "    ax2.axhline(y=fit[0][2]+errors[2], color='lightblue', linestyle='dotted')\n",
    "    ax2.axhline(y=fit[0][2]-errors2[2], color='lightblue', linestyle='dotted')\n",
    "    ax2.axhline(y=fit[0][2]+errors2[2], color='lightblue', linestyle='dotted')\n",
    "    ax2.legend()\n",
    "    ax2.set(xlabel=\"Days since 1 January 2020\",ylabel=\"Total number of infected people, log scale\",\n",
    "            ylim=(min(y)*0.9,max([fit[0][2],fit2[0][2]])*1.1),    \n",
    "            yscale=\"log\")\n",
    "    \n",
    "    plt.show()\n",
    "    "
   ]
  },
  {
   "cell_type": "markdown",
   "metadata": {},
   "source": [
    "# Data analysis \n",
    "\n",
    "We can define function with a sequence to obtain raw data, do fitting and visualize prediction"
   ]
  },
  {
   "cell_type": "code",
   "execution_count": null,
   "metadata": {},
   "outputs": [],
   "source": [
    "\n",
    "def analyze_data(df,estb=0):\n",
    "    (x,y) = getxy(df)\n",
    "    #try to fit all parameters a,b,c    \n",
    "    (fit,lastday,errors) = fitlogisticmodel(x,y)\n",
    "    #try to fit parameters a,c, \n",
    "    #estimate b (critical point) as e.g. 7-14 days after \n",
    "    #quarantine and other actions were introduced in population\n",
    "    fit_exp = fitexponentialmodel(x,y)\n",
    "    date_lastday=datetime(2020,1,1) + timedelta(days=lastday)    \n",
    "    if estb>0:\n",
    "        (fit2,lastday2,errors2) = fitlogisticmodel_b(x,y,estb)\n",
    "        plotcharts_norm_vs_log(x,y,lastday,fit,fit_exp,errors,lastday2,fit2,errors2)\n",
    "    else:\n",
    "        plotchart(x,y,lastday,fit,fit_exp,errors)\n",
    "    return (date_lastday,fit,errors)\n",
    "    \n",
    "def analyze_for_country(country,addlastnum=0,estb=0):\n",
    "    # get data from WHO\n",
    "    df = getdatafromWHO(country,addlastnum)\n",
    "    (date_lastday,fit,errors) = analyze_data(df,estb)\n",
    "    #print('Model of COVID-19 infection in',country,'based on real data predicts last infected person at ',date_lastday.strftime('%d.%m.%Y'),' with total infected people ',int(fit[0][2]),'(+-', int(errors[2]),'). ')\n",
    "\n",
    "def analyze_czechia(estb=0):    \n",
    "    df = getdatafromCzechia()\n",
    "    (date_lastday,fit,errors) = analyze_data(df,estb)\n",
    "    #print('Model of COVID-19 infection in Czechia based on real data predicts last infected person at ',date_lastday.strftime('%d.%m.%Y'),' with total infected people ',int(fit[0][2]),'(+-', int(errors[2]),'). ')\n"
   ]
  },
  {
   "cell_type": "markdown",
   "metadata": {},
   "source": [
    "# Model prediction for Czechia\n",
    "\n",
    "Data are available from [3] and [2]. Comparing model prediction for both data."
   ]
  },
  {
   "cell_type": "code",
   "execution_count": null,
   "metadata": {},
   "outputs": [],
   "source": [
    "analyze_for_country('Czechia',estb=85) \n"
   ]
  },
  {
   "cell_type": "code",
   "execution_count": null,
   "metadata": {},
   "outputs": [],
   "source": [
    "analyze_czechia(estb=85)"
   ]
  },
  {
   "cell_type": "markdown",
   "metadata": {},
   "source": [
    "## Summary for Czechia\n",
    "Model fitting is sensitive on real data [2],[3]. The prediction differs, however the order for realistic model seems to be same. The trajectories are still exponential and it seems that we're not behind critical point 'b'. Therefore we added manually estimated critical point b as 12 days after drastic arrangments were introduced by governemnt 13.3.2020. Which is day 85. (Incubation period of COVID-19 seems to be betwee 7 and 14 days)\n",
    "\n",
    "We will see the future."
   ]
  },
  {
   "cell_type": "markdown",
   "metadata": {},
   "source": [
    "# Model and prediction for South Korea"
   ]
  },
  {
   "cell_type": "code",
   "execution_count": null,
   "metadata": {},
   "outputs": [],
   "source": [
    "analyze_for_country('Korea, South')"
   ]
  },
  {
   "cell_type": "markdown",
   "metadata": {},
   "source": [
    "## Summary for South Korea\n",
    "\n",
    "From real data, South Korea seems to reach critical point at day around 60 (1/3/2020). Prediction of the logistic model fits and do not differ from daily updates.\n",
    "\n",
    "* 13/3/2020 Predicted total 7982 (+- 38 ). \n",
    "* 16/3/2020 Predicted total 8097 (+-32). \n",
    "* 17/3/2020 Predicted total 8133 (+-31).\n"
   ]
  },
  {
   "cell_type": "markdown",
   "metadata": {},
   "source": [
    "# Model and prediction for Italy\n",
    "\n",
    "Data are available from WHO and from italian sources[1] [3]. "
   ]
  },
  {
   "cell_type": "code",
   "execution_count": null,
   "metadata": {},
   "outputs": [],
   "source": [
    "analyze_for_country('Italy',estb=81)"
   ]
  },
  {
   "cell_type": "code",
   "execution_count": null,
   "metadata": {},
   "outputs": [],
   "source": [
    "df3=getdatafromItaly()\n",
    "analyze_data(df3,estb=81)"
   ]
  },
  {
   "cell_type": "markdown",
   "metadata": {},
   "source": [
    "## Summary for Italy \n",
    "Models are sensitive on real data,[1] a [3], it slightly differs, however has same trends\n",
    "* 13/3/2020 predicts 42393 (+-7887) vs 19293 (+-1111). \n",
    "* 16/3/2020 predicts 73519 (+-9427) vs 134252 (+-65720). \n",
    "\n",
    "We add estimated `b` as 12 days after drastic arrangements were taken in Italy (9/3/2020). b=81 (21/3/2020).\n",
    "* 16/3/2020 Realistic model predicts predicts 128639 (+-41596).\n",
    "* 17/3/2020 Realistic model predicts 123533 (+-34187)."
   ]
  },
  {
   "cell_type": "markdown",
   "metadata": {},
   "source": [
    "# Other countries"
   ]
  },
  {
   "cell_type": "code",
   "execution_count": null,
   "metadata": {},
   "outputs": [],
   "source": [
    "# do analysis for your country, check correct country/region name in data source [3]\n",
    "print(dfw[['Country/Region']])"
   ]
  },
  {
   "cell_type": "code",
   "execution_count": null,
   "metadata": {},
   "outputs": [],
   "source": [
    "# replace country name \n",
    "analyze_for_country('Germany',estb=90)"
   ]
  },
  {
   "cell_type": "code",
   "execution_count": null,
   "metadata": {},
   "outputs": [],
   "source": []
  },
  {
   "cell_type": "markdown",
   "metadata": {},
   "source": [
    "# References\n",
    "* [1] Gianluca Malato, Covid-19 infection in Italy. Mathematical models and predictions. Data from Italy https://towardsdatascience.com/covid-19-infection-in-italy-mathematical-models-and-predictions-7784b4d7dd8d\n",
    "* [2] Data from Czechia https://onemocneni-aktualne.mzcr.cz/covid-19\n",
    "* [3] World data updated by Johns Hopkins University Center for Systems Science and Engineering https://github.com/CSSEGISandData/COVID-19"
   ]
  },
  {
   "cell_type": "code",
   "execution_count": null,
   "metadata": {},
   "outputs": [],
   "source": []
  }
 ],
 "metadata": {
  "kernelspec": {
   "display_name": "Python 3",
   "language": "python",
   "name": "python3"
  },
  "language_info": {
   "codemirror_mode": {
    "name": "ipython",
    "version": 3
   },
   "file_extension": ".py",
   "mimetype": "text/x-python",
   "name": "python",
   "nbconvert_exporter": "python",
   "pygments_lexer": "ipython3",
   "version": "3.7.6"
  }
 },
 "nbformat": 4,
 "nbformat_minor": 2
}
