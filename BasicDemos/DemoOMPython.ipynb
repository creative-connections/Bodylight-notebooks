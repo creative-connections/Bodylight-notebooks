{
 "cells": [
  {
   "cell_type": "markdown",
   "metadata": {},
   "source": [
    "# OMPython demo"
   ]
  },
  {
   "cell_type": "markdown",
   "metadata": {},
   "source": [
    "This demo shows using OpenModelica directly from Python. If not installed already, follow instructions at https://github.com/OpenModelica/OMPython\n",
    "\n",
    "The following code will inicialize model of Bouncing Ball - part of shared test model."
   ]
  },
  {
   "cell_type": "code",
   "execution_count": 1,
   "metadata": {},
   "outputs": [
    {
     "name": "stderr",
     "output_type": "stream",
     "text": [
      "2019-12-16 09:23:33,791 - OMPython - INFO - OMC Server is up and running at file:////tmp/openmodelica.vagrant.port.66b55be15b1a43828c705dacf72144f6 pid=4935\n",
      "2019-12-16 09:23:34,203 - OMPython - INFO - OMC Server is up and running at file:////tmp/openmodelica.vagrant.port.e5b8f0a88a6f4cbbbae88634f03cc533 pid=4939\n"
     ]
    }
   ],
   "source": [
    "from OMPython import OMCSessionZMQ\n",
    "omc = OMCSessionZMQ()\n",
    "model_path=omc.sendExpression(\"getInstallationDirectoryPath()\") + \"/share/doc/omc/testmodels/\"\n",
    "from OMPython import ModelicaSystem\n",
    "mod=ModelicaSystem(model_path + \"BouncingBall.mo\",\"BouncingBall\")"
   ]
  },
  {
   "cell_type": "markdown",
   "metadata": {},
   "source": [
    "We build and simulate the model till 10 s with tolerance 1e-6."
   ]
  },
  {
   "cell_type": "code",
   "execution_count": 2,
   "metadata": {},
   "outputs": [],
   "source": [
    "mod.buildModel()\n",
    "mod.setSimulationOptions([\"stopTime=10.0\",\"tolerance=1e-06\"])\n",
    "mod.simulate()"
   ]
  },
  {
   "cell_type": "markdown",
   "metadata": {},
   "source": [
    "In order to read `.mat`file, there exist DyMat library for Python for reading and exporting files from this data file. Install it by `pip install DyMat`. https://www.j-raedler.de/projects/dymat/"
   ]
  },
  {
   "cell_type": "code",
   "execution_count": 3,
   "metadata": {},
   "outputs": [],
   "source": [
    "import DyMat"
   ]
  },
  {
   "cell_type": "code",
   "execution_count": 4,
   "metadata": {},
   "outputs": [],
   "source": [
    "d = DyMat.DyMatFile('BouncingBall_res.mat')\n"
   ]
  },
  {
   "cell_type": "code",
   "execution_count": 5,
   "metadata": {},
   "outputs": [],
   "source": [
    "def plot(x,y,z=None):\n",
    "    %matplotlib inline\n",
    "    import matplotlib.pyplot as plt\n",
    "    fig = plt.figure()\n",
    "    plt.plot(x,y,'r')\n",
    "    if z is not None:\n",
    "        plt.plot(x,z,'b')\n",
    "    plt.show()\n"
   ]
  },
  {
   "cell_type": "markdown",
   "metadata": {},
   "source": [
    "The 'time' variable is stored next to each model variable as abscissa. In order to get time values related to the variable values call `d.abscissa('variable_name',valuesOnly=True)`"
   ]
  },
  {
   "cell_type": "code",
   "execution_count": 6,
   "metadata": {},
   "outputs": [
    {
     "data": {
      "image/png": "[encoded data removed]",
      "text/plain": [
       "<Figure size 432x288 with 1 Axes>"
      ]
     },
     "metadata": {
      "needs_background": "light"
     },
     "output_type": "display_data"
    }
   ],
   "source": [
    "plot(d.abscissa('h',valuesOnly=True),d['h'])"
   ]
  },
  {
   "cell_type": "markdown",
   "metadata": {},
   "source": [
    "It's possible to define inline model and write it to file."
   ]
  },
  {
   "cell_type": "code",
   "execution_count": 7,
   "metadata": {},
   "outputs": [
    {
     "name": "stdout",
     "output_type": "stream",
     "text": [
      "Overwriting TestModel.mo\n"
     ]
    }
   ],
   "source": [
    "%%writefile TestModel.mo\n",
    "model TestModel2\n",
    "  Real x;\n",
    "equation\n",
    "  der(x) = 1-x;\n",
    "end TestModel2;\n"
   ]
  },
  {
   "cell_type": "markdown",
   "metadata": {},
   "source": [
    "Now load, build and simulate the model."
   ]
  },
  {
   "cell_type": "code",
   "execution_count": 8,
   "metadata": {},
   "outputs": [
    {
     "name": "stderr",
     "output_type": "stream",
     "text": [
      "2019-12-16 09:25:53,058 - OMPython - INFO - OMC Server is up and running at file:////tmp/openmodelica.vagrant.port.bcce5b0d08854e539c1a188c1d1fe1df pid=5080\n"
     ]
    },
    {
     "name": "stdout",
     "output_type": "stream",
     "text": [
      "Expected end of text (at char 192), (line:1, col:193)\n",
      "Expected end of text (at char 192), (line:1, col:193)\n"
     ]
    }
   ],
   "source": [
    "mod2 = ModelicaSystem(\"TestModel.mo\",\"TestModel2\")\n",
    "mod2.buildModel()"
   ]
  },
  {
   "cell_type": "code",
   "execution_count": 9,
   "metadata": {},
   "outputs": [],
   "source": [
    "mod2.setSimulationOptions([\"stopTime=10.0\",\"tolerance=1e-06\"])"
   ]
  },
  {
   "cell_type": "code",
   "execution_count": 10,
   "metadata": {},
   "outputs": [],
   "source": [
    "mod2.simulate()"
   ]
  },
  {
   "cell_type": "markdown",
   "metadata": {},
   "source": [
    "And plot results. Time vairable can be obtained from variable `abscissa`."
   ]
  },
  {
   "cell_type": "code",
   "execution_count": 11,
   "metadata": {},
   "outputs": [],
   "source": [
    "d2 = DyMat.DyMatFile('TestModel2_res.mat')"
   ]
  },
  {
   "cell_type": "code",
   "execution_count": 12,
   "metadata": {},
   "outputs": [
    {
     "data": {
      "image/png": "[encoded data removed]",
      "text/plain": [
       "<Figure size 432x288 with 1 Axes>"
      ]
     },
     "metadata": {
      "needs_background": "light"
     },
     "output_type": "display_data"
    }
   ],
   "source": [
    "plot(d2.abscissa('x',valuesOnly=True),d2['x'],d2['der(x)'])"
   ]
  },
  {
   "cell_type": "code",
   "execution_count": null,
   "metadata": {},
   "outputs": [],
   "source": []
  }
 ],
 "metadata": {
  "kernelspec": {
   "display_name": "Python 3",
   "language": "python",
   "name": "python3"
  },
  "language_info": {
   "codemirror_mode": {
    "name": "ipython",
    "version": 3
   },
   "file_extension": ".py",
   "mimetype": "text/x-python",
   "name": "python",
   "nbconvert_exporter": "python",
   "pygments_lexer": "ipython3",
   "version": "3.7.3"
  }
 },
 "nbformat": 4,
 "nbformat_minor": 2
}
