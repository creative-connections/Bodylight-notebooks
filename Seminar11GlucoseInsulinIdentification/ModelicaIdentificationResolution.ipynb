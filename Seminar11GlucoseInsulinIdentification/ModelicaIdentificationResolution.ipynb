{
 "cells": [
  {
   "cell_type": "markdown",
   "metadata": {},
   "source": [
    "# System identification and parameter estimation\n",
    "\n",
    "This tutorial goes through necesarry steps in order to estimate parameter and identify system as modeled by model.\n",
    "This is jupyter notebook, with text-cells and code-cells with python code. \n",
    "\n",
    "You can run the code cells and execute scripts there by pressing `Shift-Enter`.\n",
    "\n",
    "There are Ellipsis in the code `...` which means you need edit the cell and place some correct value,parameter,identifier based on the task.\n",
    "\n",
    "We will simulate model of glucose insulin regulation which describes well the real regulation within human body. [Type-1 diabetes][1] is a form of diabetes in which very little or no insulin is produced by the pancreas.\n",
    "\n",
    "[1]:https://en.wikipedia.org/wiki/Type_1_diabetes"
   ]
  },
  {
   "cell_type": "markdown",
   "metadata": {},
   "source": [
    "## 1. PyFmi library\n",
    "First you need to import pyfmi library. If the following command doesn't produce any error you may continue."
   ]
  },
  {
   "cell_type": "code",
   "execution_count": 2,
   "metadata": {},
   "outputs": [],
   "source": [
    "from pyfmi import load_fmu"
   ]
  },
  {
   "cell_type": "markdown",
   "metadata": {},
   "source": [
    "if error happens, you need to install pyfmi, e.g. `conda install -c conda-forge pyfmi`."
   ]
  },
  {
   "cell_type": "markdown",
   "metadata": {},
   "source": [
    "## 2. Simulate FMU in Python\n",
    "\n",
    "The GlucoseInsulin model was exported as FMU and is next to this notebook file. (In OpenModelica OMEdit, open the desired model and select FMI -> Export FMU)\n",
    "\n",
    "Load the FMU:\n"
   ]
  },
  {
   "cell_type": "code",
   "execution_count": 3,
   "metadata": {},
   "outputs": [],
   "source": [
    "model = load_fmu('seminar11hw.GIExperiment.fmu')"
   ]
  },
  {
   "cell_type": "markdown",
   "metadata": {},
   "source": [
    "Create default simulation options, we will set it further"
   ]
  },
  {
   "cell_type": "code",
   "execution_count": 4,
   "metadata": {},
   "outputs": [],
   "source": [
    "opts = model.simulate_options()"
   ]
  },
  {
   "cell_type": "code",
   "execution_count": 5,
   "metadata": {},
   "outputs": [],
   "source": [
    "def simulate_relativebeta(relbeta=1,sopts=opts):\n",
    "    model.reset()\n",
    "    model.instantiate()\n",
    "    param_name = 'glucoseInsulinRegulation.beta.k'\n",
    "    model.set(param_name,relbeta*1430/3600)\n",
    "    res = model.simulate(final_time=3*23*60*60,options = sopts) # 2.1 replace ... with 3 days recalculated in seconds\n",
    "    return res"
   ]
  },
  {
   "cell_type": "markdown",
   "metadata": {},
   "source": [
    "Now try to simulate with default values (relbeta `1` and already defined global `opts`)"
   ]
  },
  {
   "cell_type": "code",
   "execution_count": 6,
   "metadata": {},
   "outputs": [
    {
     "name": "stderr",
     "output_type": "stream",
     "text": [
      "Could not find GLIMDA.\n"
     ]
    },
    {
     "name": "stdout",
     "output_type": "stream",
     "text": [
      "Warning: Possible chattering detected at t = 1.872000e+04 in state event(s): [1]\n",
      "Final Run Statistics: --- \n",
      "\n",
      " Number of steps                                 : 654\n",
      " Number of function evaluations                  : 1419\n",
      " Number of Jacobian evaluations                  : 139\n",
      " Number of function eval. due to Jacobian eval.  : 278\n",
      " Number of error test failures                   : 27\n",
      " Number of nonlinear iterations                  : 863\n",
      " Number of nonlinear convergence failures        : 0\n",
      " Number of state function evaluations            : 6912\n",
      " Number of state events                          : 139\n",
      "\n",
      "Solver options:\n",
      "\n",
      " Solver                   : CVode\n",
      " Linear multistep method  : BDF\n",
      " Nonlinear solver         : Newton\n",
      " Linear solver type       : DENSE\n",
      " Maximal order            : 5\n",
      " Tolerances (absolute)    : 1e-08\n",
      " Tolerances (relative)    : 1e-06\n",
      "\n",
      "Simulation interval    : 0.0 - 248400.0 seconds.\n",
      "Elapsed simulation time: 0.1855763060011668 seconds.\n"
     ]
    }
   ],
   "source": [
    "r1 = simulate_relativebeta()"
   ]
  },
  {
   "cell_type": "code",
   "execution_count": 10,
   "metadata": {},
   "outputs": [
    {
     "data": {
      "text/plain": [
       "array([     0.        ,    720.00000007,    720.00000007,   3600.        ,\n",
       "         3600.        ,   4320.00000043,   4320.00000043,   7200.        ,\n",
       "         7200.        ,   7920.00000079,   7920.00000079,  10800.        ,\n",
       "        10800.        ,  11520.00000115,  11520.00000115,  14400.        ,\n",
       "        14400.        ,  15120.00000151,  15120.00000151,  18000.        ,\n",
       "        18000.        ,  18720.00000187,  18720.00000187,  21600.        ,\n",
       "        21600.        ,  21607.96343146,  22320.00000223,  22320.00000223,\n",
       "        22327.9444656 ,  25200.        ,  25200.        ,  25207.86843934,\n",
       "        25920.00000259,  25920.00000259,  25927.8493977 ,  28800.        ,\n",
       "        28800.        ,  28807.77306341,  29520.00000295,  29520.00000295,\n",
       "        29527.75394443,  32400.        ,  32400.        ,  32407.67729576,\n",
       "        33120.00000331,  33120.00000331,  33127.65809783,  36000.        ,\n",
       "        36000.        ,  36007.58112824,  36720.00000367,  36720.00000367,\n",
       "        36727.56184968,  39600.        ,  39600.        ,  39607.48455233,\n",
       "        40320.00000403,  40320.00000403,  40327.46519141,  43200.        ,\n",
       "        43200.        ,  43207.38755923,  43920.00000439,  43920.00000439,\n",
       "        43927.36811414,  46800.        ,  46800.        ,  46807.29013976,\n",
       "        47520.00000475,  47520.00000475,  47527.27060862,  50400.        ,\n",
       "        50400.        ,  50407.19228439,  51120.00000511,  51120.00000511,\n",
       "        51127.17266525,  54000.        ,  54000.        ,  54007.09398318,\n",
       "        54720.00000547,  54720.00000547,  54727.074274  ,  57600.        ,\n",
       "        57600.        ,  57606.99522578,  58320.00000583,  58320.00000583,\n",
       "        58326.97542445,  61200.        ,  61200.        ,  61206.89600142,\n",
       "        61920.00000619,  61920.00000619,  61926.87610572,  64800.        ,\n",
       "        64800.        ,  64806.79629883,  65520.00000655,  65520.00000655,\n",
       "        65526.77630645,  68400.        ,  68400.        ,  68406.69610627,\n",
       "        69120.00000691,  69120.00000691,  69126.6760148 ,  72000.        ,\n",
       "        72000.        ,  72006.59541146,  72720.00000727,  72720.00000727,\n",
       "        72726.57521837,  75600.        ,  75600.        ,  75606.49420154,\n",
       "        76320.00000764,  76320.00000764,  76326.4739042 ,  79200.        ,\n",
       "        79200.        ,  79206.39246307,  79920.00000799,  79920.00000799,\n",
       "        79926.37205871,  82800.        ,  82800.        ,  82806.29018195,\n",
       "        83520.00000835,  83520.00000835,  83526.26966767,  86400.        ,\n",
       "        86400.        ,  86406.18734339,  87120.00000871,  87120.00000871,\n",
       "        87126.16671615,  90000.        ,  90000.        ,  90006.08393186,\n",
       "        90720.00000908,  90720.00000908,  90726.06318845,  93600.        ,\n",
       "        93600.        ,  93605.97993104,  94320.00000943,  94320.00000943,\n",
       "        94325.9590681 ,  97200.        ,  97200.        ,  97205.87532374,\n",
       "        97920.00000979,  97920.00000979,  97925.85433772, 100800.        ,\n",
       "       100800.        , 100805.77009186, 101520.00001016, 101520.00001016,\n",
       "       101525.74897902, 104400.        , 104400.        , 104405.66421628,\n",
       "       105120.00001052, 105120.00001052, 105125.64297268, 108000.        ,\n",
       "       108000.        , 108005.55767683, 108720.00001088, 108720.00001088,\n",
       "       108725.53629829, 111600.        , 111600.        , 111605.45045215,\n",
       "       112320.00001123, 112320.00001123, 112325.42893426, 115200.        ,\n",
       "       115200.        , 115205.34251964, 115920.00001159, 115920.00001159,\n",
       "       115925.3208577 , 118800.        , 118800.        , 118805.23385528,\n",
       "       119520.00001196, 119520.00001196, 119525.21204433, 122400.        ,\n",
       "       122400.        , 122405.12443357, 123120.00001232, 123120.00001232,\n",
       "       123125.1024683 , 126000.        , 126000.        , 126005.01422736,\n",
       "       126720.00001268, 126720.00001268, 126724.99210214, 129600.        ,\n",
       "       129600.        , 129604.90320769, 130320.00001304, 130320.00001304,\n",
       "       130324.88091649, 133200.        , 133200.        , 133204.79134362,\n",
       "       133920.00001339, 133920.00001339, 133924.76887999, 136800.        ,\n",
       "       136800.        , 136804.67860203, 137520.00001376, 137520.00001376,\n",
       "       137524.65595908, 140400.        , 140400.        , 140404.56494738,\n",
       "       141120.00001412, 141120.00001412, 141124.54211768, 144000.        ,\n",
       "       144000.        , 144004.45034144, 144720.00001447, 144720.00001447,\n",
       "       144724.42731701, 147600.        , 147600.        , 147604.33474304,\n",
       "       148320.00001483, 148320.00001483, 148324.31151524, 151200.        ,\n",
       "       151200.        , 151204.21810763, 151920.0000152 , 151920.0000152 ,\n",
       "       151924.19466713, 154800.        , 154800.        , 154804.10038698,\n",
       "       155520.00001556, 155520.00001556, 155524.07672363, 158400.        ,\n",
       "       158400.        , 158403.98152861, 159120.00001591, 159120.00001591,\n",
       "       159123.95763138, 162000.        , 162000.        , 162003.86147534,\n",
       "       162720.00001628, 162720.00001628, 162723.83733217, 165600.        ,\n",
       "       165600.        , 165603.74016457, 166320.00001663, 166320.00001663,\n",
       "       166323.71576221, 169200.        , 169200.        , 169203.61752753,\n",
       "       169920.000017  , 169920.000017  , 169923.59285143, 172800.        ,\n",
       "       172800.        , 172803.4934884 , 173520.00001735, 173520.00001735,\n",
       "       173523.46852244, 176400.        , 176400.        , 176403.36796315,\n",
       "       177120.00001772, 177120.00001772, 177123.34268943, 180000.00000001,\n",
       "       180000.00000001, 180000.000018  , 180000.000018  , 180000.91061103,\n",
       "       180001.82120406, 180004.30846763, 180006.7957312 , 180009.28299476,\n",
       "       180011.77025833, 180016.81938967, 180026.1000721 , 180044.28136339,\n",
       "       180062.46265468, 180080.64394597, 180108.51943861, 180136.39493126,\n",
       "       180164.27042391, 180192.14591655, 180234.52852581, 180276.91113506,\n",
       "       180319.29374432, 180361.67635357, 180435.74601391, 180509.81567425,\n",
       "       180583.88533459, 180657.95499493, 180720.00001808, 180720.00001808,\n",
       "       180722.08123641, 180724.16245475, 180729.8461454 , 180735.52983604,\n",
       "       180741.21352669, 180746.89721734, 180758.39666586, 180778.89663776,\n",
       "       180799.39660967, 180831.82489122, 180864.25317276, 180896.68145431,\n",
       "       180929.10973586, 181003.01230895, 181076.91488204, 181150.81745514,\n",
       "       181224.72002823, 181298.62260132, 181372.52517441, 181509.02961388,\n",
       "       181645.53405334, 181782.0384928 , 181918.54293227, 182055.04737173,\n",
       "       182191.5518112 , 182328.05625066, 182464.56069012, 182601.06512959,\n",
       "       182836.02649993, 183070.98787026, 183305.9492406 , 183540.91061094,\n",
       "       183600.        , 183600.        , 183602.96319445, 183605.9263889 ,\n",
       "       183614.02587257, 183622.12535624, 183630.22483991, 183638.32432358,\n",
       "       183654.96029069, 183687.0059962 , 183719.0517017 , 183751.09740721,\n",
       "       183783.14311272, 183854.45447754, 183925.76584237, 183997.07720719,\n",
       "       184068.38857202, 184139.69993685, 184211.01130167, 184320.00001843,\n",
       "       184320.00001843, 184323.08783405, 184326.17564966, 184334.56757131,\n",
       "       184342.95949296, 184351.35141461, 184359.74333626, 184377.18666771,\n",
       "       184412.34670745, 184447.50674719, 184482.66678694, 184517.82682668,\n",
       "       184593.44108761, 184669.05534853, 184744.66960946, 184820.28387039,\n",
       "       184895.89813132, 185018.62622086, 185141.3543104 , 185264.08239995,\n",
       "       185452.79781426, 185641.51322857, 185830.22864288, 186018.94405718,\n",
       "       186207.65947149, 186396.3748858 , 186585.09030011, 186773.80571442,\n",
       "       187058.3210974 , 187200.        , 187200.        , 187204.24171989,\n",
       "       187208.48343977, 187219.34336223, 187230.20328468, 187241.06320714,\n",
       "       187251.92312959, 187275.94690517, 187329.70355641, 187383.46020764,\n",
       "       187437.21685887, 187490.9735101 , 187560.67970972, 187630.38590933,\n",
       "       187700.09210895, 187807.77462821, 187915.45714747, 187920.0000188 ,\n",
       "       187920.0000188 , 187924.70414667, 187929.40827455, 187941.32824913,\n",
       "       187953.24822371, 187965.16819829, 187977.08817287, 188003.67760486,\n",
       "       188061.40648976, 188119.13537466, 188176.86425956, 188234.59314446,\n",
       "       188310.69975107, 188386.80635767, 188462.91296427, 188578.76184325,\n",
       "       188694.61072223, 188810.45960121, 188990.51206507, 189170.56452892,\n",
       "       189350.61699277, 189530.66945663, 189898.63888814, 190266.60831965,\n",
       "       190634.57775116, 190800.        , 190800.        , 190806.41413283,\n",
       "       190812.82826566, 190829.12097002, 190845.41367438, 190861.70637874,\n",
       "       190877.9990831 , 190913.37262835, 190979.62793223, 191045.88323612,\n",
       "       191112.13854   , 191178.39384388, 191330.86857079, 191483.34329769,\n",
       "       191520.00001915, 191520.00001915, 191526.63193179, 191533.26384443,\n",
       "       191550.30989246, 191567.35594048, 191584.4019885 , 191601.44803653,\n",
       "       191638.01626041, 191706.39653991, 191774.77681942, 191843.15709892,\n",
       "       191911.53737843, 192066.51218898, 192221.48699953, 192376.46181008,\n",
       "       192531.43662064, 192686.41143119, 192841.38624174, 193110.15321652,\n",
       "       193378.9201913 , 193647.68716608, 193916.45414086, 194334.72752659,\n",
       "       194400.        , 194400.        , 194407.4130979 , 194414.8261958 ,\n",
       "       194434.03963861, 194453.25308143, 194472.46652424, 194491.67996706,\n",
       "       194533.13041605, 194615.67010568, 194698.2097953 , 194780.74948493,\n",
       "       194863.28917456, 195031.70895077, 195120.00001951, 195120.00001951,\n",
       "       195127.74380656, 195135.48759361, 195155.34327126, 195175.19894892,\n",
       "       195195.05462657, 195214.91030423, 195258.32799693, 195346.55924697,\n",
       "       195434.79049701, 195523.02174705, 195611.25299709, 195785.78014615,\n",
       "       195960.30729522, 196134.83444428, 196309.36159334, 196483.88874241,\n",
       "       196658.41589147, 196966.91326675, 197275.41064202, 197583.9080173 ,\n",
       "       197892.40539257, 198000.        , 198000.        , 198010.14321541,\n",
       "       198020.28643081, 198044.66923182, 198069.05203284, 198093.43483385,\n",
       "       198131.38871544, 198198.36206749, 198304.58917356, 198410.81627962,\n",
       "       198517.04338568, 198623.27049174, 198720.00001988, 198720.00001988,\n",
       "       198731.08099078, 198742.16196167, 198768.31219375, 198794.46242583,\n",
       "       198820.61265791, 198861.95882639, 198935.73254179, 199009.5062572 ,\n",
       "       199083.27997261, 199214.60503719, 199345.93010176, 199477.25516634,\n",
       "       199608.58023092, 199879.54668014, 200150.51312937, 200421.47957859,\n",
       "       200692.44602781, 201117.46587757, 201542.48572732, 201600.        ,\n",
       "       201600.        , 201615.80093261, 201631.60186523, 201666.78022298,\n",
       "       201701.95858072, 201737.13693847, 201794.88950179, 201894.01895458,\n",
       "       201993.14840737, 202092.27786016, 202268.76600764, 202320.00002023,\n",
       "       202320.00002023, 202336.83733997, 202353.67465971, 202391.02504237,\n",
       "       202428.37542504, 202465.72580771, 202526.84326981, 202629.71996802,\n",
       "       202732.59666624, 202835.47336445, 203022.76011915, 203210.04687386,\n",
       "       203397.33362856, 203584.62038326, 203898.06471425, 204211.50904524,\n",
       "       204524.95337623, 204838.39770723, 205151.84203822, 205200.        ,\n",
       "       205200.        , 205219.48485348, 205238.96970696, 205283.3476244 ,\n",
       "       205327.72554185, 205372.10345929, 205442.96426315, 205561.83507947,\n",
       "       205680.70589579, 205799.57671211, 205920.0000206 , 205920.0000206 ,\n",
       "       205940.12344289, 205960.24686518, 206006.34972622, 206052.45258727,\n",
       "       206098.55544832, 206172.11037125, 206296.97779647, 206421.84522169,\n",
       "       206546.71264691, 206774.31904052, 207001.92543412, 207229.53182773,\n",
       "       207457.13822133, 207811.57684779, 208166.01547424, 208520.4541007 ,\n",
       "       208800.        , 208800.        , 208824.17188256, 208848.34376511,\n",
       "       208902.80415095, 208957.26453678, 209011.72492261, 209101.482424  ,\n",
       "       209265.54914206, 209429.61586011, 209520.00002096, 209520.00002096,\n",
       "       209545.71946382, 209571.43890668, 209628.69612353, 209685.95334037,\n",
       "       209743.21055722, 209839.01485917, 210017.6326643 , 210196.25046943,\n",
       "       210374.86827456, 210657.48878944, 210940.10930433, 211222.72981922,\n",
       "       211505.35033411, 211787.97084899, 212070.59136388, 212353.21187877,\n",
       "       212400.        , 212400.        , 212435.08827023, 212470.17654046,\n",
       "       212543.83557488, 212617.49460931, 212691.15364374, 212823.47941657,\n",
       "       213056.51367795, 213120.00002132, 213120.00002132, 213158.33382328,\n",
       "       213196.66762525, 213275.94190851, 213355.21619177, 213434.49047503,\n",
       "       213578.94023311, 213818.7331158 , 214058.52599848, 214298.31888117,\n",
       "       214686.83827279, 215075.35766441, 215463.87705602, 215852.39644764,\n",
       "       216000.        , 216000.        , 216052.12385787, 216104.24771573,\n",
       "       216208.02747425, 216311.80723277, 216415.58699128, 216602.00730927,\n",
       "       216720.00002167, 216720.00002167, 216774.69165238, 216829.38328309,\n",
       "       216938.43688534, 217047.49048758, 217156.54408982, 217350.16421368,\n",
       "       217543.78433753, 217840.48814164, 218137.19194574, 218433.89574985,\n",
       "       218936.15897106, 219438.42219227, 219600.        , 219600.        ,\n",
       "       219662.45346309, 219724.90692617, 219852.94817619, 219980.9894262 ,\n",
       "       220109.03067622, 220320.00002204, 220320.00002204, 220384.83408998,\n",
       "       220449.66815793, 220582.79708595, 220715.92601396, 220849.05494198,\n",
       "       221087.82458144, 221471.53316008, 221855.24173872, 222238.95031736,\n",
       "       222622.658896  , 223006.36747465, 223200.        , 223200.        ,\n",
       "       223280.17442236, 223360.34884472, 223646.13146944, 223920.00002239,\n",
       "       223920.00002239, 224006.06266416, 224092.12530593, 224384.88489574,\n",
       "       224677.64448554, 224970.40407535, 225263.16366516, 225555.92325497,\n",
       "       226037.03783478, 226518.1524146 , 226800.        , 226800.        ,\n",
       "       226920.49009523, 227040.98019046, 227377.27685139, 227520.00002276,\n",
       "       227520.00002276, 227651.52928639, 227783.05855003, 228135.60977338,\n",
       "       228488.16099673, 228840.71222008, 229193.26344343, 229545.81466678,\n",
       "       230196.89137276, 230400.        , 230400.        , 230569.4266734 ,\n",
       "       230738.8533468 , 231120.00002312, 231120.00002312, 231295.74522864,\n",
       "       231471.49043416, 231941.00563535, 232410.52083653, 232880.03603772,\n",
       "       233349.55123891, 233819.06644009, 234000.        , 234000.        ,\n",
       "       234201.01764148, 234402.03528296, 234720.00002348, 234720.00002348,\n",
       "       234930.48234412, 235140.96466477, 235716.97707619, 236292.98948761,\n",
       "       236869.00189904, 237600.        , 237600.        , 237868.66377881,\n",
       "       238137.32755762, 238320.00002384, 238320.00002384, 238610.5326539 ,\n",
       "       238901.06528397, 239554.31690463, 240207.56852529, 240860.82014595,\n",
       "       241200.        , 241200.        , 241200.59891795, 241535.3706669 ,\n",
       "       241920.0000242 , 241920.0000242 , 241920.55343701, 242283.66640552,\n",
       "       243160.8529343 , 244038.03946307, 244800.        , 244800.        ,\n",
       "       244800.35611875, 245247.82954421, 245520.00002456, 245520.00002456,\n",
       "       245520.30126434, 245983.64185766, 247157.62451291, 248331.60716815,\n",
       "       248400.        , 248400.        ])"
      ]
     },
     "execution_count": 10,
     "metadata": {},
     "output_type": "execute_result"
    }
   ],
   "source": [
    "r1['time']"
   ]
  },
  {
   "cell_type": "markdown",
   "metadata": {},
   "source": [
    "Now define a function to plot a graph from simulation the `%matplotlib inline%` creates noninteractive image:"
   ]
  },
  {
   "cell_type": "code",
   "execution_count": 11,
   "metadata": {},
   "outputs": [],
   "source": [
    "def plot(x,y,z=None):\n",
    "    %matplotlib inline\n",
    "    import matplotlib.pyplot as plt\n",
    "    fig = plt.figure()\n",
    "    plt.plot(x,y,'r')\n",
    "    if z is not None:\n",
    "        plt.plot(x,z,'b')\n",
    "    plt.show()\n"
   ]
  },
  {
   "cell_type": "code",
   "execution_count": 12,
   "metadata": {},
   "outputs": [
    {
     "data": {
      "image/png": "[encoded data removed]",
      "text/plain": [
       "<Figure size 432x288 with 1 Axes>"
      ]
     },
     "metadata": {
      "needs_background": "light"
     },
     "output_type": "display_data"
    }
   ],
   "source": [
    "plot(r1['time'],r1['glucoseInsulinRegulation.out2'])"
   ]
  },
  {
   "cell_type": "code",
   "execution_count": null,
   "metadata": {},
   "outputs": [],
   "source": []
  },
  {
   "cell_type": "code",
   "execution_count": 13,
   "metadata": {},
   "outputs": [
    {
     "name": "stdout",
     "output_type": "stream",
     "text": [
      "Warning: Possible chattering detected at t = 8.280000e+04 in state event(s): [2 3]\n",
      "Final Run Statistics: --- \n",
      "\n",
      " Number of steps                                 : 886\n",
      " Number of function evaluations                  : 1811\n",
      " Number of Jacobian evaluations                  : 139\n",
      " Number of function eval. due to Jacobian eval.  : 278\n",
      " Number of error test failures                   : 45\n",
      " Number of nonlinear iterations                  : 1255\n",
      " Number of nonlinear convergence failures        : 0\n",
      " Number of state function evaluations            : 6929\n",
      " Number of state events                          : 139\n",
      "\n",
      "Solver options:\n",
      "\n",
      " Solver                   : CVode\n",
      " Linear multistep method  : BDF\n",
      " Nonlinear solver         : Newton\n",
      " Linear solver type       : DENSE\n",
      " Maximal order            : 5\n",
      " Tolerances (absolute)    : 1e-08\n",
      " Tolerances (relative)    : 1e-06\n",
      "\n",
      "Simulation interval    : 0.0 - 248400.0 seconds.\n",
      "Elapsed simulation time: 0.23881978999997955 seconds.\n"
     ]
    },
    {
     "data": {
      "image/png": "[encoded data removed]",
      "text/plain": [
       "<Figure size 432x288 with 1 Axes>"
      ]
     },
     "metadata": {
      "needs_background": "light"
     },
     "output_type": "display_data"
    }
   ],
   "source": [
    "# Task 2.2 simulate with relative beta to 50% of norm and show results\n",
    "r2 = simulate_relativebeta(0.5)\n",
    "plot(r2['time'],r2['glucoseInsulinRegulation.out2'])"
   ]
  },
  {
   "cell_type": "markdown",
   "metadata": {},
   "source": [
    "## 3. Glucose tolerance test data\n",
    "\n",
    "Glucose tolerance test  is a medical test in which glucose is given and blood samples taken afterward to determine how quickly it is cleared from the blood. The test is usually used to test for diabetes, insulin resistance, impaired beta cell function.[Wikipedia][1]\n",
    "\n",
    "The intravenous glucose tolerance test (GTT) aids in evaluating the time to onset of diabetes among persons expressing anti-islet autoantibodies.[ScienceDirect][2]\n",
    "\n",
    "[1]: https://en.wikipedia.org/wiki/Glucose_tolerance_test\n",
    "[2]: https://www.sciencedirect.com/topics/medicine-and-dentistry/intravenous-glucose-tolerance-test\n"
   ]
  },
  {
   "cell_type": "markdown",
   "metadata": {},
   "source": [
    "Import the GTT data containing concentration of insulin measured Data were taken for 2 hours every 12 minutes. The intravenous infusion of glucose starts at time 12 minutes (720s) with glucose infusion rate 27.78 mg/s for 12 minutes. "
   ]
  },
  {
   "cell_type": "code",
   "execution_count": 14,
   "metadata": {},
   "outputs": [],
   "source": [
    "import numpy\n",
    "my_data_raw = numpy.genfromtxt('PatientInsulinConcentration.csv',delimiter=',')\n"
   ]
  },
  {
   "cell_type": "markdown",
   "metadata": {},
   "source": [
    "See what is inside"
   ]
  },
  {
   "cell_type": "code",
   "execution_count": 15,
   "metadata": {},
   "outputs": [
    {
     "data": {
      "text/plain": [
       "array([[      nan,       nan],\n",
       "       [0.000e+00, 2.516e-02],\n",
       "       [7.200e+02, 2.532e-02],\n",
       "       [1.440e+03, 2.729e-02],\n",
       "       [2.160e+03, 3.023e-02],\n",
       "       [2.880e+03, 3.241e-02],\n",
       "       [3.600e+03, 3.461e-02],\n",
       "       [4.320e+03, 3.625e-02],\n",
       "       [5.040e+03, 3.737e-02],\n",
       "       [5.760e+03, 3.780e-02],\n",
       "       [6.480e+03, 3.790e-02],\n",
       "       [7.200e+03, 3.814e-02],\n",
       "       [7.920e+03, 3.820e-02],\n",
       "       [8.640e+03, 3.745e-02]])"
      ]
     },
     "execution_count": 15,
     "metadata": {},
     "output_type": "execute_result"
    }
   ],
   "source": [
    "my_data_raw"
   ]
  },
  {
   "cell_type": "markdown",
   "metadata": {},
   "source": [
    "First column contains time, second column contains concentration. In order to have the same shape as simulation data we need to delete first row with nan and transpose i.e. have rows instead of columns. see https://docs.scipy.org/doc/numpy/reference/generated/numpy.delete.html"
   ]
  },
  {
   "cell_type": "code",
   "execution_count": 16,
   "metadata": {},
   "outputs": [],
   "source": [
    "my_data = numpy.delete(my_data_raw,0,0) # 3.1 delete first row with nan \n",
    "my_data = numpy.transpose(my_data) # transpose columns to rows\n"
   ]
  },
  {
   "cell_type": "code",
   "execution_count": 17,
   "metadata": {},
   "outputs": [
    {
     "data": {
      "text/plain": [
       "array([[0.000e+00, 7.200e+02, 1.440e+03, 2.160e+03, 2.880e+03, 3.600e+03,\n",
       "        4.320e+03, 5.040e+03, 5.760e+03, 6.480e+03, 7.200e+03, 7.920e+03,\n",
       "        8.640e+03],\n",
       "       [2.516e-02, 2.532e-02, 2.729e-02, 3.023e-02, 3.241e-02, 3.461e-02,\n",
       "        3.625e-02, 3.737e-02, 3.780e-02, 3.790e-02, 3.814e-02, 3.820e-02,\n",
       "        3.745e-02]])"
      ]
     },
     "execution_count": 17,
     "metadata": {},
     "output_type": "execute_result"
    }
   ],
   "source": [
    "my_data"
   ]
  },
  {
   "cell_type": "code",
   "execution_count": 18,
   "metadata": {},
   "outputs": [
    {
     "data": {
      "image/png": "[encoded data removed]",
      "text/plain": [
       "<Figure size 432x288 with 1 Axes>"
      ]
     },
     "metadata": {
      "needs_background": "light"
     },
     "output_type": "display_data"
    }
   ],
   "source": [
    "plot(my_data[0],my_data[1]) # task 3.2 plot time on x axis and insulin conccentration on y axis"
   ]
  },
  {
   "cell_type": "markdown",
   "metadata": {},
   "source": [
    "## 4. Calibrate model with data \n",
    "\n",
    "In order to compare simulation model with data we need to calibrat first the coresponding data.\n",
    "\n",
    "  * 4.1 find appropriate time interval - recalculate number of simulation steps equally spread among simulation time 3 days\n",
    "  * 4.2 find corresponding area to compare with data\n"
   ]
  },
  {
   "cell_type": "markdown",
   "metadata": {},
   "source": [
    "### Set simulation interval to be equal to experiment interval"
   ]
  },
  {
   "cell_type": "code",
   "execution_count": 19,
   "metadata": {},
   "outputs": [
    {
     "data": {
      "text/plain": [
       "360"
      ]
     },
     "execution_count": 19,
     "metadata": {},
     "output_type": "execute_result"
    }
   ],
   "source": [
    "simulation_time = 3*24*60*60 # Task 4.1 3 days - model simulation will get into steady state during this time\n",
    "sample_duration = 12*60 # 12 minutes - to be equal to sample interval of experiment data\n",
    "number_of_steps = simulation_time // sample_duration;\n",
    "number_of_steps\n",
    "\n",
    "\n"
   ]
  },
  {
   "cell_type": "code",
   "execution_count": 20,
   "metadata": {},
   "outputs": [],
   "source": [
    "opts[\"ncp\"] = number_of_steps # we set it to simulation options"
   ]
  },
  {
   "cell_type": "markdown",
   "metadata": {},
   "source": [
    "simulate with options"
   ]
  },
  {
   "cell_type": "code",
   "execution_count": 21,
   "metadata": {},
   "outputs": [
    {
     "name": "stdout",
     "output_type": "stream",
     "text": [
      "Warning: Possible chattering detected at t = 1.872000e+04 in state event(s): [1]\n",
      "Final Run Statistics: --- \n",
      "\n",
      " Number of steps                                 : 654\n",
      " Number of function evaluations                  : 1419\n",
      " Number of Jacobian evaluations                  : 139\n",
      " Number of function eval. due to Jacobian eval.  : 278\n",
      " Number of error test failures                   : 27\n",
      " Number of nonlinear iterations                  : 863\n",
      " Number of nonlinear convergence failures        : 0\n",
      " Number of state function evaluations            : 6912\n",
      " Number of state events                          : 139\n",
      "\n",
      "Solver options:\n",
      "\n",
      " Solver                   : CVode\n",
      " Linear multistep method  : BDF\n",
      " Nonlinear solver         : Newton\n",
      " Linear solver type       : DENSE\n",
      " Maximal order            : 5\n",
      " Tolerances (absolute)    : 1e-08\n",
      " Tolerances (relative)    : 1e-06\n",
      "\n",
      "Simulation interval    : 0.0 - 248400.0 seconds.\n",
      "Elapsed simulation time: 0.23283300699768006 seconds.\n"
     ]
    }
   ],
   "source": [
    "r2 = simulate_relativebeta(sopts=opts)"
   ]
  },
  {
   "cell_type": "code",
   "execution_count": 22,
   "metadata": {},
   "outputs": [
    {
     "data": {
      "text/plain": [
       "638"
      ]
     },
     "execution_count": 22,
     "metadata": {},
     "output_type": "execute_result"
    }
   ],
   "source": [
    "r2['time'].size # see the size of row - number of steps being taken during simulation\n"
   ]
  },
  {
   "cell_type": "markdown",
   "metadata": {},
   "source": [
    "If this differs from the desired 360 + 1 initial step - then numerical solver probably stores event points. Disable storing extra event points [more info in jmodelica sources][1]\n",
    "\n",
    "[1]: https://jmodelica.org/pyfmi/_modules/pyfmi/fmi_algorithm_drivers.html"
   ]
  },
  {
   "cell_type": "code",
   "execution_count": 23,
   "metadata": {},
   "outputs": [
    {
     "name": "stdout",
     "output_type": "stream",
     "text": [
      "Warning: Possible chattering detected at t = 1.872000e+04 in state event(s): [1]\n",
      "Final Run Statistics: --- \n",
      "\n",
      " Number of steps                                 : 654\n",
      " Number of function evaluations                  : 1419\n",
      " Number of Jacobian evaluations                  : 139\n",
      " Number of function eval. due to Jacobian eval.  : 278\n",
      " Number of error test failures                   : 27\n",
      " Number of nonlinear iterations                  : 863\n",
      " Number of nonlinear convergence failures        : 0\n",
      " Number of state function evaluations            : 6912\n",
      " Number of state events                          : 139\n",
      "\n",
      "Solver options:\n",
      "\n",
      " Solver                   : CVode\n",
      " Linear multistep method  : BDF\n",
      " Nonlinear solver         : Newton\n",
      " Linear solver type       : DENSE\n",
      " Maximal order            : 5\n",
      " Tolerances (absolute)    : 1e-08\n",
      " Tolerances (relative)    : 1e-06\n",
      "\n",
      "Simulation interval    : 0.0 - 248400.0 seconds.\n",
      "Elapsed simulation time: 0.2002435290014546 seconds.\n"
     ]
    }
   ],
   "source": [
    "opts[\"CVode_options\"][\"store_event_points\"] = False # by default it is true and \n",
    "# CVODE solver will create additional event points during simulation to the requested ncp points\n",
    "r3 = simulate_relativebeta()"
   ]
  },
  {
   "cell_type": "code",
   "execution_count": 24,
   "metadata": {},
   "outputs": [
    {
     "data": {
      "text/plain": [
       "361"
      ]
     },
     "execution_count": 24,
     "metadata": {},
     "output_type": "execute_result"
    }
   ],
   "source": [
    "r3['time'].size"
   ]
  },
  {
   "cell_type": "markdown",
   "metadata": {},
   "source": [
    "Now the step of simulation agrees of experiment."
   ]
  },
  {
   "cell_type": "code",
   "execution_count": 25,
   "metadata": {},
   "outputs": [
    {
     "data": {
      "text/plain": [
       "array([     0.,    690.,   1380.,   2070.,   2760.,   3450.,   4140.,\n",
       "         4830.,   5520.,   6210.,   6900.,   7590.,   8280.,   8970.,\n",
       "         9660.,  10350.,  11040.,  11730.,  12420.,  13110.,  13800.,\n",
       "        14490.,  15180.,  15870.,  16560.,  17250.,  17940.,  18630.,\n",
       "        19320.,  20010.,  20700.,  21390.,  22080.,  22770.,  23460.,\n",
       "        24150.,  24840.,  25530.,  26220.,  26910.,  27600.,  28290.,\n",
       "        28980.,  29670.,  30360.,  31050.,  31740.,  32430.,  33120.,\n",
       "        33810.,  34500.,  35190.,  35880.,  36570.,  37260.,  37950.,\n",
       "        38640.,  39330.,  40020.,  40710.,  41400.,  42090.,  42780.,\n",
       "        43470.,  44160.,  44850.,  45540.,  46230.,  46920.,  47610.,\n",
       "        48300.,  48990.,  49680.,  50370.,  51060.,  51750.,  52440.,\n",
       "        53130.,  53820.,  54510.,  55200.,  55890.,  56580.,  57270.,\n",
       "        57960.,  58650.,  59340.,  60030.,  60720.,  61410.,  62100.,\n",
       "        62790.,  63480.,  64170.,  64860.,  65550.,  66240.,  66930.,\n",
       "        67620.,  68310.,  69000.,  69690.,  70380.,  71070.,  71760.,\n",
       "        72450.,  73140.,  73830.,  74520.,  75210.,  75900.,  76590.,\n",
       "        77280.,  77970.,  78660.,  79350.,  80040.,  80730.,  81420.,\n",
       "        82110.,  82800.,  83490.,  84180.,  84870.,  85560.,  86250.,\n",
       "        86940.,  87630.,  88320.,  89010.,  89700.,  90390.,  91080.,\n",
       "        91770.,  92460.,  93150.,  93840.,  94530.,  95220.,  95910.,\n",
       "        96600.,  97290.,  97980.,  98670.,  99360., 100050., 100740.,\n",
       "       101430., 102120., 102810., 103500., 104190., 104880., 105570.,\n",
       "       106260., 106950., 107640., 108330., 109020., 109710., 110400.,\n",
       "       111090., 111780., 112470., 113160., 113850., 114540., 115230.,\n",
       "       115920., 116610., 117300., 117990., 118680., 119370., 120060.,\n",
       "       120750., 121440., 122130., 122820., 123510., 124200., 124890.,\n",
       "       125580., 126270., 126960., 127650., 128340., 129030., 129720.,\n",
       "       130410., 131100., 131790., 132480., 133170., 133860., 134550.,\n",
       "       135240., 135930., 136620., 137310., 138000., 138690., 139380.,\n",
       "       140070., 140760., 141450., 142140., 142830., 143520., 144210.,\n",
       "       144900., 145590., 146280., 146970., 147660., 148350., 149040.,\n",
       "       149730., 150420., 151110., 151800., 152490., 153180., 153870.,\n",
       "       154560., 155250., 155940., 156630., 157320., 158010., 158700.,\n",
       "       159390., 160080., 160770., 161460., 162150., 162840., 163530.,\n",
       "       164220., 164910., 165600., 166290., 166980., 167670., 168360.,\n",
       "       169050., 169740., 170430., 171120., 171810., 172500., 173190.,\n",
       "       173880., 174570., 175260., 175950., 176640., 177330., 178020.,\n",
       "       178710., 179400., 180090., 180780., 181470., 182160., 182850.,\n",
       "       183540., 184230., 184920., 185610., 186300., 186990., 187680.,\n",
       "       188370., 189060., 189750., 190440., 191130., 191820., 192510.,\n",
       "       193200., 193890., 194580., 195270., 195960., 196650., 197340.,\n",
       "       198030., 198720., 199410., 200100., 200790., 201480., 202170.,\n",
       "       202860., 203550., 204240., 204930., 205620., 206310., 207000.,\n",
       "       207690., 208380., 209070., 209760., 210450., 211140., 211830.,\n",
       "       212520., 213210., 213900., 214590., 215280., 215970., 216660.,\n",
       "       217350., 218040., 218730., 219420., 220110., 220800., 221490.,\n",
       "       222180., 222870., 223560., 224250., 224940., 225630., 226320.,\n",
       "       227010., 227700., 228390., 229080., 229770., 230460., 231150.,\n",
       "       231840., 232530., 233220., 233910., 234600., 235290., 235980.,\n",
       "       236670., 237360., 238050., 238740., 239430., 240120., 240810.,\n",
       "       241500., 242190., 242880., 243570., 244260., 244950., 245640.,\n",
       "       246330., 247020., 247710., 248400.])"
      ]
     },
     "execution_count": 25,
     "metadata": {},
     "output_type": "execute_result"
    }
   ],
   "source": [
    "r3['time']"
   ]
  },
  {
   "cell_type": "markdown",
   "metadata": {},
   "source": [
    "### select coresponding simulation part"
   ]
  },
  {
   "cell_type": "code",
   "execution_count": 26,
   "metadata": {},
   "outputs": [
    {
     "data": {
      "text/plain": [
       "240"
      ]
     },
     "execution_count": 26,
     "metadata": {},
     "output_type": "execute_result"
    }
   ],
   "source": [
    "# simulation infusion is made sometime at day 2, count index at day 2\n",
    "index = 2*24*60*60 // 720; # task 4.2 // is integer division\n",
    "index"
   ]
  },
  {
   "cell_type": "code",
   "execution_count": 27,
   "metadata": {},
   "outputs": [],
   "source": [
    "# how many samples we need to compare? size of sample data"
   ]
  },
  {
   "cell_type": "code",
   "execution_count": 28,
   "metadata": {},
   "outputs": [
    {
     "data": {
      "text/plain": [
       "13"
      ]
     },
     "execution_count": 28,
     "metadata": {},
     "output_type": "execute_result"
    }
   ],
   "source": [
    "sample_size = my_data[0].size\n",
    "sample_size\n"
   ]
  },
  {
   "cell_type": "markdown",
   "metadata": {},
   "source": [
    "see when the infusion is really made"
   ]
  },
  {
   "cell_type": "code",
   "execution_count": 29,
   "metadata": {},
   "outputs": [
    {
     "data": {
      "text/plain": [
       "array([0., 0., 0., 0., 0., 0., 0., 0., 0., 0., 0., 0., 0.])"
      ]
     },
     "execution_count": 29,
     "metadata": {},
     "output_type": "execute_result"
    }
   ],
   "source": [
    "r3['glucoseInsulinRegulation.in1'][index:index+sample_size]"
   ]
  },
  {
   "cell_type": "markdown",
   "metadata": {},
   "source": [
    "Thus we need to increase index by 9."
   ]
  },
  {
   "cell_type": "code",
   "execution_count": 30,
   "metadata": {},
   "outputs": [
    {
     "name": "stdout",
     "output_type": "stream",
     "text": [
      "240\n",
      "[ 0.         27.77777778  0.          0.          0.          0.\n",
      "  0.          0.          0.          0.          0.          0.\n",
      "  0.        ]\n",
      "[0.05670923 0.05690588 0.07023502 0.08818984 0.10048996 0.10779579\n",
      " 0.11101829 0.11110751 0.10892748 0.10520416 0.10051773 0.09531353\n",
      " 0.08992475]\n"
     ]
    }
   ],
   "source": [
    "index2 = index + 20\n",
    "print(index)\n",
    "print(r3['glucoseInsulinRegulation.in1'][index2:index2+sample_size])\n",
    "print(r3['glucoseInsulinRegulation.out2'][index2:index2+sample_size])"
   ]
  },
  {
   "cell_type": "code",
   "execution_count": 31,
   "metadata": {},
   "outputs": [
    {
     "data": {
      "text/plain": [
       "array([0.02516, 0.02532, 0.02729, 0.03023, 0.03241, 0.03461, 0.03625,\n",
       "       0.03737, 0.0378 , 0.0379 , 0.03814, 0.0382 , 0.03745])"
      ]
     },
     "execution_count": 31,
     "metadata": {},
     "output_type": "execute_result"
    }
   ],
   "source": [
    "my_data[1]"
   ]
  },
  {
   "cell_type": "code",
   "execution_count": 32,
   "metadata": {},
   "outputs": [
    {
     "name": "stdout",
     "output_type": "stream",
     "text": [
      "Number of steps to simulate model calibrated to experiment data: 360\n",
      "Index of simulation data coresponding to experiment data: 260\n",
      "Number of samples to be compared: 13\n"
     ]
    }
   ],
   "source": [
    "print(\"Number of steps to simulate model calibrated to experiment data:\",number_of_steps)\n",
    "print(\"Index of simulation data coresponding to experiment data:\",index2)\n",
    "print(\"Number of samples to be compared:\",sample_size)"
   ]
  },
  {
   "cell_type": "markdown",
   "metadata": {},
   "source": [
    "## 5. Compare data and simulation\n",
    "\n",
    "We define function `compareshow` which will simulate the model with desired parameter value and creates a chart comparing the insulin concentration from model simulation with experimental data"
   ]
  },
  {
   "cell_type": "code",
   "execution_count": 33,
   "metadata": {},
   "outputs": [],
   "source": [
    "def compareshow(relbeta,comp_index=index2,comp_size=sample_size,data=my_data):\n",
    "    # simulate with parameter \n",
    "    res = simulate_relativebeta(relbeta) # task 5.1 which argument to be passed here\n",
    "    # get the times on the interval to be compared\n",
    "    times = res['time'][comp_index:comp_index+comp_size]\n",
    "    # get subset of data on the interval to be compared\n",
    "    simdata = res['glucoseInsulinRegulation.out2'][comp_index:comp_index+comp_size]\n",
    "    # set matplotlib to generate inline graphs other options can be 'notebook' etc.\n",
    "    %matplotlib inline\n",
    "    import matplotlib.pyplot as plt\n",
    "    fig = plt.figure()\n",
    "    plt.plot(times,simdata,'b', label='simulated data for '+str(relbeta))\n",
    "    plt.plot(times,data[1],'r--', label='experimental data')\n",
    "    plt.legend(loc='lower right')\n",
    "    plt.show()\n",
    "    # task 5.1a - add optional parameter which will simulate in other relbeta values and plot additional chart\n",
    "    # thus having 3-4 curves in  chart"
   ]
  },
  {
   "cell_type": "code",
   "execution_count": 37,
   "metadata": {},
   "outputs": [
    {
     "name": "stdout",
     "output_type": "stream",
     "text": [
      "Warning: Possible chattering detected at t = 8.280000e+04 in state event(s): [2 3]\n",
      "Final Run Statistics: --- \n",
      "\n",
      " Number of steps                                 : 884\n",
      " Number of function evaluations                  : 1815\n",
      " Number of Jacobian evaluations                  : 139\n",
      " Number of function eval. due to Jacobian eval.  : 278\n",
      " Number of error test failures                   : 46\n",
      " Number of nonlinear iterations                  : 1259\n",
      " Number of nonlinear convergence failures        : 0\n",
      " Number of state function evaluations            : 6901\n",
      " Number of state events                          : 139\n",
      "\n",
      "Solver options:\n",
      "\n",
      " Solver                   : CVode\n",
      " Linear multistep method  : BDF\n",
      " Nonlinear solver         : Newton\n",
      " Linear solver type       : DENSE\n",
      " Maximal order            : 5\n",
      " Tolerances (absolute)    : 1e-08\n",
      " Tolerances (relative)    : 1e-06\n",
      "\n",
      "Simulation interval    : 0.0 - 248400.0 seconds.\n",
      "Elapsed simulation time: 0.20086388799973065 seconds.\n"
     ]
    },
    {
     "data": {
      "image/png": "[encoded data removed]",
      "text/plain": [
       "<Figure size 432x288 with 1 Axes>"
      ]
     },
     "metadata": {
      "needs_background": "light"
     },
     "output_type": "display_data"
    }
   ],
   "source": [
    "compareshow(0.46)"
   ]
  },
  {
   "cell_type": "code",
   "execution_count": 37,
   "metadata": {},
   "outputs": [
    {
     "name": "stdout",
     "output_type": "stream",
     "text": [
      "Warning: Possible chattering detected at t = 9.360000e+04 in state event(s): [2 3]\n",
      "Final Run Statistics: --- \n",
      "\n",
      " Number of steps                                 : 926\n",
      " Number of function evaluations                  : 1926\n",
      " Number of Jacobian evaluations                  : 139\n",
      " Number of function eval. due to Jacobian eval.  : 278\n",
      " Number of error test failures                   : 63\n",
      " Number of nonlinear iterations                  : 1370\n",
      " Number of nonlinear convergence failures        : 0\n",
      " Number of state function evaluations            : 6885\n",
      " Number of state events                          : 139\n",
      "\n",
      "Solver options:\n",
      "\n",
      " Solver                   : CVode\n",
      " Linear multistep method  : BDF\n",
      " Nonlinear solver         : Newton\n",
      " Linear solver type       : DENSE\n",
      " Maximal order            : 5\n",
      " Tolerances (absolute)    : 1e-08\n",
      " Tolerances (relative)    : 1e-06\n",
      "\n",
      "Simulation interval    : 0.0 - 248400.0 seconds.\n",
      "Elapsed simulation time: 0.29079792399988946 seconds.\n"
     ]
    },
    {
     "data": {
      "image/png": "[encoded data removed]",
      "text/plain": [
       "<Figure size 432x288 with 1 Axes>"
      ]
     },
     "metadata": {
      "needs_background": "light"
     },
     "output_type": "display_data"
    }
   ],
   "source": [
    "#5.2 task try to compare with simulation parameter to 120%, 50%, 20%, 5%, 1% \n",
    "compareshow(0.2)"
   ]
  },
  {
   "cell_type": "markdown",
   "metadata": {},
   "source": [
    "## 6 Parameter sweep model/experiment comparison\n",
    "\n",
    "In this secion we will sweep parameter over some range and compute objective function $ y=\\sum_{i=1}^n (s_i - d_i)^2 $\n",
    "\n"
   ]
  },
  {
   "cell_type": "code",
   "execution_count": 39,
   "metadata": {},
   "outputs": [],
   "source": [
    "def my_diff(arr1,arr2):\n",
    "    sum = 0\n",
    "    for i in range(0,arr1.size):\n",
    "        sum+=(arr2[i]-arr1[i])**2 #task 6.2 - place how to compute difference as per equation above\n",
    "    return sum\n",
    "            "
   ]
  },
  {
   "cell_type": "markdown",
   "metadata": {},
   "source": [
    "Test the implementation of my_diff function with test bellow. The ressult should be 2."
   ]
  },
  {
   "cell_type": "code",
   "execution_count": 40,
   "metadata": {},
   "outputs": [
    {
     "name": "stdout",
     "output_type": "stream",
     "text": [
      "2\n",
      "You can continue\n"
     ]
    }
   ],
   "source": [
    "arr1 = numpy.array([1,1,1,1,1,1,1,1])\n",
    "arr2 = numpy.array([1,1,1,1,2,1,1,2])\n",
    "arr3 = my_diff(arr1,arr2)\n",
    "print(arr3) # should output 2\n",
    "if (arr3 == 2): \n",
    "    print('You can continue')\n",
    "else:\n",
    "    print('Wrong implementation of my_diff. Repair it!')"
   ]
  },
  {
   "cell_type": "markdown",
   "metadata": {},
   "source": [
    "Now we define `sweep_parameter` function which will call simulation with different parameters and sum the difference."
   ]
  },
  {
   "cell_type": "code",
   "execution_count": 41,
   "metadata": {},
   "outputs": [],
   "source": [
    "def sweep_parameter(min,max,step,data=my_data):\n",
    "    # returns array of tuple - first is parameter value, second is distance from experiment data\n",
    "    import numpy\n",
    "    diffs = []\n",
    "    for x in numpy.arange(min,max,step):\n",
    "        r = simulate_relativebeta(x)\n",
    "        rsample = r['glucoseInsulinRegulation.out2'][index2:index2+sample_size]\n",
    "        sum = my_diff(rsample,data[1])        \n",
    "        diffs.append([x,sum])\n",
    "    return diffs"
   ]
  },
  {
   "cell_type": "code",
   "execution_count": 42,
   "metadata": {},
   "outputs": [
    {
     "name": "stdout",
     "output_type": "stream",
     "text": [
      "Warning: Possible chattering detected at t = 1.008000e+05 in state event(s): [2 3]\n",
      "Final Run Statistics: --- \n",
      "\n",
      " Number of steps                                 : 958\n",
      " Number of function evaluations                  : 1983\n",
      " Number of Jacobian evaluations                  : 139\n",
      " Number of function eval. due to Jacobian eval.  : 278\n",
      " Number of error test failures                   : 72\n",
      " Number of nonlinear iterations                  : 1427\n",
      " Number of nonlinear convergence failures        : 0\n",
      " Number of state function evaluations            : 6857\n",
      " Number of state events                          : 139\n",
      "\n",
      "Solver options:\n",
      "\n",
      " Solver                   : CVode\n",
      " Linear multistep method  : BDF\n",
      " Nonlinear solver         : Newton\n",
      " Linear solver type       : DENSE\n",
      " Maximal order            : 5\n",
      " Tolerances (absolute)    : 1e-08\n",
      " Tolerances (relative)    : 1e-06\n",
      "\n",
      "Simulation interval    : 0.0 - 248400.0 seconds.\n",
      "Elapsed simulation time: 0.19885731400063378 seconds.\n",
      "Warning: Possible chattering detected at t = 1.008000e+05 in state event(s): [2 3]\n",
      "Final Run Statistics: --- \n",
      "\n",
      " Number of steps                                 : 951\n",
      " Number of function evaluations                  : 1969\n",
      " Number of Jacobian evaluations                  : 139\n",
      " Number of function eval. due to Jacobian eval.  : 278\n",
      " Number of error test failures                   : 66\n",
      " Number of nonlinear iterations                  : 1413\n",
      " Number of nonlinear convergence failures        : 0\n",
      " Number of state function evaluations            : 6917\n",
      " Number of state events                          : 139\n",
      "\n",
      "Solver options:\n",
      "\n",
      " Solver                   : CVode\n",
      " Linear multistep method  : BDF\n",
      " Nonlinear solver         : Newton\n",
      " Linear solver type       : DENSE\n",
      " Maximal order            : 5\n",
      " Tolerances (absolute)    : 1e-08\n",
      " Tolerances (relative)    : 1e-06\n",
      "\n",
      "Simulation interval    : 0.0 - 248400.0 seconds.\n",
      "Elapsed simulation time: 0.19399366799916606 seconds.\n",
      "Warning: Possible chattering detected at t = 1.008000e+05 in state event(s): [2 3]\n",
      "Final Run Statistics: --- \n",
      "\n",
      " Number of steps                                 : 957\n",
      " Number of function evaluations                  : 1978\n",
      " Number of Jacobian evaluations                  : 139\n",
      " Number of function eval. due to Jacobian eval.  : 278\n",
      " Number of error test failures                   : 66\n",
      " Number of nonlinear iterations                  : 1422\n",
      " Number of nonlinear convergence failures        : 0\n",
      " Number of state function evaluations            : 6898\n",
      " Number of state events                          : 139\n",
      "\n",
      "Solver options:\n",
      "\n",
      " Solver                   : CVode\n",
      " Linear multistep method  : BDF\n",
      " Nonlinear solver         : Newton\n",
      " Linear solver type       : DENSE\n",
      " Maximal order            : 5\n",
      " Tolerances (absolute)    : 1e-08\n",
      " Tolerances (relative)    : 1e-06\n",
      "\n",
      "Simulation interval    : 0.0 - 248400.0 seconds.\n",
      "Elapsed simulation time: 0.15482144600173342 seconds.\n",
      "Warning: Possible chattering detected at t = 9.720000e+04 in state event(s): [2 3]\n",
      "Final Run Statistics: --- \n",
      "\n",
      " Number of steps                                 : 954\n",
      " Number of function evaluations                  : 1970\n",
      " Number of Jacobian evaluations                  : 139\n",
      " Number of function eval. due to Jacobian eval.  : 278\n",
      " Number of error test failures                   : 66\n",
      " Number of nonlinear iterations                  : 1414\n",
      " Number of nonlinear convergence failures        : 0\n",
      " Number of state function evaluations            : 6908\n",
      " Number of state events                          : 139\n",
      "\n",
      "Solver options:\n",
      "\n",
      " Solver                   : CVode\n",
      " Linear multistep method  : BDF\n",
      " Nonlinear solver         : Newton\n",
      " Linear solver type       : DENSE\n",
      " Maximal order            : 5\n",
      " Tolerances (absolute)    : 1e-08\n",
      " Tolerances (relative)    : 1e-06\n",
      "\n",
      "Simulation interval    : 0.0 - 248400.0 seconds.\n",
      "Elapsed simulation time: 0.1758731820009416 seconds.\n",
      "Warning: Possible chattering detected at t = 9.720000e+04 in state event(s): [2 3]\n",
      "Final Run Statistics: --- \n",
      "\n",
      " Number of steps                                 : 954\n",
      " Number of function evaluations                  : 1975\n",
      " Number of Jacobian evaluations                  : 139\n",
      " Number of function eval. due to Jacobian eval.  : 278\n",
      " Number of error test failures                   : 66\n",
      " Number of nonlinear iterations                  : 1419\n",
      " Number of nonlinear convergence failures        : 0\n",
      " Number of state function evaluations            : 6896\n",
      " Number of state events                          : 139\n",
      "\n",
      "Solver options:\n",
      "\n",
      " Solver                   : CVode\n",
      " Linear multistep method  : BDF\n",
      " Nonlinear solver         : Newton\n",
      " Linear solver type       : DENSE\n",
      " Maximal order            : 5\n",
      " Tolerances (absolute)    : 1e-08\n",
      " Tolerances (relative)    : 1e-06\n",
      "\n",
      "Simulation interval    : 0.0 - 248400.0 seconds.\n",
      "Elapsed simulation time: 0.20311524700082373 seconds.\n",
      "Warning: Possible chattering detected at t = 9.720000e+04 in state event(s): [2 3]\n",
      "Final Run Statistics: --- \n",
      "\n",
      " Number of steps                                 : 946\n",
      " Number of function evaluations                  : 1962\n",
      " Number of Jacobian evaluations                  : 139\n",
      " Number of function eval. due to Jacobian eval.  : 278\n",
      " Number of error test failures                   : 66\n",
      " Number of nonlinear iterations                  : 1406\n",
      " Number of nonlinear convergence failures        : 0\n",
      " Number of state function evaluations            : 6853\n",
      " Number of state events                          : 139\n",
      "\n",
      "Solver options:\n",
      "\n",
      " Solver                   : CVode\n",
      " Linear multistep method  : BDF\n",
      " Nonlinear solver         : Newton\n",
      " Linear solver type       : DENSE\n",
      " Maximal order            : 5\n",
      " Tolerances (absolute)    : 1e-08\n",
      " Tolerances (relative)    : 1e-06\n",
      "\n",
      "Simulation interval    : 0.0 - 248400.0 seconds.\n",
      "Elapsed simulation time: 0.18000871500044013 seconds.\n",
      "Warning: Possible chattering detected at t = 9.720000e+04 in state event(s): [2 3]\n",
      "Final Run Statistics: --- \n",
      "\n",
      " Number of steps                                 : 946\n",
      " Number of function evaluations                  : 1967\n",
      " Number of Jacobian evaluations                  : 139\n",
      " Number of function eval. due to Jacobian eval.  : 278\n",
      " Number of error test failures                   : 68\n",
      " Number of nonlinear iterations                  : 1411\n",
      " Number of nonlinear convergence failures        : 0\n",
      " Number of state function evaluations            : 6916\n",
      " Number of state events                          : 139\n",
      "\n",
      "Solver options:\n",
      "\n",
      " Solver                   : CVode\n",
      " Linear multistep method  : BDF\n",
      " Nonlinear solver         : Newton\n",
      " Linear solver type       : DENSE\n",
      " Maximal order            : 5\n",
      " Tolerances (absolute)    : 1e-08\n",
      " Tolerances (relative)    : 1e-06\n",
      "\n",
      "Simulation interval    : 0.0 - 248400.0 seconds.\n",
      "Elapsed simulation time: 0.2164176629994472 seconds.\n",
      "Warning: Possible chattering detected at t = 9.720000e+04 in state event(s): [2 3]\n",
      "Final Run Statistics: --- \n",
      "\n",
      " Number of steps                                 : 933\n",
      " Number of function evaluations                  : 1941\n",
      " Number of Jacobian evaluations                  : 139\n",
      " Number of function eval. due to Jacobian eval.  : 278\n",
      " Number of error test failures                   : 64\n",
      " Number of nonlinear iterations                  : 1385\n",
      " Number of nonlinear convergence failures        : 0\n",
      " Number of state function evaluations            : 6910\n",
      " Number of state events                          : 139\n",
      "\n",
      "Solver options:\n",
      "\n",
      " Solver                   : CVode\n",
      " Linear multistep method  : BDF\n",
      " Nonlinear solver         : Newton\n",
      " Linear solver type       : DENSE\n",
      " Maximal order            : 5\n",
      " Tolerances (absolute)    : 1e-08\n",
      " Tolerances (relative)    : 1e-06\n",
      "\n",
      "Simulation interval    : 0.0 - 248400.0 seconds.\n",
      "Elapsed simulation time: 0.19489644499844871 seconds.\n",
      "Warning: Possible chattering detected at t = 9.360000e+04 in state event(s): [2 3]\n",
      "Final Run Statistics: --- \n",
      "\n",
      " Number of steps                                 : 930\n",
      " Number of function evaluations                  : 1935\n",
      " Number of Jacobian evaluations                  : 139\n",
      " Number of function eval. due to Jacobian eval.  : 278\n",
      " Number of error test failures                   : 63\n",
      " Number of nonlinear iterations                  : 1379\n",
      " Number of nonlinear convergence failures        : 0\n",
      " Number of state function evaluations            : 6905\n",
      " Number of state events                          : 139\n",
      "\n",
      "Solver options:\n",
      "\n",
      " Solver                   : CVode\n",
      " Linear multistep method  : BDF\n",
      " Nonlinear solver         : Newton\n",
      " Linear solver type       : DENSE\n",
      " Maximal order            : 5\n",
      " Tolerances (absolute)    : 1e-08\n",
      " Tolerances (relative)    : 1e-06\n",
      "\n",
      "Simulation interval    : 0.0 - 248400.0 seconds.\n",
      "Elapsed simulation time: 0.1990568510009325 seconds.\n",
      "Warning: Possible chattering detected at t = 9.360000e+04 in state event(s): [2 3]\n"
     ]
    },
    {
     "name": "stdout",
     "output_type": "stream",
     "text": [
      "Final Run Statistics: --- \n",
      "\n",
      " Number of steps                                 : 925\n",
      " Number of function evaluations                  : 1929\n",
      " Number of Jacobian evaluations                  : 139\n",
      " Number of function eval. due to Jacobian eval.  : 278\n",
      " Number of error test failures                   : 63\n",
      " Number of nonlinear iterations                  : 1373\n",
      " Number of nonlinear convergence failures        : 0\n",
      " Number of state function evaluations            : 6917\n",
      " Number of state events                          : 139\n",
      "\n",
      "Solver options:\n",
      "\n",
      " Solver                   : CVode\n",
      " Linear multistep method  : BDF\n",
      " Nonlinear solver         : Newton\n",
      " Linear solver type       : DENSE\n",
      " Maximal order            : 5\n",
      " Tolerances (absolute)    : 1e-08\n",
      " Tolerances (relative)    : 1e-06\n",
      "\n",
      "Simulation interval    : 0.0 - 248400.0 seconds.\n",
      "Elapsed simulation time: 0.2149164100010239 seconds.\n"
     ]
    }
   ],
   "source": [
    "#task 6.2 do parameter sweep and simulate with different parameters first from 0.5 to 1 with step 0.1\n",
    "\n",
    "diffs = sweep_parameter(0.1,0.2,0.01)"
   ]
  },
  {
   "cell_type": "markdown",
   "metadata": {},
   "source": [
    "Now we can see `diffs` array. Contains array of tupple. First is parameter value, second the value of objective function."
   ]
  },
  {
   "cell_type": "code",
   "execution_count": 43,
   "metadata": {},
   "outputs": [
    {
     "data": {
      "text/plain": [
       "[[0.1, 0.0007896388719240363],\n",
       " [0.11, 0.0004856398543753123],\n",
       " [0.12, 0.00026379738848262446],\n",
       " [0.13, 0.00011426483442831493],\n",
       " [0.13999999999999999, 2.8809386083235042e-05],\n",
       " [0.14999999999999997, 4.917982619431791e-07],\n",
       " [0.15999999999999998, 2.3376888282910878e-05],\n",
       " [0.16999999999999998, 9.239065109281282e-05],\n",
       " [0.17999999999999997, 0.0002031128099168546],\n",
       " [0.18999999999999995, 0.00035167672291894697]]"
      ]
     },
     "execution_count": 43,
     "metadata": {},
     "output_type": "execute_result"
    }
   ],
   "source": [
    "diffs"
   ]
  },
  {
   "cell_type": "markdown",
   "metadata": {},
   "source": [
    "## Find minimum \n",
    "Find parameter value, where objective function is minimal.\n",
    "\n",
    "E.g. sort the diffs array by the second element"
   ]
  },
  {
   "cell_type": "code",
   "execution_count": 44,
   "metadata": {},
   "outputs": [],
   "source": [
    "diffs.sort(key=lambda x:x[1])"
   ]
  },
  {
   "cell_type": "code",
   "execution_count": 45,
   "metadata": {},
   "outputs": [
    {
     "data": {
      "text/plain": [
       "[[0.14999999999999997, 4.917982619431791e-07],\n",
       " [0.15999999999999998, 2.3376888282910878e-05],\n",
       " [0.13999999999999999, 2.8809386083235042e-05],\n",
       " [0.16999999999999998, 9.239065109281282e-05],\n",
       " [0.13, 0.00011426483442831493],\n",
       " [0.17999999999999997, 0.0002031128099168546],\n",
       " [0.12, 0.00026379738848262446],\n",
       " [0.18999999999999995, 0.00035167672291894697],\n",
       " [0.11, 0.0004856398543753123],\n",
       " [0.1, 0.0007896388719240363]]"
      ]
     },
     "execution_count": 45,
     "metadata": {},
     "output_type": "execute_result"
    }
   ],
   "source": [
    "diffs"
   ]
  },
  {
   "cell_type": "markdown",
   "metadata": {},
   "source": [
    "Now the first element of diffs contains parameter and value of objective function which is minimal.\n",
    "\n",
    "Show the model simulation and data in chart:"
   ]
  },
  {
   "cell_type": "code",
   "execution_count": 46,
   "metadata": {},
   "outputs": [
    {
     "name": "stdout",
     "output_type": "stream",
     "text": [
      "Warning: Possible chattering detected at t = 9.720000e+04 in state event(s): [2 3]\n",
      "Final Run Statistics: --- \n",
      "\n",
      " Number of steps                                 : 946\n",
      " Number of function evaluations                  : 1962\n",
      " Number of Jacobian evaluations                  : 139\n",
      " Number of function eval. due to Jacobian eval.  : 278\n",
      " Number of error test failures                   : 66\n",
      " Number of nonlinear iterations                  : 1406\n",
      " Number of nonlinear convergence failures        : 0\n",
      " Number of state function evaluations            : 6853\n",
      " Number of state events                          : 139\n",
      "\n",
      "Solver options:\n",
      "\n",
      " Solver                   : CVode\n",
      " Linear multistep method  : BDF\n",
      " Nonlinear solver         : Newton\n",
      " Linear solver type       : DENSE\n",
      " Maximal order            : 5\n",
      " Tolerances (absolute)    : 1e-08\n",
      " Tolerances (relative)    : 1e-06\n",
      "\n",
      "Simulation interval    : 0.0 - 248400.0 seconds.\n",
      "Elapsed simulation time: 0.17893950600046082 seconds.\n"
     ]
    },
    {
     "data": {
      "image/png": "[encoded data removed]",
      "text/plain": [
       "<Figure size 432x288 with 1 Axes>"
      ]
     },
     "metadata": {
      "needs_background": "light"
     },
     "output_type": "display_data"
    }
   ],
   "source": [
    "compareshow(diffs[0][0]) # task 6.3"
   ]
  },
  {
   "cell_type": "code",
   "execution_count": 47,
   "metadata": {},
   "outputs": [
    {
     "name": "stdout",
     "output_type": "stream",
     "text": [
      "Warning: Possible chattering detected at t = 9.720000e+04 in state event(s): [2 3]\n",
      "Final Run Statistics: --- \n",
      "\n",
      " Number of steps                                 : 946\n",
      " Number of function evaluations                  : 1967\n",
      " Number of Jacobian evaluations                  : 139\n",
      " Number of function eval. due to Jacobian eval.  : 278\n",
      " Number of error test failures                   : 68\n",
      " Number of nonlinear iterations                  : 1411\n",
      " Number of nonlinear convergence failures        : 0\n",
      " Number of state function evaluations            : 6916\n",
      " Number of state events                          : 139\n",
      "\n",
      "Solver options:\n",
      "\n",
      " Solver                   : CVode\n",
      " Linear multistep method  : BDF\n",
      " Nonlinear solver         : Newton\n",
      " Linear solver type       : DENSE\n",
      " Maximal order            : 5\n",
      " Tolerances (absolute)    : 1e-08\n",
      " Tolerances (relative)    : 1e-06\n",
      "\n",
      "Simulation interval    : 0.0 - 248400.0 seconds.\n",
      "Elapsed simulation time: 0.20196217500051716 seconds.\n"
     ]
    },
    {
     "data": {
      "image/png": "[encoded data removed]",
      "text/plain": [
       "<Figure size 432x288 with 1 Axes>"
      ]
     },
     "metadata": {
      "needs_background": "light"
     },
     "output_type": "display_data"
    }
   ],
   "source": [
    "compareshow(diffs[1][0]) # task 6.4 show second best solution"
   ]
  },
  {
   "cell_type": "markdown",
   "metadata": {},
   "source": [
    "# Summary\n",
    "\n",
    "In the above excercise we\n",
    "  * imported Pyfmi library and load FMU of the Modelica model\n",
    "  * simulated the model with different parameters and plot the simulation result\n",
    "  * read and plot experiment data from csv\n",
    "  * calibrate the model - find simulation parameters - number of intervals and index of result file corresponding to the experiment data\n",
    "  * compared experiment data with simulation data\n",
    "  * do parameter sweep - simulation performed per each parameter value\n",
    "  * compute difference between experimental data and simulation data - value of objective function\n",
    "  * minimum of objective function corresponds to optimal parameter value based on experimental data\n",
    "  * this process is sometimes called also matching the curve, parameter estimation, system identification\n",
    "  * solution to tasks within the python code is in comments bellow\n",
    "  \n",
    "  * Last but not least - you learn something about glucose insulin regulation and type1 diabetes\n",
    "  "
   ]
  },
  {
   "cell_type": "code",
   "execution_count": null,
   "metadata": {},
   "outputs": [],
   "source": [
    "#2.1 259200    res = model.simulate(final_time=259200,options = sopts)\n",
    "#2.2 r2 = simulate_relativebeta(0.5)\n",
    "#3.1 numpy.delete(array,0,0)\n",
    "#3.2 plot(my_data[0],my_data[1]) \n",
    "#4.1 simulation_time = 3 * 24 * 60 * 60\n",
    "#    sample_duration = 12 * 60 \n",
    "#4.2 index = 2*24*60*60 // 720; # task 4.2\n",
    "#5.1 res = simulate_relativebeta(relbeta) # task 5.1 which argument to be passed here\n",
    "#5.2 task try to compare with simulation parameter to 120%, 50%, 20%, 5%, 1% \n",
    "#compareshow(1.2)\n",
    "#compareshow(0.5)\n",
    "#compareshow(0.2)\n",
    "#compareshow(0.05)\n",
    "#compareshow(0.01)\n",
    "#6.1 sum+=(arr1[i]-arr2[i])**2\n",
    "#6.2 diffs = sweep_parameter(0.5,1,0.1)\n",
    "#6.3 compareshow(diffs[0][0]) \n"
   ]
  },
  {
   "cell_type": "code",
   "execution_count": null,
   "metadata": {},
   "outputs": [],
   "source": []
  }
 ],
 "metadata": {
  "kernelspec": {
   "display_name": "Python 3",
   "language": "python",
   "name": "python3"
  },
  "language_info": {
   "codemirror_mode": {
    "name": "ipython",
    "version": 3
   },
   "file_extension": ".py",
   "mimetype": "text/x-python",
   "name": "python",
   "nbconvert_exporter": "python",
   "pygments_lexer": "ipython3",
   "version": "3.7.3"
  }
 },
 "nbformat": 4,
 "nbformat_minor": 2
}
