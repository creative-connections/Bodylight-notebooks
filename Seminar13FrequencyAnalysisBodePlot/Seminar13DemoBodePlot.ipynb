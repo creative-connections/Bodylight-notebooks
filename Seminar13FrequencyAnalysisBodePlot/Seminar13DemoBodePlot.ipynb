{
 "cells": [
  {
   "cell_type": "markdown",
   "metadata": {},
   "source": [
    "# Frequency Analysis and Demo Bode-plot\n",
    "\n",
    "In this demo notebook some methods used to do frequency analysis is demonstrated.\n",
    "You need to have SciPy library for Python, already in Anaconda distribution - otherwise install `conda install scipy`.\n",
    "\n",
    "## 1 Introduction \n",
    "\n",
    "Within `signal` we will create a linear transfer function $H(s)=\\frac{1}{0.001s^2+0.03s+2}$ \n"
   ]
  },
  {
   "cell_type": "code",
   "execution_count": 3,
   "metadata": {},
   "outputs": [],
   "source": [
    "from scipy import signal\n",
    "s1 = signal.lti([1], [0.001,0.03,2]) # task 1.1 put correct values of transfer function coefficients"
   ]
  },
  {
   "cell_type": "markdown",
   "metadata": {},
   "source": [
    "Now we will comput magnitude and phase part of https://en.wikipedia.org/wiki/Bode_plot"
   ]
  },
  {
   "cell_type": "code",
   "execution_count": 4,
   "metadata": {},
   "outputs": [],
   "source": [
    "w, mag, phase = signal.bode(s1)"
   ]
  },
  {
   "cell_type": "markdown",
   "metadata": {},
   "source": [
    "Visualize bode-plot using `matplotlib`."
   ]
  },
  {
   "cell_type": "code",
   "execution_count": 5,
   "metadata": {},
   "outputs": [
    {
     "data": {
      "image/png": "[encoded data removed]",
      "text/plain": [
       "<Figure size 432x288 with 1 Axes>"
      ]
     },
     "metadata": {
      "needs_background": "light"
     },
     "output_type": "display_data"
    },
    {
     "data": {
      "image/png": "[encoded data removed]",
      "text/plain": [
       "<Figure size 432x288 with 1 Axes>"
      ]
     },
     "metadata": {
      "needs_background": "light"
     },
     "output_type": "display_data"
    }
   ],
   "source": [
    "# plot bode plot\n",
    "import matplotlib.pyplot as plt\n",
    "%matplotlib inline\n",
    "\n",
    "plt.figure()\n",
    "plt.semilogx(w, mag)    # Bode magnitude plot\n",
    "\n",
    "plt.figure()\n",
    "plt.semilogx(w, phase)  # Bode phase plot\n",
    "\n",
    "plt.show()\n"
   ]
  },
  {
   "cell_type": "markdown",
   "metadata": {},
   "source": [
    "## 2 Working with MAT files \n",
    "\n",
    "In order to read `.mat`file, there exist DyMat library for Python for reading and exporting files from this data file. Install it by `pip install DyMat`. https://www.j-raedler.de/projects/dymat/"
   ]
  },
  {
   "cell_type": "code",
   "execution_count": 6,
   "metadata": {},
   "outputs": [],
   "source": [
    "import DyMat"
   ]
  },
  {
   "cell_type": "code",
   "execution_count": 7,
   "metadata": {},
   "outputs": [],
   "source": [
    "d = DyMat.DyMatFile(\"CirculatoryControl.mat\")# TASK 2.1 copy the MAT file next to ipynb file and place the filename e.g.'CirculatoryControl.mat'"
   ]
  },
  {
   "cell_type": "code",
   "execution_count": 8,
   "metadata": {},
   "outputs": [
    {
     "data": {
      "text/plain": [
       "dict_keys(['Kp', 'fp', 'Ks', 'fs', 'PI', 'chirpSignal.w_start', 'chirpSignal.w_end', 'chirpSignal.A', 'chirpSignal.M', 'chirpSignal.y', 'gain.k', 'gain.u', 'gain.y', 'add.u1', 'add.u2', 'add.y', 'add.k1', 'add.k2', 'add1.u1', 'add1.u2', 'add1.y', 'add1.k1', 'add1.k2', 'Ap.k', 'Ap.u', 'Ap.y', 'SANodeVagalTF.u', 'SANodeVagalTF.y', 'SANodeVagalTF.b[1]', 'SANodeVagalTF.a[1]', 'SANodeVagalTF.a[2]', 'SANodeVagalTF.initType', 'SANodeVagalTF.x_start[1]', 'SANodeVagalTF.y_start', 'SANodeVagalTF.x[1]', 'SANodeDelay.u', 'SANodeDelay.y', 'SANodeDelay.delayTime', 'As.k', 'As.u', 'As.y', 'SANodeSympTF.u', 'SANodeSympTF.y', 'SANodeSympTF.b[1]', 'SANodeSympTF.a[1]', 'SANodeSympTF.a[2]', 'SANodeSympTF.initType', 'SANodeSympTF.x_start[1]', 'SANodeSympTF.y_start', 'SANodeSympTF.x[1]', 'add2.u1', 'add2.u2', 'add2.y', 'add2.k1', 'add2.k2', 'HR', 'Vasculature.k', 'Vasculature.u', 'Vasculature.y', 'VascularDelay.u', 'VascularDelay.y', 'VascularDelay.delayTime', 'add3.u1', 'add3.u2', 'add3.y', 'add3.k1', 'add3.k2', 'BaroreflexGain.k', 'BaroreflexGain.u', 'BaroreflexGain.y', 'BaroreflexDelay.u', 'BaroreflexDelay.y', 'BaroreflexDelay.delayTime', 'LungVolumeChange', 'derivative.k', 'derivative.T', 'derivative.initType', 'derivative.x_start', 'derivative.y_start', 'derivative.u', 'derivative.y', 'derivative.x', 'derivative.der(x)', 'ArterialBloodPressureChange'])"
      ]
     },
     "execution_count": 8,
     "metadata": {},
     "output_type": "execute_result"
    }
   ],
   "source": [
    "d.names()"
   ]
  },
  {
   "cell_type": "markdown",
   "metadata": {},
   "source": [
    "The 'time' variable is stored next to each model variable as abscissa. In order to get time values related to the variable values call `d.abscissa('variable_name',valuesOnly=True)`"
   ]
  },
  {
   "cell_type": "code",
   "execution_count": 9,
   "metadata": {},
   "outputs": [
    {
     "name": "stdout",
     "output_type": "stream",
     "text": [
      "502\n",
      "[  0.    0.6   1.2   1.8   2.4   3.    3.6   4.2   4.8   5.4   6.    6.6\n",
      "   7.2   7.8   8.4   9.    9.6  10.2  10.8  11.4  12.   12.6  13.2  13.8\n",
      "  14.4  15.   15.6  16.2  16.8  17.4  18.   18.6  19.2  19.8  20.4  21.\n",
      "  21.6  22.2  22.8  23.4  24.   24.6  25.2  25.8  26.4  27.   27.6  28.2\n",
      "  28.8  29.4  30.   30.6  31.2  31.8  32.4  33.   33.6  34.2  34.8  35.4\n",
      "  36.   36.6  37.2  37.8  38.4  39.   39.6  40.2  40.8  41.4  42.   42.6\n",
      "  43.2  43.8  44.4  45.   45.6  46.2  46.8  47.4  48.   48.6  49.2  49.8\n",
      "  50.4  51.   51.6  52.2  52.8  53.4  54.   54.6  55.2  55.8  56.4  57.\n",
      "  57.6  58.2  58.8  59.4  60.   60.6  61.2  61.8  62.4  63.   63.6  64.2\n",
      "  64.8  65.4  66.   66.6  67.2  67.8  68.4  69.   69.6  70.2  70.8  71.4\n",
      "  72.   72.6  73.2  73.8  74.4  75.   75.6  76.2  76.8  77.4  78.   78.6\n",
      "  79.2  79.8  80.4  81.   81.6  82.2  82.8  83.4  84.   84.6  85.2  85.8\n",
      "  86.4  87.   87.6  88.2  88.8  89.4  90.   90.6  91.2  91.8  92.4  93.\n",
      "  93.6  94.2  94.8  95.4  96.   96.6  97.2  97.8  98.4  99.   99.6 100.2\n",
      " 100.8 101.4 102.  102.6 103.2 103.8 104.4 105.  105.6 106.2 106.8 107.4\n",
      " 108.  108.6 109.2 109.8 110.4 111.  111.6 112.2 112.8 113.4 114.  114.6\n",
      " 115.2 115.8 116.4 117.  117.6 118.2 118.8 119.4 120.  120.6 121.2 121.8\n",
      " 122.4 123.  123.6 124.2 124.8 125.4 126.  126.6 127.2 127.8 128.4 129.\n",
      " 129.6 130.2 130.8 131.4 132.  132.6 133.2 133.8 134.4 135.  135.6 136.2\n",
      " 136.8 137.4 138.  138.6 139.2 139.8 140.4 141.  141.6 142.2 142.8 143.4\n",
      " 144.  144.6 145.2 145.8 146.4 147.  147.6 148.2 148.8 149.4 150.  150.6\n",
      " 151.2 151.8 152.4 153.  153.6 154.2 154.8 155.4 156.  156.6 157.2 157.8\n",
      " 158.4 159.  159.6 160.2 160.8 161.4 162.  162.6 163.2 163.8 164.4 165.\n",
      " 165.6 166.2 166.8 167.4 168.  168.6 169.2 169.8 170.4 171.  171.6 172.2\n",
      " 172.8 173.4 174.  174.6 175.2 175.8 176.4 177.  177.6 178.2 178.8 179.4\n",
      " 180.  180.6 181.2 181.8 182.4 183.  183.6 184.2 184.8 185.4 186.  186.6\n",
      " 187.2 187.8 188.4 189.  189.6 190.2 190.8 191.4 192.  192.6 193.2 193.8\n",
      " 194.4 195.  195.6 196.2 196.8 197.4 198.  198.6 199.2 199.8 200.4 201.\n",
      " 201.6 202.2 202.8 203.4 204.  204.6 205.2 205.8 206.4 207.  207.6 208.2\n",
      " 208.8 209.4 210.  210.6 211.2 211.8 212.4 213.  213.6 214.2 214.8 215.4\n",
      " 216.  216.6 217.2 217.8 218.4 219.  219.6 220.2 220.8 221.4 222.  222.6\n",
      " 223.2 223.8 224.4 225.  225.6 226.2 226.8 227.4 228.  228.6 229.2 229.8\n",
      " 230.4 231.  231.6 232.2 232.8 233.4 234.  234.6 235.2 235.8 236.4 237.\n",
      " 237.6 238.2 238.8 239.4 240.  240.6 241.2 241.8 242.4 243.  243.6 244.2\n",
      " 244.8 245.4 246.  246.6 247.2 247.8 248.4 249.  249.6 250.2 250.8 251.4\n",
      " 252.  252.6 253.2 253.8 254.4 255.  255.6 256.2 256.8 257.4 258.  258.6\n",
      " 259.2 259.8 260.4 261.  261.6 262.2 262.8 263.4 264.  264.6 265.2 265.8\n",
      " 266.4 267.  267.6 268.2 268.8 269.4 270.  270.6 271.2 271.8 272.4 273.\n",
      " 273.6 274.2 274.8 275.4 276.  276.6 277.2 277.8 278.4 279.  279.6 280.2\n",
      " 280.8 281.4 282.  282.6 283.2 283.8 284.4 285.  285.6 286.2 286.8 287.4\n",
      " 288.  288.6 289.2 289.8 290.4 291.  291.6 292.2 292.8 293.4 294.  294.6\n",
      " 295.2 295.8 296.4 297.  297.6 298.2 298.8 299.4 300.  300. ]\n"
     ]
    }
   ],
   "source": [
    "dsize = len(d['LungVolumeChange'])\n",
    "print(dsize)\n",
    "print(d.abscissa('LungVolumeChange',valuesOnly=True))"
   ]
  },
  {
   "cell_type": "code",
   "execution_count": 10,
   "metadata": {},
   "outputs": [],
   "source": [
    "def plot(x,y,z=None):\n",
    "    %matplotlib inline\n",
    "    import matplotlib.pyplot as plt\n",
    "    fig = plt.figure()\n",
    "    plt.plot(x,y,'r')\n",
    "    if z is not None:\n",
    "        plt.plot(x,z,'b')\n",
    "    plt.show()"
   ]
  },
  {
   "cell_type": "markdown",
   "metadata": {},
   "source": [
    "Now plot `LungVolumeChange`:"
   ]
  },
  {
   "cell_type": "code",
   "execution_count": 11,
   "metadata": {},
   "outputs": [
    {
     "data": {
      "image/png": "[encoded data removed]",
      "text/plain": [
       "<Figure size 432x288 with 1 Axes>"
      ]
     },
     "metadata": {
      "needs_background": "light"
     },
     "output_type": "display_data"
    }
   ],
   "source": [
    "plot(d.abscissa(\"LungVolumeChange\",valuesOnly=True),d[\"LungVolumeChange\"]) # Task 2.2 replace with variable name"
   ]
  },
  {
   "cell_type": "markdown",
   "metadata": {},
   "source": [
    "Now plot heart rate change."
   ]
  },
  {
   "cell_type": "code",
   "execution_count": 12,
   "metadata": {},
   "outputs": [
    {
     "ename": "KeyError",
     "evalue": "Ellipsis",
     "output_type": "error",
     "traceback": [
      "\u001b[0;31m---------------------------------------------------------------------------\u001b[0m",
      "\u001b[0;31mTypeError\u001b[0m                                 Traceback (most recent call last)",
      "\u001b[0;32m~/jupyter/lib/python3.7/site-packages/DyMat/__init__.py\u001b[0m in \u001b[0;36mabscissa\u001b[0;34m(self, blockOrName, valuesOnly)\u001b[0m\n\u001b[1;32m    202\u001b[0m         \u001b[0;32mtry\u001b[0m\u001b[0;34m:\u001b[0m\u001b[0;34m\u001b[0m\u001b[0;34m\u001b[0m\u001b[0m\n\u001b[0;32m--> 203\u001b[0;31m             \u001b[0mb\u001b[0m \u001b[0;34m=\u001b[0m \u001b[0mint\u001b[0m\u001b[0;34m(\u001b[0m\u001b[0mblockOrName\u001b[0m\u001b[0;34m)\u001b[0m\u001b[0;34m\u001b[0m\u001b[0;34m\u001b[0m\u001b[0m\n\u001b[0m\u001b[1;32m    204\u001b[0m         \u001b[0;32mexcept\u001b[0m\u001b[0;34m:\u001b[0m\u001b[0;34m\u001b[0m\u001b[0;34m\u001b[0m\u001b[0m\n",
      "\u001b[0;31mTypeError\u001b[0m: int() argument must be a string, a bytes-like object or a number, not 'ellipsis'",
      "\nDuring handling of the above exception, another exception occurred:\n",
      "\u001b[0;31mKeyError\u001b[0m                                  Traceback (most recent call last)",
      "\u001b[0;32m<ipython-input-12-6694c87e1aa4>\u001b[0m in \u001b[0;36m<module>\u001b[0;34m\u001b[0m\n\u001b[0;32m----> 1\u001b[0;31m \u001b[0mplot\u001b[0m\u001b[0;34m(\u001b[0m\u001b[0md\u001b[0m\u001b[0;34m.\u001b[0m\u001b[0mabscissa\u001b[0m\u001b[0;34m(\u001b[0m\u001b[0;34m...\u001b[0m\u001b[0;34m,\u001b[0m\u001b[0mvaluesOnly\u001b[0m\u001b[0;34m=\u001b[0m\u001b[0;32mTrue\u001b[0m\u001b[0;34m)\u001b[0m\u001b[0;34m,\u001b[0m\u001b[0md\u001b[0m\u001b[0;34m[\u001b[0m\u001b[0;34m...\u001b[0m\u001b[0;34m]\u001b[0m\u001b[0;34m)\u001b[0m \u001b[0;31m# Task 2.3 replace ... with variable containing heart rate change\u001b[0m\u001b[0;34m\u001b[0m\u001b[0;34m\u001b[0m\u001b[0m\n\u001b[0m",
      "\u001b[0;32m~/jupyter/lib/python3.7/site-packages/DyMat/__init__.py\u001b[0m in \u001b[0;36mabscissa\u001b[0;34m(self, blockOrName, valuesOnly)\u001b[0m\n\u001b[1;32m    203\u001b[0m             \u001b[0mb\u001b[0m \u001b[0;34m=\u001b[0m \u001b[0mint\u001b[0m\u001b[0;34m(\u001b[0m\u001b[0mblockOrName\u001b[0m\u001b[0;34m)\u001b[0m\u001b[0;34m\u001b[0m\u001b[0;34m\u001b[0m\u001b[0m\n\u001b[1;32m    204\u001b[0m         \u001b[0;32mexcept\u001b[0m\u001b[0;34m:\u001b[0m\u001b[0;34m\u001b[0m\u001b[0;34m\u001b[0m\u001b[0m\n\u001b[0;32m--> 205\u001b[0;31m             \u001b[0mb\u001b[0m \u001b[0;34m=\u001b[0m \u001b[0mself\u001b[0m\u001b[0;34m.\u001b[0m\u001b[0m_vars\u001b[0m\u001b[0;34m[\u001b[0m\u001b[0mblockOrName\u001b[0m\u001b[0;34m]\u001b[0m\u001b[0;34m[\u001b[0m\u001b[0;36m1\u001b[0m\u001b[0;34m]\u001b[0m\u001b[0;34m\u001b[0m\u001b[0;34m\u001b[0m\u001b[0m\n\u001b[0m\u001b[1;32m    206\u001b[0m         \u001b[0mdi\u001b[0m \u001b[0;34m=\u001b[0m \u001b[0;34m'data_%d'\u001b[0m \u001b[0;34m%\u001b[0m \u001b[0;34m(\u001b[0m\u001b[0mb\u001b[0m\u001b[0;34m)\u001b[0m\u001b[0;34m\u001b[0m\u001b[0;34m\u001b[0m\u001b[0m\n\u001b[1;32m    207\u001b[0m         \u001b[0;32mif\u001b[0m \u001b[0mvaluesOnly\u001b[0m\u001b[0;34m:\u001b[0m\u001b[0;34m\u001b[0m\u001b[0;34m\u001b[0m\u001b[0m\n",
      "\u001b[0;31mKeyError\u001b[0m: Ellipsis"
     ]
    }
   ],
   "source": [
    "plot(d.abscissa(...,valuesOnly=True),d[...]) # Task 2.3 replace ... with variable containing heart rate change"
   ]
  },
  {
   "cell_type": "markdown",
   "metadata": {},
   "source": [
    "## 3 Curve fitting\n",
    "\n",
    "As demo we will randomly create some points arround $f(x)=2.9 \\sin(1.5 x)$"
   ]
  },
  {
   "cell_type": "code",
   "execution_count": 13,
   "metadata": {},
   "outputs": [
    {
     "data": {
      "text/plain": [
       "<matplotlib.collections.PathCollection at 0x7fa7c5d51fd0>"
      ]
     },
     "execution_count": 13,
     "metadata": {},
     "output_type": "execute_result"
    },
    {
     "data": {
      "image/png": "[encoded data removed]",
      "text/plain": [
       "<Figure size 432x288 with 1 Axes>"
      ]
     },
     "metadata": {
      "needs_background": "light"
     },
     "output_type": "display_data"
    }
   ],
   "source": [
    "import numpy as np\n",
    "\n",
    "# Seed the random number generator for reproducibility\n",
    "np.random.seed(0)\n",
    "\n",
    "x_data = np.linspace(-5, 5, num=50)\n",
    "y_data = 2.9 * np.sin(1.5 * x_data) + np.random.normal(size=50) # task 3.1 replace ... so it computesvalues e.g.:2.9 and 1.5\n",
    "\n",
    "# And plot it\n",
    "import matplotlib.pyplot as plt\n",
    "plt.figure(figsize=(6, 4))\n",
    "plt.scatter(x_data, y_data)"
   ]
  },
  {
   "cell_type": "markdown",
   "metadata": {},
   "source": [
    "Now fit simple sine over the random points"
   ]
  },
  {
   "cell_type": "code",
   "execution_count": 18,
   "metadata": {},
   "outputs": [
    {
     "name": "stdout",
     "output_type": "stream",
     "text": [
      "[0.33368842 6.84285063]\n"
     ]
    }
   ],
   "source": [
    "from scipy import optimize\n",
    "\n",
    "def test_func(x, a, b):\n",
    "    return a * np.sin(b * x)\n",
    "\n",
    "params, params_covariance = optimize.curve_fit(test_func, x_data, y_data,\n",
    "                                               p0=[4, 7])\n",
    "\n",
    "print(params)"
   ]
  },
  {
   "cell_type": "markdown",
   "metadata": {},
   "source": [
    "Plot fitted curve over the points"
   ]
  },
  {
   "cell_type": "code",
   "execution_count": 19,
   "metadata": {},
   "outputs": [
    {
     "data": {
      "image/png": "[encoded data removed]",
      "text/plain": [
       "<Figure size 432x288 with 1 Axes>"
      ]
     },
     "metadata": {
      "needs_background": "light"
     },
     "output_type": "display_data"
    }
   ],
   "source": [
    "plt.figure(figsize=(6, 4))\n",
    "plt.scatter(x_data, y_data, label='Data')\n",
    "plt.plot(x_data, test_func(x_data, params[0], params[1]),\n",
    "         label='Fitted function')\n",
    "\n",
    "plt.legend(loc='best')\n",
    "\n",
    "plt.show()"
   ]
  },
  {
   "cell_type": "markdown",
   "metadata": {},
   "source": [
    "Simulate transfer function, implement chirp function $y=\\sin(W_s t + \\frac{(W_e-W_s)t^2}{2 M})$"
   ]
  },
  {
   "cell_type": "code",
   "execution_count": null,
   "metadata": {},
   "outputs": [],
   "source": [
    "def chirp(Ws,We,A,M,time):\n",
    "    return sin(Ws*time+(We-Ws)*t*t/2*M);"
   ]
  },
  {
   "cell_type": "code",
   "execution_count": null,
   "metadata": {},
   "outputs": [],
   "source": [
    "def simulatettf(a,b,c,d,input,inputtime):\n",
    "    myttf = scipy.signal.lti([a],[b,c,d])\n",
    "    res = myttf.output(input,inputtime)\n",
    "    return res\n"
   ]
  },
  {
   "cell_type": "code",
   "execution_count": null,
   "metadata": {},
   "outputs": [],
   "source": [
    "myres = simulatettf(1,0.001,0.03,2,d['chirpSignal.y'],d.abscissa('chirpSignal.y',valuesOnly=True))\n",
    "def simulatechirp(x,a,b,c,d):\n",
    "    return simulatettf()"
   ]
  },
  {
   "cell_type": "code",
   "execution_count": null,
   "metadata": {},
   "outputs": [],
   "source": [
    "plot(myres[0],myres[1])"
   ]
  },
  {
   "cell_type": "code",
   "execution_count": null,
   "metadata": {},
   "outputs": [],
   "source": [
    "#Assignement - identify parameters of transfer function, and bode plot of the transfer function \n",
    "\n",
    "#def residuals(c, y, t):\n",
    "#    return y - simulatettf(c[0],c[1],c[2],c[3],d['chirpSignal.y'],t)[1]\n",
    "#x0 = np.array([1, 0.001, 0.03, 2], dtype=float)\n",
    "#x, flag = scipy.optimize.least_squares(residuals, x0, args=(d['HR'], d.abscissa('HR',valuesOnly=True)))"
   ]
  },
  {
   "cell_type": "code",
   "execution_count": null,
   "metadata": {},
   "outputs": [],
   "source": []
  }
 ],
 "metadata": {
  "kernelspec": {
   "display_name": "Python 3",
   "language": "python",
   "name": "python3"
  },
  "language_info": {
   "codemirror_mode": {
    "name": "ipython",
    "version": 3
   },
   "file_extension": ".py",
   "mimetype": "text/x-python",
   "name": "python",
   "nbconvert_exporter": "python",
   "pygments_lexer": "ipython3",
   "version": "3.7.3"
  }
 },
 "nbformat": 4,
 "nbformat_minor": 2
}
