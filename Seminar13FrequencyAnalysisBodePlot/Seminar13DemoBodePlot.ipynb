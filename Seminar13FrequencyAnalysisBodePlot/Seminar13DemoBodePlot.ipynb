{
 "cells": [
  {
   "cell_type": "markdown",
   "metadata": {},
   "source": [
    "# Frequency Analysis and Demo Bode-plot\n",
    "\n",
    "In this demo notebook some methods used to do frequency analysis is demonstrated.\n",
    "You need to have SciPy library for Python, already in Anaconda distribution - otherwise install `conda install scipy`.\n",
    "\n",
    "## 1 Introduction \n",
    "\n",
    "Within `signal` package we can create a linear transfer function $H(s)=\\frac{1}{0.001s^2+0.03s+2}$. \n"
   ]
  },
  {
   "cell_type": "code",
   "execution_count": null,
   "metadata": {},
   "outputs": [],
   "source": [
    "import scipy\n",
    "from scipy import signal\n",
    "# task 1.1 put correct values of transfer function coefficients (0.001,0.03,2)\n",
    "s1 = signal.lti([1], [...,...,...]) "
   ]
  },
  {
   "cell_type": "markdown",
   "metadata": {},
   "source": [
    "Now we can compute magnitude and phase part of Bode-plot (https://en.wikipedia.org/wiki/Bode_plot)"
   ]
  },
  {
   "cell_type": "code",
   "execution_count": null,
   "metadata": {},
   "outputs": [],
   "source": [
    "import numpy \n",
    "# task put range limits - time points from 0 to 60 with step 1 \n",
    "w=numpy.arange(...,...,...)\n",
    "w, mag, phase = signal.bode(s1,w=w)"
   ]
  },
  {
   "cell_type": "markdown",
   "metadata": {},
   "source": [
    "Define normal freqplot and bode-plot using `matplotlib`."
   ]
  },
  {
   "cell_type": "code",
   "execution_count": null,
   "metadata": {},
   "outputs": [],
   "source": [
    "def normalplot(w,mag,phase):\n",
    "    # plot normal\n",
    "    import matplotlib.pyplot as plt\n",
    "    from IPython.core.pylabtools import figsize\n",
    "    figsize(20,16)\n",
    "    %matplotlib inline\n",
    "\n",
    "    plt.subplot(211)\n",
    "    plt.plot(w, mag)    # Bode magnitude plot\n",
    "    plt.xlabel(\"Frequency (rad/s)\")\n",
    "    plt.ylabel(\"Freq Resp (Magnitude)\")\n",
    "    plt.grid(True)\n",
    "    plt.subplot(212)\n",
    "    plt.plot(w, phase)  # Bode phase plot\n",
    "    plt.xlabel(\"Frequency (rad/s)\")\n",
    "    plt.ylabel(\"Degrees\")\n",
    "    plt.grid(True)\n",
    "    plt.show()\n",
    "    \n",
    "def bodeplot(w,mag,phase):    \n",
    "    # plot normal\n",
    "    import matplotlib.pyplot as plt\n",
    "    from IPython.core.pylabtools import figsize\n",
    "    figsize(20,16)\n",
    "    %matplotlib inline\n",
    "\n",
    "    plt.subplot(211)\n",
    "    plt.semilogx(w, mag)    # Bode magnitude plot\n",
    "    plt.xlabel(\"Frequency (rad/s)\")\n",
    "    plt.ylabel(\"Freq Resp (Magnitude)\")\n",
    "    plt.grid(True)\n",
    "\n",
    "    plt.subplot(212)\n",
    "    plt.semilogx(w, phase)  # Bode phase plot\n",
    "    plt.xlabel(\"Frequency (rad/s)\")\n",
    "    plt.ylabel(\"Phase Diff (Degrees)\")\n",
    "    plt.grid(True)\n",
    "\n",
    "    plt.show()"
   ]
  },
  {
   "cell_type": "markdown",
   "metadata": {},
   "source": [
    "Now visualize the magnitude and frequency in normal and bode plot"
   ]
  },
  {
   "cell_type": "code",
   "execution_count": null,
   "metadata": {},
   "outputs": [],
   "source": [
    "normalplot(w,mag,phase)"
   ]
  },
  {
   "cell_type": "code",
   "execution_count": null,
   "metadata": {},
   "outputs": [],
   "source": [
    "bodeplot(w,mag,phase)"
   ]
  },
  {
   "cell_type": "markdown",
   "metadata": {},
   "source": [
    "## 2 Read measured data, working with MAT files\n",
    "\n",
    "We have data from an experiment. The LungVolume is changing more rapidly (frequency of breath is increasing), based on that we see the output signal - heart rate - which corresponds somehow to the change of breath frequency. The data is stored in file \"CirculatoryControl.mat\".\n",
    "\n",
    "In order to read `.mat`file, there exist DyMat library for Python for reading and exporting files from this data file. If following cell will fail, install it by `pip install DyMat` in python console and run the cell again. See more at https://www.j-raedler.de/projects/dymat/ "
   ]
  },
  {
   "cell_type": "code",
   "execution_count": null,
   "metadata": {},
   "outputs": [],
   "source": [
    "import DyMat"
   ]
  },
  {
   "cell_type": "code",
   "execution_count": null,
   "metadata": {},
   "outputs": [],
   "source": [
    "d = DyMat.DyMatFile(\"CirculatoryControl.mat\")# TASK 2.1 copy the MAT file next to ipynb file and place the filename e.g.'CirculatoryControl.mat'"
   ]
  },
  {
   "cell_type": "markdown",
   "metadata": {},
   "source": [
    "The 'time' variable is stored next to each model variable as abscissa. In order to get time values related to the variable values call `d.abscissa('variable_name',valuesOnly=True)`"
   ]
  },
  {
   "cell_type": "code",
   "execution_count": null,
   "metadata": {},
   "outputs": [],
   "source": [
    "dsize = len(d['LungVolumeChange'])\n",
    "print(dsize)\n",
    "print(\"first 20 elements of 'time' is \")\n",
    "# show first 20 values\n",
    "d.abscissa('LungVolumeChange',valuesOnly=True)[:20]"
   ]
  },
  {
   "cell_type": "code",
   "execution_count": null,
   "metadata": {},
   "outputs": [],
   "source": [
    "# normal plot\n",
    "def plot(x,y,z=None):\n",
    "    %matplotlib inline\n",
    "    import matplotlib.pyplot as plt\n",
    "    fig = plt.figure()\n",
    "    plt.plot(x,y,'r')\n",
    "    if z is not None:\n",
    "        plt.plot(x,z,'b')\n",
    "    plt.grid(True)    \n",
    "    plt.show()\n",
    "    \n",
    "#plot on semilogarithmic on y axis    \n",
    "def logplot(x,y,z=None):\n",
    "    %matplotlib inline\n",
    "    import matplotlib.pyplot as plt\n",
    "    fig = plt.figure()\n",
    "    plt.semilogy(x,y,'r')\n",
    "    if z is not None:\n",
    "        plt.semilogy(x,z,'b')\n",
    "    plt.grid(True)    \n",
    "    plt.show()"
   ]
  },
  {
   "cell_type": "markdown",
   "metadata": {},
   "source": [
    "\n",
    "Now plot `LungVolumeChange`:"
   ]
  },
  {
   "cell_type": "code",
   "execution_count": null,
   "metadata": {},
   "outputs": [],
   "source": [
    "plot(d.abscissa(\"LungVolumeChange\",valuesOnly=True),d[\"LungVolumeChange\"]) # Task 2.2 replace with variable name"
   ]
  },
  {
   "cell_type": "markdown",
   "metadata": {},
   "source": [
    "Now plot heart rate change."
   ]
  },
  {
   "cell_type": "code",
   "execution_count": null,
   "metadata": {},
   "outputs": [],
   "source": [
    "plot(d.abscissa(\"HR\",valuesOnly=True),d[\"HR\"]) # Task 2.3 replace ... with variable containing heart rate change"
   ]
  },
  {
   "cell_type": "markdown",
   "metadata": {},
   "source": [
    "## 3 Curve fitting\n",
    "\n",
    "Parameter estimation method - curve fitting repetition.\n",
    "\n",
    "We create some points arround $f(x)=2.9 \\sin(1.5 x)$ and fit a curve to these points, i.e. estimate parameters of curve. "
   ]
  },
  {
   "cell_type": "code",
   "execution_count": null,
   "metadata": {},
   "outputs": [],
   "source": [
    "import numpy as np\n",
    "\n",
    "# Seed the random number generator for reproducibility\n",
    "np.random.seed(0)\n",
    "\n",
    "x_data = np.linspace(-5, 5, num=50)\n",
    "y_data = 2.9 * np.sin(1.5 * x_data) + 0.5*np.random.normal(size=50) # task 3.1 replace ... so it computesvalues e.g.:2.9 and 1.5\n",
    "\n",
    "# And plot it\n",
    "import matplotlib.pyplot as plt\n",
    "plt.figure(figsize=(6, 4))\n",
    "plt.scatter(x_data, y_data)"
   ]
  },
  {
   "cell_type": "markdown",
   "metadata": {},
   "source": [
    "Now fit simple sine over the random points"
   ]
  },
  {
   "cell_type": "code",
   "execution_count": null,
   "metadata": {},
   "outputs": [],
   "source": [
    "from scipy import optimize\n",
    "\n",
    "def test_func(x, a, b):\n",
    "    return a * np.sin(b * x)\n",
    "\n",
    "params, params_covariance = optimize.curve_fit(test_func, x_data, y_data,\n",
    "                                               p0=[3, 1])\n",
    "\n",
    "print(params)"
   ]
  },
  {
   "cell_type": "markdown",
   "metadata": {},
   "source": [
    "Plot fitted curve over the points"
   ]
  },
  {
   "cell_type": "code",
   "execution_count": null,
   "metadata": {},
   "outputs": [],
   "source": [
    "plt.figure(figsize=(6, 4))\n",
    "plt.scatter(x_data, y_data, label='Data')\n",
    "plt.plot(x_data, test_func(x_data, params[0], params[1]),\n",
    "         label='Fitted function')\n",
    "\n",
    "plt.legend(loc='best')\n",
    "\n",
    "plt.show()"
   ]
  },
  {
   "cell_type": "markdown",
   "metadata": {},
   "source": [
    " "
   ]
  },
  {
   "cell_type": "code",
   "execution_count": null,
   "metadata": {},
   "outputs": [],
   "source": [
    "#Simulate transfer function, implement chirp function $y=\\sin(W_s t + \\frac{(W_e-W_s)t^2}{2 M})$\n",
    "#def chirp(Ws,We,A,M,time):\n",
    "#    return sin(Ws*time+(We-Ws)*t*t/2*M);\n",
    "#def simulatechirp(x,a,b,c,d):\n",
    "#    return simulatettf()"
   ]
  },
  {
   "cell_type": "markdown",
   "metadata": {},
   "source": [
    "## 4 fit measured signal to data\n",
    "\n",
    "The measured signal is stored in variable `chirpSignal.y` which. We try to identify parameters of transfer function, which based on `chirpSignal.y` generates output corresponding to measured heart rate `HR`."
   ]
  },
  {
   "cell_type": "code",
   "execution_count": null,
   "metadata": {},
   "outputs": [],
   "source": [
    "# define routine to simulate transfer function with params a,b,c,d\n",
    "import scipy\n",
    "def simulatettf(a,b,c,d,input,inputtime):\n",
    "    myttf = scipy.signal.lti([a],[b,c,d])\n",
    "    res = myttf.output(input,inputtime)\n",
    "    return res"
   ]
  },
  {
   "cell_type": "code",
   "execution_count": null,
   "metadata": {},
   "outputs": [],
   "source": [
    "# simulate transfer function based on input signal (lung volume) and time points from data d\n",
    "myres = simulatettf(1,0.001,0.03,2,d['chirpSignal.y'],d.abscissa('chirpSignal.y',valuesOnly=True))"
   ]
  },
  {
   "cell_type": "code",
   "execution_count": null,
   "metadata": {},
   "outputs": [],
   "source": [
    "plot(myres[0],myres[1])"
   ]
  },
  {
   "cell_type": "code",
   "execution_count": null,
   "metadata": {},
   "outputs": [],
   "source": [
    "# do curve-fit using least_square method - identify parameters of transfer function, and bode plot of the transfer function \n",
    "\n",
    "def residuals(c, y, t):\n",
    "    return y - simulatettf(c[0],c[1],c[2],c[3],d['chirpSignal.y'],t)[1]\n",
    "x0 = np.array([1, 0.001, 0.03, 2], dtype=float)\n",
    "x = scipy.optimize.least_squares(residuals, x0, args=(d['HR'], d.abscissa('HR',valuesOnly=True)))"
   ]
  },
  {
   "cell_type": "code",
   "execution_count": null,
   "metadata": {},
   "outputs": [],
   "source": [
    "# see whats inside result x\n",
    "x"
   ]
  },
  {
   "cell_type": "code",
   "execution_count": null,
   "metadata": {},
   "outputs": [],
   "source": [
    "myres2 = simulatettf(x.x[0],x.x[1],x.x[2],x.x[3],d['chirpSignal.y'],d.abscissa('chirpSignal.y',valuesOnly=True))\n",
    "#myres2 = simulatettf(1,0.005,0.03,2,d['chirpSignal.y'],d.abscissa('chirpSignal.y',valuesOnly=True))"
   ]
  },
  {
   "cell_type": "code",
   "execution_count": null,
   "metadata": {},
   "outputs": [],
   "source": [
    "# task, replace ... by variable name 'HR' (between quotes)\n",
    "# see how the estimated transfer function fits the measured data of heart rate\n",
    "plot(myres2[0],myres2[1],d[...])\n"
   ]
  },
  {
   "cell_type": "code",
   "execution_count": null,
   "metadata": {},
   "outputs": [],
   "source": [
    "# do normal and bode plot for transfer function\n",
    "s2 = signal.lti([x.x[0]], [x.x[1],x.x[2],x.x[3]]) \n",
    "w, mag, phase = signal.bode(s2,w=w)\n",
    "normalplot(w,mag,phase)\n",
    "bodeplot(w,mag,phase)"
   ]
  },
  {
   "cell_type": "code",
   "execution_count": null,
   "metadata": {},
   "outputs": [],
   "source": [
    "# optional - some other methods from scipy to be usefull - spectrogram\n",
    "#plot(d.abscissa('HR',valuesOnly=True),d['HR'])"
   ]
  },
  {
   "cell_type": "code",
   "execution_count": null,
   "metadata": {},
   "outputs": [],
   "source": [
    "#print (d.abscissa('HR')[0][0],d.abscissa('HR')[0][1])"
   ]
  },
  {
   "cell_type": "code",
   "execution_count": null,
   "metadata": {},
   "outputs": [],
   "source": [
    "#import scipy\n",
    "#s = scipy.signal.spectrogram(d.abscissa('HR',valuesOnly=True),fs=0.6)"
   ]
  },
  {
   "cell_type": "code",
   "execution_count": null,
   "metadata": {},
   "outputs": [],
   "source": [
    "#s"
   ]
  },
  {
   "cell_type": "code",
   "execution_count": null,
   "metadata": {
    "scrolled": true
   },
   "outputs": [],
   "source": [
    "#logplot(s[0],s[2])"
   ]
  },
  {
   "cell_type": "code",
   "execution_count": null,
   "metadata": {},
   "outputs": [],
   "source": []
  }
 ],
 "metadata": {
  "kernelspec": {
   "display_name": "Python 3",
   "language": "python",
   "name": "python3"
  },
  "language_info": {
   "codemirror_mode": {
    "name": "ipython",
    "version": 3
   },
   "file_extension": ".py",
   "mimetype": "text/x-python",
   "name": "python",
   "nbconvert_exporter": "python",
   "pygments_lexer": "ipython3",
   "version": "3.7.6"
  }
 },
 "nbformat": 4,
 "nbformat_minor": 2
}
